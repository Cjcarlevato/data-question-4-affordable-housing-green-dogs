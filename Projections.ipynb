{
 "cells": [
  {
   "cell_type": "code",
   "execution_count": 403,
   "metadata": {},
   "outputs": [],
   "source": [
    "import pandas as pd\n",
    "import matplotlib.pyplot as plt\n",
    "import numpy as np\n",
    "from IPython.display import display, HTML\n",
    "\n",
    "from ipywidgets import interact, interactive, IntSlider, Layout, interact_manual\n",
    "import ipywidgets as widgets\n",
    "from IPython.display import display\n",
    "\n",
    "from IPython.display import Markdown, display\n",
    "def printmd(string):\n",
    "    display(Markdown(string))\n",
    "    \n",
    "from matplotlib import rc\n",
    "\n",
    "\n",
    "%matplotlib inline"
   ]
  },
  {
   "cell_type": "code",
   "execution_count": 2,
   "metadata": {},
   "outputs": [],
   "source": [
    "sf_2009 = pd.read_csv('data/2009SINGLEFAMILYSF.txt')\n",
    "sf_2013 = pd.read_csv('data/2013SINGLEFAMILYSF.txt')\n",
    "sf_2017 = pd.read_csv('data/2017SINGLEFAMILYSF.txt')"
   ]
  },
  {
   "cell_type": "code",
   "execution_count": 3,
   "metadata": {},
   "outputs": [],
   "source": [
    "sf1 = pd.merge(sf_2009, sf_2013, on= 'AddressFullAddress', how = 'outer',suffixes = ('_f','_s'))\n",
    "sf1.columns\n",
    "\n",
    "sf1.rename(columns = {'FinishedArea_f' : '2009_FinishedArea', 'FinishedArea_s' : '2013_FinishedArea'}, inplace = True)\n",
    "\n",
    "sf1['APN']= sf1['APN_f'].where(sf1['APN_s'].isnull(), sf1['APN_s'])\n",
    "sf1['DistrictCode']= sf1['DistrictCode_f'].where(sf1['DistrictCode_s'].isnull(), sf1['DistrictCode_s'])\n",
    "sf1['Council District']= sf1['Council District_f'].where(sf1['Council District_s'].isnull(), sf1['Council District_s'])\n",
    "sf1['AddressCity']= sf1['AddressCity_f'].where(sf1['AddressCity_s'].isnull(), sf1['AddressCity_s'])\n",
    "sf1['AddressPostalCode']= sf1['AddressPostalCode_f'].where(sf1['AddressPostalCode_s'].isnull(), sf1['AddressPostalCode_s'])\n",
    "#sf1['FinishedArea']= sf1['FinishedArea_f'].where(sf1['FinishedArea_s'].isnull(), sf1['FinishedArea_s'])\n",
    "sf1.columns\n",
    "\n",
    "sf1.drop(['APN_f','DistrictCode_f','Council District_f','AddressCity_f',\n",
    "          'AddressPostalCode_f','DistrictCode_s','Council District_s','AddressCity_s','APN_s','AddressPostalCode_s'], axis = 1,inplace = True)\n",
    "\n",
    "final_sf = pd.merge(sf1, sf_2017,on= 'AddressFullAddress', how = 'outer', suffixes = ('_m','_n'),indicator = True)\n",
    "final_sf.columns\n",
    "\n",
    "final_sf.rename(columns = {'FinishedArea': '2017_FinishedArea'}, inplace = True)\n",
    "\n",
    "final_sf['APN']= final_sf['APN_m'].where(final_sf['APN_n'].isnull(), final_sf['APN_n'])\n",
    "final_sf['DistrictCode']= final_sf['DistrictCode_m'].where(final_sf['DistrictCode_n'].isnull(), final_sf['DistrictCode_n'])\n",
    "final_sf['Council District']= final_sf['Council District_m'].where(final_sf['Council District_n'].isnull(), final_sf['Council District_n'])\n",
    "final_sf['AddressCity']= final_sf['AddressCity_m'].where(final_sf['AddressCity_n'].isnull(), final_sf['AddressCity_n'])\n",
    "final_sf['AddressPostalCode']= final_sf['AddressPostalCode_m'].where(final_sf['AddressPostalCode_n'].isnull(), final_sf['AddressPostalCode_n'])\n",
    "#final_sf['FinishedArea']= final_sf['FinishedArea_m'].where(final_sf['FinishedArea_n'].isnull(), final_sf['FinishedArea_n'])\n",
    "\n",
    "\n",
    "final_sf.drop(['APN_m','DistrictCode_m','Council District_m','AddressCity_m',\n",
    "          'AddressPostalCode_m','DistrictCode_n','Council District_n','AddressCity_n','APN_n','AddressPostalCode_n'], axis = 1, inplace = True)\n",
    "final_sf.columns\n",
    "\n",
    "final_sf.drop_duplicates(keep ='first', inplace = True)"
   ]
  },
  {
   "cell_type": "code",
   "execution_count": 4,
   "metadata": {},
   "outputs": [],
   "source": [
    "# Mortgage payment calculation\n",
    "r = 0.04 #Annual interest rate\n",
    "y = 30 #Length of mortgage (years)\n",
    "n = 12*y # Number of monthly payments\n",
    "d = 0.05 # Down payment percentage\n",
    "final_sf['Mortgage_Per_Year_2009'] = 12* (1-d)*final_sf['2009 TOTAL APPR'] * r/12 *(1+r/12)**n / ((1+r/12)**n -1)\n",
    "final_sf['Mortgage_Per_Year_2013'] = 12* (1-d)*final_sf['2013 TOTAL APPR'] * r/12 *(1+r/12)**n / ((1+r/12)**n -1)\n",
    "final_sf['Mortgage_Per_Year_2017'] = 12* (1-d)*final_sf['2017 TOTAL APPR'] * r/12 *(1+r/12)**n / ((1+r/12)**n -1)"
   ]
  },
  {
   "cell_type": "markdown",
   "metadata": {},
   "source": [
    "How many affordable homes for a family of 4 each year?\n",
    "\n",
    "MHI: 2009 - 64900\n",
    "\n",
    "2013 - 62300\n",
    "\n",
    "2017 - 68000"
   ]
  },
  {
   "cell_type": "markdown",
   "metadata": {},
   "source": [
    "MHI overall:\n",
    "\n",
    "2009 - 45668\n",
    "\n",
    "2013 - 47335\n",
    "\n",
    "2017 - 50484"
   ]
  },
  {
   "cell_type": "code",
   "execution_count": 5,
   "metadata": {},
   "outputs": [
    {
     "data": {
      "text/plain": [
       "197589"
      ]
     },
     "execution_count": 5,
     "metadata": {},
     "output_type": "execute_result"
    }
   ],
   "source": [
    "final_sf.loc[final_sf.Mortgage_Per_Year_2017 > 0].shape[0]"
   ]
  },
  {
   "cell_type": "code",
   "execution_count": 6,
   "metadata": {},
   "outputs": [
    {
     "data": {
      "text/html": [
       "<div>\n",
       "<style scoped>\n",
       "    .dataframe tbody tr th:only-of-type {\n",
       "        vertical-align: middle;\n",
       "    }\n",
       "\n",
       "    .dataframe tbody tr th {\n",
       "        vertical-align: top;\n",
       "    }\n",
       "\n",
       "    .dataframe thead th {\n",
       "        text-align: right;\n",
       "    }\n",
       "</style>\n",
       "<table border=\"1\" class=\"dataframe\">\n",
       "  <thead>\n",
       "    <tr style=\"text-align: right;\">\n",
       "      <th></th>\n",
       "      <th>AddressFullAddress</th>\n",
       "      <th>2009 LAND</th>\n",
       "      <th>2009 IMPR</th>\n",
       "      <th>2009 TOTAL APPR</th>\n",
       "      <th>2009 TOTAL ASSD</th>\n",
       "      <th>2009_FinishedArea</th>\n",
       "      <th>2013 LAND</th>\n",
       "      <th>2013 IMPR</th>\n",
       "      <th>2013 TOTAL APPR</th>\n",
       "      <th>2013 TOTAL ASSD</th>\n",
       "      <th>...</th>\n",
       "      <th>2017_FinishedArea</th>\n",
       "      <th>_merge</th>\n",
       "      <th>APN</th>\n",
       "      <th>DistrictCode</th>\n",
       "      <th>Council District</th>\n",
       "      <th>AddressCity</th>\n",
       "      <th>AddressPostalCode</th>\n",
       "      <th>Mortgage_Per_Year_2009</th>\n",
       "      <th>Mortgage_Per_Year_2013</th>\n",
       "      <th>Mortgage_Per_Year_2017</th>\n",
       "    </tr>\n",
       "  </thead>\n",
       "  <tbody>\n",
       "  </tbody>\n",
       "</table>\n",
       "<p>0 rows × 25 columns</p>\n",
       "</div>"
      ],
      "text/plain": [
       "Empty DataFrame\n",
       "Columns: [AddressFullAddress, 2009 LAND, 2009 IMPR, 2009 TOTAL APPR, 2009 TOTAL ASSD, 2009_FinishedArea, 2013 LAND, 2013 IMPR, 2013 TOTAL APPR, 2013 TOTAL ASSD, 2013_FinishedArea, 2017 LAND, 2017 IMPR, 2017 TOTAL APPR, 2017 TOTAL ASSD, 2017_FinishedArea, _merge, APN, DistrictCode, Council District, AddressCity, AddressPostalCode, Mortgage_Per_Year_2009, Mortgage_Per_Year_2013, Mortgage_Per_Year_2017]\n",
       "Index: []\n",
       "\n",
       "[0 rows x 25 columns]"
      ]
     },
     "execution_count": 6,
     "metadata": {},
     "output_type": "execute_result"
    }
   ],
   "source": [
    "final_sf.loc[(final_sf.Mortgage_Per_Year_2009 >0) & (final_sf.Mortgage_Per_Year_2009.isna())]"
   ]
  },
  {
   "cell_type": "code",
   "execution_count": 7,
   "metadata": {},
   "outputs": [],
   "source": [
    "x = [2009, 2013, 2017]\n",
    "y = [135978, 134383, 109993]"
   ]
  },
  {
   "cell_type": "code",
   "execution_count": 8,
   "metadata": {},
   "outputs": [
    {
     "data": {
      "text/plain": [
       "[<matplotlib.lines.Line2D at 0x7fc2656f84a8>]"
      ]
     },
     "execution_count": 8,
     "metadata": {},
     "output_type": "execute_result"
    },
    {
     "data": {
      "image/png": "[encoded data removed]",
      "text/plain": [
       "<Figure size 432x288 with 1 Axes>"
      ]
     },
     "metadata": {},
     "output_type": "display_data"
    }
   ],
   "source": [
    "plt.plot(x,y)"
   ]
  },
  {
   "cell_type": "markdown",
   "metadata": {},
   "source": [
    "Home Price Index Data -  a broad measure of the movement of single-family house prices. The HPI is a weighted, repeat-sales index, meaning that it measures average price changes in repeat sales or refinancings on the same properties.\n",
    "https://www.fhfa.gov/DataTools/Downloads/Pages/House-Price-Index.aspx"
   ]
  },
  {
   "cell_type": "code",
   "execution_count": 9,
   "metadata": {},
   "outputs": [],
   "source": [
    "# Home price index data from the Federal Housing Finance Agency\n",
    "HPI = pd.read_csv('data/Davidson_HPI.csv').rename(columns = {'Annual Change (%)' : 'Annual_Change'})"
   ]
  },
  {
   "cell_type": "code",
   "execution_count": 10,
   "metadata": {},
   "outputs": [],
   "source": [
    "HPI.Annual_Change = pd.to_numeric(HPI.Annual_Change, errors = 'coerce')"
   ]
  },
  {
   "cell_type": "code",
   "execution_count": 11,
   "metadata": {},
   "outputs": [
    {
     "data": {
      "text/html": [
       "<div>\n",
       "<style scoped>\n",
       "    .dataframe tbody tr th:only-of-type {\n",
       "        vertical-align: middle;\n",
       "    }\n",
       "\n",
       "    .dataframe tbody tr th {\n",
       "        vertical-align: top;\n",
       "    }\n",
       "\n",
       "    .dataframe thead th {\n",
       "        text-align: right;\n",
       "    }\n",
       "</style>\n",
       "<table border=\"1\" class=\"dataframe\">\n",
       "  <thead>\n",
       "    <tr style=\"text-align: right;\">\n",
       "      <th></th>\n",
       "      <th>State</th>\n",
       "      <th>County</th>\n",
       "      <th>FIPS code</th>\n",
       "      <th>Year</th>\n",
       "      <th>Annual_Change</th>\n",
       "      <th>HPI</th>\n",
       "      <th>HPI with 1990 base</th>\n",
       "      <th>HPI with 2000 base</th>\n",
       "    </tr>\n",
       "  </thead>\n",
       "  <tbody>\n",
       "    <tr>\n",
       "      <th>0</th>\n",
       "      <td>TN</td>\n",
       "      <td>Davidson</td>\n",
       "      <td>47037</td>\n",
       "      <td>1975</td>\n",
       "      <td>NaN</td>\n",
       "      <td>100.00</td>\n",
       "      <td>39.09</td>\n",
       "      <td>25.65</td>\n",
       "    </tr>\n",
       "    <tr>\n",
       "      <th>1</th>\n",
       "      <td>TN</td>\n",
       "      <td>Davidson</td>\n",
       "      <td>47037</td>\n",
       "      <td>1976</td>\n",
       "      <td>9.43</td>\n",
       "      <td>109.43</td>\n",
       "      <td>42.78</td>\n",
       "      <td>28.07</td>\n",
       "    </tr>\n",
       "    <tr>\n",
       "      <th>2</th>\n",
       "      <td>TN</td>\n",
       "      <td>Davidson</td>\n",
       "      <td>47037</td>\n",
       "      <td>1977</td>\n",
       "      <td>3.29</td>\n",
       "      <td>113.03</td>\n",
       "      <td>44.19</td>\n",
       "      <td>28.99</td>\n",
       "    </tr>\n",
       "    <tr>\n",
       "      <th>3</th>\n",
       "      <td>TN</td>\n",
       "      <td>Davidson</td>\n",
       "      <td>47037</td>\n",
       "      <td>1978</td>\n",
       "      <td>19.07</td>\n",
       "      <td>134.58</td>\n",
       "      <td>52.61</td>\n",
       "      <td>34.52</td>\n",
       "    </tr>\n",
       "    <tr>\n",
       "      <th>4</th>\n",
       "      <td>TN</td>\n",
       "      <td>Davidson</td>\n",
       "      <td>47037</td>\n",
       "      <td>1979</td>\n",
       "      <td>13.86</td>\n",
       "      <td>153.23</td>\n",
       "      <td>59.90</td>\n",
       "      <td>39.31</td>\n",
       "    </tr>\n",
       "  </tbody>\n",
       "</table>\n",
       "</div>"
      ],
      "text/plain": [
       "  State    County  FIPS code  Year  Annual_Change     HPI  HPI with 1990 base  \\\n",
       "0    TN  Davidson      47037  1975            NaN  100.00               39.09   \n",
       "1    TN  Davidson      47037  1976           9.43  109.43               42.78   \n",
       "2    TN  Davidson      47037  1977           3.29  113.03               44.19   \n",
       "3    TN  Davidson      47037  1978          19.07  134.58               52.61   \n",
       "4    TN  Davidson      47037  1979          13.86  153.23               59.90   \n",
       "\n",
       "   HPI with 2000 base  \n",
       "0               25.65  \n",
       "1               28.07  \n",
       "2               28.99  \n",
       "3               34.52  \n",
       "4               39.31  "
      ]
     },
     "execution_count": 11,
     "metadata": {},
     "output_type": "execute_result"
    }
   ],
   "source": [
    "HPI.head()"
   ]
  },
  {
   "cell_type": "code",
   "execution_count": 12,
   "metadata": {},
   "outputs": [],
   "source": [
    "USA_HPI = pd.read_csv('data/USA_HPI.csv').rename(columns = {'Annual Change (%)' : 'Annual_Change'})\n",
    "USA_HPI.Annual_Change = pd.to_numeric(USA_HPI.Annual_Change, errors = 'coerce')"
   ]
  },
  {
   "cell_type": "code",
   "execution_count": 13,
   "metadata": {},
   "outputs": [
    {
     "data": {
      "image/png": "[encoded data removed]",
      "text/plain": [
       "<Figure size 432x288 with 1 Axes>"
      ]
     },
     "metadata": {},
     "output_type": "display_data"
    }
   ],
   "source": [
    "ax = HPI.plot(x = 'Year', y = 'HPI', color = 'blue', label = 'Davidson')\n",
    "_ = USA_HPI.plot(x = 'Year', y = 'HPI', color = 'red', ax = ax, label = 'USA')"
   ]
  },
  {
   "cell_type": "code",
   "execution_count": 14,
   "metadata": {},
   "outputs": [
    {
     "data": {
      "image/png": "[encoded data removed]",
      "text/plain": [
       "<Figure size 432x288 with 1 Axes>"
      ]
     },
     "metadata": {},
     "output_type": "display_data"
    }
   ],
   "source": [
    "ax = HPI.plot(x = 'Year', y = 'Annual_Change', color = 'blue', label = 'Davidson')\n",
    "_ = USA_HPI.plot(x = 'Year', y = 'Annual_Change', color = 'red', ax = ax, label = 'USA')"
   ]
  },
  {
   "cell_type": "code",
   "execution_count": 15,
   "metadata": {},
   "outputs": [
    {
     "data": {
      "text/html": [
       "<div>\n",
       "<style scoped>\n",
       "    .dataframe tbody tr th:only-of-type {\n",
       "        vertical-align: middle;\n",
       "    }\n",
       "\n",
       "    .dataframe tbody tr th {\n",
       "        vertical-align: top;\n",
       "    }\n",
       "\n",
       "    .dataframe thead th {\n",
       "        text-align: right;\n",
       "    }\n",
       "</style>\n",
       "<table border=\"1\" class=\"dataframe\">\n",
       "  <thead>\n",
       "    <tr style=\"text-align: right;\">\n",
       "      <th></th>\n",
       "      <th>State</th>\n",
       "      <th>County</th>\n",
       "      <th>FIPS code</th>\n",
       "      <th>Year</th>\n",
       "      <th>Annual_Change</th>\n",
       "      <th>HPI</th>\n",
       "      <th>HPI with 1990 base</th>\n",
       "      <th>HPI with 2000 base</th>\n",
       "    </tr>\n",
       "  </thead>\n",
       "  <tbody>\n",
       "    <tr>\n",
       "      <th>33</th>\n",
       "      <td>TN</td>\n",
       "      <td>Davidson</td>\n",
       "      <td>47037</td>\n",
       "      <td>2008</td>\n",
       "      <td>0.67</td>\n",
       "      <td>544.63</td>\n",
       "      <td>212.91</td>\n",
       "      <td>139.71</td>\n",
       "    </tr>\n",
       "    <tr>\n",
       "      <th>34</th>\n",
       "      <td>TN</td>\n",
       "      <td>Davidson</td>\n",
       "      <td>47037</td>\n",
       "      <td>2009</td>\n",
       "      <td>-3.53</td>\n",
       "      <td>525.39</td>\n",
       "      <td>205.39</td>\n",
       "      <td>134.77</td>\n",
       "    </tr>\n",
       "    <tr>\n",
       "      <th>35</th>\n",
       "      <td>TN</td>\n",
       "      <td>Davidson</td>\n",
       "      <td>47037</td>\n",
       "      <td>2010</td>\n",
       "      <td>-2.82</td>\n",
       "      <td>510.57</td>\n",
       "      <td>199.59</td>\n",
       "      <td>130.97</td>\n",
       "    </tr>\n",
       "    <tr>\n",
       "      <th>36</th>\n",
       "      <td>TN</td>\n",
       "      <td>Davidson</td>\n",
       "      <td>47037</td>\n",
       "      <td>2011</td>\n",
       "      <td>-2.28</td>\n",
       "      <td>498.91</td>\n",
       "      <td>195.04</td>\n",
       "      <td>127.98</td>\n",
       "    </tr>\n",
       "    <tr>\n",
       "      <th>37</th>\n",
       "      <td>TN</td>\n",
       "      <td>Davidson</td>\n",
       "      <td>47037</td>\n",
       "      <td>2012</td>\n",
       "      <td>-0.08</td>\n",
       "      <td>498.51</td>\n",
       "      <td>194.88</td>\n",
       "      <td>127.88</td>\n",
       "    </tr>\n",
       "    <tr>\n",
       "      <th>38</th>\n",
       "      <td>TN</td>\n",
       "      <td>Davidson</td>\n",
       "      <td>47037</td>\n",
       "      <td>2013</td>\n",
       "      <td>5.17</td>\n",
       "      <td>524.29</td>\n",
       "      <td>204.96</td>\n",
       "      <td>134.49</td>\n",
       "    </tr>\n",
       "    <tr>\n",
       "      <th>39</th>\n",
       "      <td>TN</td>\n",
       "      <td>Davidson</td>\n",
       "      <td>47037</td>\n",
       "      <td>2014</td>\n",
       "      <td>10.08</td>\n",
       "      <td>577.13</td>\n",
       "      <td>225.61</td>\n",
       "      <td>148.04</td>\n",
       "    </tr>\n",
       "    <tr>\n",
       "      <th>40</th>\n",
       "      <td>TN</td>\n",
       "      <td>Davidson</td>\n",
       "      <td>47037</td>\n",
       "      <td>2015</td>\n",
       "      <td>8.92</td>\n",
       "      <td>628.61</td>\n",
       "      <td>245.74</td>\n",
       "      <td>161.25</td>\n",
       "    </tr>\n",
       "    <tr>\n",
       "      <th>41</th>\n",
       "      <td>TN</td>\n",
       "      <td>Davidson</td>\n",
       "      <td>47037</td>\n",
       "      <td>2016</td>\n",
       "      <td>9.71</td>\n",
       "      <td>689.65</td>\n",
       "      <td>269.60</td>\n",
       "      <td>176.91</td>\n",
       "    </tr>\n",
       "    <tr>\n",
       "      <th>42</th>\n",
       "      <td>TN</td>\n",
       "      <td>Davidson</td>\n",
       "      <td>47037</td>\n",
       "      <td>2017</td>\n",
       "      <td>10.28</td>\n",
       "      <td>760.55</td>\n",
       "      <td>297.32</td>\n",
       "      <td>195.10</td>\n",
       "    </tr>\n",
       "  </tbody>\n",
       "</table>\n",
       "</div>"
      ],
      "text/plain": [
       "   State    County  FIPS code  Year  Annual_Change     HPI  \\\n",
       "33    TN  Davidson      47037  2008           0.67  544.63   \n",
       "34    TN  Davidson      47037  2009          -3.53  525.39   \n",
       "35    TN  Davidson      47037  2010          -2.82  510.57   \n",
       "36    TN  Davidson      47037  2011          -2.28  498.91   \n",
       "37    TN  Davidson      47037  2012          -0.08  498.51   \n",
       "38    TN  Davidson      47037  2013           5.17  524.29   \n",
       "39    TN  Davidson      47037  2014          10.08  577.13   \n",
       "40    TN  Davidson      47037  2015           8.92  628.61   \n",
       "41    TN  Davidson      47037  2016           9.71  689.65   \n",
       "42    TN  Davidson      47037  2017          10.28  760.55   \n",
       "\n",
       "    HPI with 1990 base  HPI with 2000 base  \n",
       "33              212.91              139.71  \n",
       "34              205.39              134.77  \n",
       "35              199.59              130.97  \n",
       "36              195.04              127.98  \n",
       "37              194.88              127.88  \n",
       "38              204.96              134.49  \n",
       "39              225.61              148.04  \n",
       "40              245.74              161.25  \n",
       "41              269.60              176.91  \n",
       "42              297.32              195.10  "
      ]
     },
     "execution_count": 15,
     "metadata": {},
     "output_type": "execute_result"
    }
   ],
   "source": [
    "HPI.tail(10)"
   ]
  },
  {
   "cell_type": "code",
   "execution_count": 16,
   "metadata": {},
   "outputs": [
    {
     "data": {
      "text/plain": [
       "5.051428571428572"
      ]
     },
     "execution_count": 16,
     "metadata": {},
     "output_type": "execute_result"
    }
   ],
   "source": [
    "#Average annual growth in home prices in Davidson County since 1975:\n",
    "HPI.Annual_Change.mean()"
   ]
  },
  {
   "cell_type": "code",
   "execution_count": 17,
   "metadata": {},
   "outputs": [
    {
     "data": {
      "text/plain": [
       "9.7475"
      ]
     },
     "execution_count": 17,
     "metadata": {},
     "output_type": "execute_result"
    }
   ],
   "source": [
    "#Average annual growth in home prices in Davidson County since 2014:\n",
    "HPI.loc[HPI.Year >= 2014].Annual_Change.mean()"
   ]
  },
  {
   "cell_type": "code",
   "execution_count": 18,
   "metadata": {},
   "outputs": [
    {
     "data": {
      "text/plain": [
       "8.832"
      ]
     },
     "execution_count": 18,
     "metadata": {},
     "output_type": "execute_result"
    }
   ],
   "source": [
    "#Average annual growth since 2013 (when prices started going up)\n",
    "HPI.loc[HPI.Year >= 2013].Annual_Change.mean()"
   ]
  },
  {
   "cell_type": "code",
   "execution_count": null,
   "metadata": {},
   "outputs": [],
   "source": []
  },
  {
   "cell_type": "code",
   "execution_count": null,
   "metadata": {},
   "outputs": [],
   "source": []
  },
  {
   "cell_type": "code",
   "execution_count": 23,
   "metadata": {},
   "outputs": [],
   "source": [
    "meds = pd.read_csv('data/Medinc.csv')"
   ]
  },
  {
   "cell_type": "code",
   "execution_count": 25,
   "metadata": {},
   "outputs": [],
   "source": [
    "meds.MHITN47037A052NCEN = pd.to_numeric(meds.MHITN47037A052NCEN, errors = 'coerce')\n",
    "meds['Growth'] = 100*(meds.MHITN47037A052NCEN - meds.MHITN47037A052NCEN.shift(1)) / meds.MHITN47037A052NCEN.shift(1)"
   ]
  },
  {
   "cell_type": "code",
   "execution_count": 26,
   "metadata": {},
   "outputs": [],
   "source": [
    "meds[\"Year\"] = meds.DATE.apply(lambda x: pd.to_numeric(x[:4]))"
   ]
  },
  {
   "cell_type": "code",
   "execution_count": null,
   "metadata": {},
   "outputs": [],
   "source": []
  },
  {
   "cell_type": "code",
   "execution_count": 31,
   "metadata": {},
   "outputs": [
    {
     "data": {
      "text/plain": [
       "<matplotlib.axes._subplots.AxesSubplot at 0x7fc23e361320>"
      ]
     },
     "execution_count": 31,
     "metadata": {},
     "output_type": "execute_result"
    },
    {
     "data": {
      "image/png": "[encoded data removed]",
      "text/plain": [
       "<Figure size 432x288 with 1 Axes>"
      ]
     },
     "metadata": {},
     "output_type": "display_data"
    }
   ],
   "source": [
    "meds.loc[meds.Year >= 1997].plot(x = 'Year', y = 'MHITN47037A052NCEN')"
   ]
  },
  {
   "cell_type": "code",
   "execution_count": 32,
   "metadata": {},
   "outputs": [
    {
     "data": {
      "image/png": "[encoded data removed]",
      "text/plain": [
       "<Figure size 864x432 with 1 Axes>"
      ]
     },
     "metadata": {},
     "output_type": "display_data"
    }
   ],
   "source": [
    "ax = meds.loc[meds.Year >= 2000].plot(x = 'Year', y = 'Growth', label = 'Change in Median Income', color = 'red', figsize=(12, 6))\n",
    "_ = HPI.loc[HPI.Year >= 2000].plot(x = 'Year', y = 'Annual_Change', color = 'blue', label = 'Change in Home Prices', ax = ax)"
   ]
  },
  {
   "cell_type": "code",
   "execution_count": 125,
   "metadata": {},
   "outputs": [
    {
     "data": {
      "text/html": [
       "<div>\n",
       "<style scoped>\n",
       "    .dataframe tbody tr th:only-of-type {\n",
       "        vertical-align: middle;\n",
       "    }\n",
       "\n",
       "    .dataframe tbody tr th {\n",
       "        vertical-align: top;\n",
       "    }\n",
       "\n",
       "    .dataframe thead th {\n",
       "        text-align: right;\n",
       "    }\n",
       "</style>\n",
       "<table border=\"1\" class=\"dataframe\">\n",
       "  <thead>\n",
       "    <tr style=\"text-align: right;\">\n",
       "      <th></th>\n",
       "      <th>DATE</th>\n",
       "      <th>MHITN47037A052NCEN</th>\n",
       "      <th>Growth</th>\n",
       "      <th>Year</th>\n",
       "    </tr>\n",
       "  </thead>\n",
       "  <tbody>\n",
       "    <tr>\n",
       "      <th>20</th>\n",
       "      <td>2009-01-01</td>\n",
       "      <td>46249.0</td>\n",
       "      <td>-0.353349</td>\n",
       "      <td>2009</td>\n",
       "    </tr>\n",
       "    <tr>\n",
       "      <th>21</th>\n",
       "      <td>2010-01-01</td>\n",
       "      <td>43825.0</td>\n",
       "      <td>-5.241194</td>\n",
       "      <td>2010</td>\n",
       "    </tr>\n",
       "    <tr>\n",
       "      <th>22</th>\n",
       "      <td>2011-01-01</td>\n",
       "      <td>43893.0</td>\n",
       "      <td>0.155163</td>\n",
       "      <td>2011</td>\n",
       "    </tr>\n",
       "    <tr>\n",
       "      <th>23</th>\n",
       "      <td>2012-01-01</td>\n",
       "      <td>44864.0</td>\n",
       "      <td>2.212198</td>\n",
       "      <td>2012</td>\n",
       "    </tr>\n",
       "    <tr>\n",
       "      <th>24</th>\n",
       "      <td>2013-01-01</td>\n",
       "      <td>47239.0</td>\n",
       "      <td>5.293777</td>\n",
       "      <td>2013</td>\n",
       "    </tr>\n",
       "    <tr>\n",
       "      <th>25</th>\n",
       "      <td>2014-01-01</td>\n",
       "      <td>48195.0</td>\n",
       "      <td>2.023752</td>\n",
       "      <td>2014</td>\n",
       "    </tr>\n",
       "    <tr>\n",
       "      <th>26</th>\n",
       "      <td>2015-01-01</td>\n",
       "      <td>51999.0</td>\n",
       "      <td>7.892935</td>\n",
       "      <td>2015</td>\n",
       "    </tr>\n",
       "    <tr>\n",
       "      <th>27</th>\n",
       "      <td>2016-01-01</td>\n",
       "      <td>54666.0</td>\n",
       "      <td>5.128945</td>\n",
       "      <td>2016</td>\n",
       "    </tr>\n",
       "  </tbody>\n",
       "</table>\n",
       "</div>"
      ],
      "text/plain": [
       "          DATE  MHITN47037A052NCEN    Growth  Year\n",
       "20  2009-01-01             46249.0 -0.353349  2009\n",
       "21  2010-01-01             43825.0 -5.241194  2010\n",
       "22  2011-01-01             43893.0  0.155163  2011\n",
       "23  2012-01-01             44864.0  2.212198  2012\n",
       "24  2013-01-01             47239.0  5.293777  2013\n",
       "25  2014-01-01             48195.0  2.023752  2014\n",
       "26  2015-01-01             51999.0  7.892935  2015\n",
       "27  2016-01-01             54666.0  5.128945  2016"
      ]
     },
     "execution_count": 125,
     "metadata": {},
     "output_type": "execute_result"
    }
   ],
   "source": [
    "meds.tail(8)"
   ]
  },
  {
   "cell_type": "code",
   "execution_count": 121,
   "metadata": {},
   "outputs": [
    {
     "data": {
      "text/plain": [
       "1.8499021736866526"
      ]
     },
     "execution_count": 121,
     "metadata": {},
     "output_type": "execute_result"
    }
   ],
   "source": [
    "meds.Growth.mean()"
   ]
  },
  {
   "cell_type": "code",
   "execution_count": 229,
   "metadata": {},
   "outputs": [
    {
     "data": {
      "text/plain": [
       "5.084852011967955"
      ]
     },
     "execution_count": 229,
     "metadata": {},
     "output_type": "execute_result"
    }
   ],
   "source": [
    "# Avg income growth since 2012\n",
    "meds.loc[meds.Year >= 2013].Growth.mean()"
   ]
  },
  {
   "cell_type": "code",
   "execution_count": 34,
   "metadata": {},
   "outputs": [
    {
     "data": {
      "text/html": [
       "<div>\n",
       "<style scoped>\n",
       "    .dataframe tbody tr th:only-of-type {\n",
       "        vertical-align: middle;\n",
       "    }\n",
       "\n",
       "    .dataframe tbody tr th {\n",
       "        vertical-align: top;\n",
       "    }\n",
       "\n",
       "    .dataframe thead th {\n",
       "        text-align: right;\n",
       "    }\n",
       "</style>\n",
       "<table border=\"1\" class=\"dataframe\">\n",
       "  <thead>\n",
       "    <tr style=\"text-align: right;\">\n",
       "      <th></th>\n",
       "      <th>State</th>\n",
       "      <th>County</th>\n",
       "      <th>FIPS code</th>\n",
       "      <th>Year</th>\n",
       "      <th>Annual_Change</th>\n",
       "      <th>HPI</th>\n",
       "      <th>HPI with 1990 base</th>\n",
       "      <th>HPI with 2000 base</th>\n",
       "    </tr>\n",
       "  </thead>\n",
       "  <tbody>\n",
       "    <tr>\n",
       "      <th>38</th>\n",
       "      <td>TN</td>\n",
       "      <td>Davidson</td>\n",
       "      <td>47037</td>\n",
       "      <td>2013</td>\n",
       "      <td>5.17</td>\n",
       "      <td>524.29</td>\n",
       "      <td>204.96</td>\n",
       "      <td>134.49</td>\n",
       "    </tr>\n",
       "    <tr>\n",
       "      <th>39</th>\n",
       "      <td>TN</td>\n",
       "      <td>Davidson</td>\n",
       "      <td>47037</td>\n",
       "      <td>2014</td>\n",
       "      <td>10.08</td>\n",
       "      <td>577.13</td>\n",
       "      <td>225.61</td>\n",
       "      <td>148.04</td>\n",
       "    </tr>\n",
       "    <tr>\n",
       "      <th>40</th>\n",
       "      <td>TN</td>\n",
       "      <td>Davidson</td>\n",
       "      <td>47037</td>\n",
       "      <td>2015</td>\n",
       "      <td>8.92</td>\n",
       "      <td>628.61</td>\n",
       "      <td>245.74</td>\n",
       "      <td>161.25</td>\n",
       "    </tr>\n",
       "    <tr>\n",
       "      <th>41</th>\n",
       "      <td>TN</td>\n",
       "      <td>Davidson</td>\n",
       "      <td>47037</td>\n",
       "      <td>2016</td>\n",
       "      <td>9.71</td>\n",
       "      <td>689.65</td>\n",
       "      <td>269.60</td>\n",
       "      <td>176.91</td>\n",
       "    </tr>\n",
       "    <tr>\n",
       "      <th>42</th>\n",
       "      <td>TN</td>\n",
       "      <td>Davidson</td>\n",
       "      <td>47037</td>\n",
       "      <td>2017</td>\n",
       "      <td>10.28</td>\n",
       "      <td>760.55</td>\n",
       "      <td>297.32</td>\n",
       "      <td>195.10</td>\n",
       "    </tr>\n",
       "  </tbody>\n",
       "</table>\n",
       "</div>"
      ],
      "text/plain": [
       "   State    County  FIPS code  Year  Annual_Change     HPI  \\\n",
       "38    TN  Davidson      47037  2013           5.17  524.29   \n",
       "39    TN  Davidson      47037  2014          10.08  577.13   \n",
       "40    TN  Davidson      47037  2015           8.92  628.61   \n",
       "41    TN  Davidson      47037  2016           9.71  689.65   \n",
       "42    TN  Davidson      47037  2017          10.28  760.55   \n",
       "\n",
       "    HPI with 1990 base  HPI with 2000 base  \n",
       "38              204.96              134.49  \n",
       "39              225.61              148.04  \n",
       "40              245.74              161.25  \n",
       "41              269.60              176.91  \n",
       "42              297.32              195.10  "
      ]
     },
     "execution_count": 34,
     "metadata": {},
     "output_type": "execute_result"
    }
   ],
   "source": [
    "HPI.tail()"
   ]
  },
  {
   "cell_type": "code",
   "execution_count": 35,
   "metadata": {},
   "outputs": [],
   "source": [
    "pop = pd.read_csv('data/Pop.csv')"
   ]
  },
  {
   "cell_type": "code",
   "execution_count": 36,
   "metadata": {},
   "outputs": [
    {
     "data": {
      "text/html": [
       "<div>\n",
       "<style scoped>\n",
       "    .dataframe tbody tr th:only-of-type {\n",
       "        vertical-align: middle;\n",
       "    }\n",
       "\n",
       "    .dataframe tbody tr th {\n",
       "        vertical-align: top;\n",
       "    }\n",
       "\n",
       "    .dataframe thead th {\n",
       "        text-align: right;\n",
       "    }\n",
       "</style>\n",
       "<table border=\"1\" class=\"dataframe\">\n",
       "  <thead>\n",
       "    <tr style=\"text-align: right;\">\n",
       "      <th></th>\n",
       "      <th>DATE</th>\n",
       "      <th>TNDAVI5POP</th>\n",
       "    </tr>\n",
       "  </thead>\n",
       "  <tbody>\n",
       "    <tr>\n",
       "      <th>0</th>\n",
       "      <td>1970-01-01</td>\n",
       "      <td>447.877</td>\n",
       "    </tr>\n",
       "  </tbody>\n",
       "</table>\n",
       "</div>"
      ],
      "text/plain": [
       "         DATE  TNDAVI5POP\n",
       "0  1970-01-01     447.877"
      ]
     },
     "execution_count": 36,
     "metadata": {},
     "output_type": "execute_result"
    }
   ],
   "source": [
    "pop.head(1)"
   ]
  },
  {
   "cell_type": "code",
   "execution_count": 37,
   "metadata": {},
   "outputs": [
    {
     "data": {
      "text/html": [
       "<div>\n",
       "<style scoped>\n",
       "    .dataframe tbody tr th:only-of-type {\n",
       "        vertical-align: middle;\n",
       "    }\n",
       "\n",
       "    .dataframe tbody tr th {\n",
       "        vertical-align: top;\n",
       "    }\n",
       "\n",
       "    .dataframe thead th {\n",
       "        text-align: right;\n",
       "    }\n",
       "</style>\n",
       "<table border=\"1\" class=\"dataframe\">\n",
       "  <thead>\n",
       "    <tr style=\"text-align: right;\">\n",
       "      <th></th>\n",
       "      <th>DATE</th>\n",
       "      <th>TNDAVI5POP</th>\n",
       "    </tr>\n",
       "  </thead>\n",
       "  <tbody>\n",
       "    <tr>\n",
       "      <th>43</th>\n",
       "      <td>2013-01-01</td>\n",
       "      <td>659.868</td>\n",
       "    </tr>\n",
       "    <tr>\n",
       "      <th>44</th>\n",
       "      <td>2014-01-01</td>\n",
       "      <td>670.314</td>\n",
       "    </tr>\n",
       "    <tr>\n",
       "      <th>45</th>\n",
       "      <td>2015-01-01</td>\n",
       "      <td>681.285</td>\n",
       "    </tr>\n",
       "    <tr>\n",
       "      <th>46</th>\n",
       "      <td>2016-01-01</td>\n",
       "      <td>688.901</td>\n",
       "    </tr>\n",
       "    <tr>\n",
       "      <th>47</th>\n",
       "      <td>2017-01-01</td>\n",
       "      <td>691.243</td>\n",
       "    </tr>\n",
       "  </tbody>\n",
       "</table>\n",
       "</div>"
      ],
      "text/plain": [
       "          DATE  TNDAVI5POP\n",
       "43  2013-01-01     659.868\n",
       "44  2014-01-01     670.314\n",
       "45  2015-01-01     681.285\n",
       "46  2016-01-01     688.901\n",
       "47  2017-01-01     691.243"
      ]
     },
     "execution_count": 37,
     "metadata": {},
     "output_type": "execute_result"
    }
   ],
   "source": [
    "pop.tail(5)"
   ]
  },
  {
   "cell_type": "code",
   "execution_count": 38,
   "metadata": {},
   "outputs": [],
   "source": [
    "pop['Annual_Change'] = 100*(pop.TNDAVI5POP - pop.TNDAVI5POP.shift(1)) / pop.TNDAVI5POP.shift(1)\n",
    "pop['Year'] = pop.DATE.apply(lambda x: pd.to_numeric(x[:4]))"
   ]
  },
  {
   "cell_type": "code",
   "execution_count": 39,
   "metadata": {},
   "outputs": [
    {
     "data": {
      "text/plain": [
       "0.9276223442135967"
      ]
     },
     "execution_count": 39,
     "metadata": {},
     "output_type": "execute_result"
    }
   ],
   "source": [
    "#Annual Change in population since 1970:\n",
    "100*((691.243/447.877)**(1/(2017 - 1970)) -1)"
   ]
  },
  {
   "cell_type": "code",
   "execution_count": 40,
   "metadata": {},
   "outputs": [
    {
     "data": {
      "text/plain": [
       "1.2602236870830557"
      ]
     },
     "execution_count": 40,
     "metadata": {},
     "output_type": "execute_result"
    }
   ],
   "source": [
    "#Avg Change in population since 2013:\n",
    "pop.loc[pop.Year >= 2013].Annual_Change.mean()"
   ]
  },
  {
   "cell_type": "code",
   "execution_count": 273,
   "metadata": {},
   "outputs": [],
   "source": [
    "# Number of Davidson County households (from the census bureau)\n",
    "\n",
    "total_hh = pd.DataFrame({'Year' : [2009, 2010, 2011, 2012, 2013, 2014, 2015, 2016, 2017],\n",
    "                        'Households': [255290, 249899, 254655, 258465, 261571, 267952, 274187, 281967, 283929]})\n"
   ]
  },
  {
   "cell_type": "code",
   "execution_count": 274,
   "metadata": {},
   "outputs": [],
   "source": [
    "total_hh['Annual_Change'] = 100* ((total_hh.Households - total_hh.Households.shift(1)) / total_hh.Households.shift(1))"
   ]
  },
  {
   "cell_type": "code",
   "execution_count": 276,
   "metadata": {},
   "outputs": [
    {
     "data": {
      "text/plain": [
       "1.3486262848687574"
      ]
     },
     "execution_count": 276,
     "metadata": {},
     "output_type": "execute_result"
    }
   ],
   "source": [
    "#Avg growth in # households since 2009:\n",
    "total_hh.Annual_Change.mean()"
   ]
  },
  {
   "cell_type": "code",
   "execution_count": 275,
   "metadata": {},
   "outputs": [
    {
     "data": {
      "text/plain": [
       "1.9002831294701044"
      ]
     },
     "execution_count": 275,
     "metadata": {},
     "output_type": "execute_result"
    }
   ],
   "source": [
    "#Avg growth in # households since 2013\n",
    "total_hh.loc[total_hh.Year >= 2013].Annual_Change.mean()"
   ]
  },
  {
   "cell_type": "code",
   "execution_count": 185,
   "metadata": {},
   "outputs": [
    {
     "data": {
      "text/plain": [
       "330075.1873043085"
      ]
     },
     "execution_count": 185,
     "metadata": {},
     "output_type": "execute_result"
    }
   ],
   "source": [
    "proj_hh_high = 283929* (1.019002831294701044)**8\n",
    "proj_hh_high"
   ]
  },
  {
   "cell_type": "code",
   "execution_count": 187,
   "metadata": {},
   "outputs": [
    {
     "data": {
      "text/plain": [
       "316047.73682842136"
      ]
     },
     "execution_count": 187,
     "metadata": {},
     "output_type": "execute_result"
    }
   ],
   "source": [
    "proj_hh_avg = 283929 * (1.013486262848687574)**8\n",
    "proj_hh_avg"
   ]
  },
  {
   "cell_type": "code",
   "execution_count": 189,
   "metadata": {},
   "outputs": [
    {
     "data": {
      "text/plain": [
       "307454.42157227517"
      ]
     },
     "execution_count": 189,
     "metadata": {},
     "output_type": "execute_result"
    }
   ],
   "source": [
    "# 1% growth (average growth since 1970)\n",
    "proj_hh_low =  283929 * (1.01)**8\n",
    "proj_hh_low"
   ]
  },
  {
   "cell_type": "code",
   "execution_count": null,
   "metadata": {},
   "outputs": [],
   "source": []
  },
  {
   "cell_type": "code",
   "execution_count": 41,
   "metadata": {},
   "outputs": [],
   "source": [
    "final_sf_trimmed = final_sf.loc[(final_sf['2017 IMPR'] >= final_sf['2017 LAND']) | (final_sf['Mortgage_Per_Year_2017'].isna())]"
   ]
  },
  {
   "cell_type": "code",
   "execution_count": 82,
   "metadata": {},
   "outputs": [
    {
     "data": {
      "text/plain": [
       "0.7394931477050251"
      ]
     },
     "execution_count": 82,
     "metadata": {},
     "output_type": "execute_result"
    }
   ],
   "source": [
    "# Percentage of affordable homes (family of 4) in 2009:\n",
    "final_sf.loc[(final_sf.Mortgage_Per_Year_2009 < 64900 * 0.6 * 0.3)].shape[0] / final_sf.loc[(final_sf.Mortgage_Per_Year_2009 >0)].shape[0]"
   ]
  },
  {
   "cell_type": "code",
   "execution_count": 83,
   "metadata": {},
   "outputs": [
    {
     "data": {
      "text/plain": [
       "0.719599243896823"
      ]
     },
     "execution_count": 83,
     "metadata": {},
     "output_type": "execute_result"
    }
   ],
   "source": [
    "# Percentage of affordable homes (family of 4) in 2013:\n",
    "final_sf.loc[final_sf.Mortgage_Per_Year_2013 < 62300 * 0.6 * 0.3].shape[0] / final_sf.loc[final_sf.Mortgage_Per_Year_2013 > 0].shape[0]"
   ]
  },
  {
   "cell_type": "code",
   "execution_count": 84,
   "metadata": {},
   "outputs": [
    {
     "data": {
      "text/plain": [
       "0.5654306955382099"
      ]
     },
     "execution_count": 84,
     "metadata": {},
     "output_type": "execute_result"
    }
   ],
   "source": [
    "# Percentage of affordable homes (family of 4) in 2017:\n",
    "final_sf_trimmed.loc[final_sf_trimmed.Mortgage_Per_Year_2017 < 68000 * 0.6 * 0.3].shape[0] / final_sf_trimmed.loc[final_sf_trimmed.Mortgage_Per_Year_2017 > 0].shape[0]"
   ]
  },
  {
   "cell_type": "markdown",
   "metadata": {},
   "source": [
    "There is a major drop in the percentage of affordable single family homes from 2013 to 2017."
   ]
  },
  {
   "cell_type": "code",
   "execution_count": null,
   "metadata": {},
   "outputs": [],
   "source": []
  },
  {
   "cell_type": "code",
   "execution_count": 85,
   "metadata": {},
   "outputs": [
    {
     "data": {
      "text/plain": [
       "183880"
      ]
     },
     "execution_count": 85,
     "metadata": {},
     "output_type": "execute_result"
    }
   ],
   "source": [
    "#Total number of single family homes in 2009:\n",
    "final_sf.loc[(final_sf.Mortgage_Per_Year_2009 >0)].shape[0]"
   ]
  },
  {
   "cell_type": "code",
   "execution_count": 86,
   "metadata": {},
   "outputs": [
    {
     "data": {
      "text/plain": [
       "186747"
      ]
     },
     "execution_count": 86,
     "metadata": {},
     "output_type": "execute_result"
    }
   ],
   "source": [
    "#Total number of single family homes in 2013:\n",
    "final_sf.loc[final_sf.Mortgage_Per_Year_2013 > 0].shape[0]"
   ]
  },
  {
   "cell_type": "code",
   "execution_count": 88,
   "metadata": {},
   "outputs": [
    {
     "data": {
      "text/plain": [
       "197589"
      ]
     },
     "execution_count": 88,
     "metadata": {},
     "output_type": "execute_result"
    }
   ],
   "source": [
    "#Number of single family homes in 2017:\n",
    "final_sf.loc[final_sf.Mortgage_Per_Year_2017 > 0].shape[0]"
   ]
  },
  {
   "cell_type": "code",
   "execution_count": 190,
   "metadata": {},
   "outputs": [
    {
     "data": {
      "text/plain": [
       "0.9028733429464308"
      ]
     },
     "execution_count": 190,
     "metadata": {},
     "output_type": "execute_result"
    }
   ],
   "source": [
    "#Annual growth in # of sf homes, 2009 - 2017:\n",
    "100* ((final_sf.loc[final_sf.Mortgage_Per_Year_2017 > 0].shape[0] / final_sf.loc[final_sf.Mortgage_Per_Year_2009 > 0].shape[0])**(1/8) - 1)"
   ]
  },
  {
   "cell_type": "code",
   "execution_count": 91,
   "metadata": {},
   "outputs": [
    {
     "data": {
      "text/plain": [
       "1.4208584885899933"
      ]
     },
     "execution_count": 91,
     "metadata": {},
     "output_type": "execute_result"
    }
   ],
   "source": [
    "#Annual growth in # of sf homes, 2013 - 2017:\n",
    "100* ((final_sf.loc[final_sf.Mortgage_Per_Year_2017 > 0].shape[0] / final_sf.loc[final_sf.Mortgage_Per_Year_2013 > 0].shape[0])**(1/4) - 1)"
   ]
  },
  {
   "cell_type": "markdown",
   "metadata": {},
   "source": []
  },
  {
   "cell_type": "markdown",
   "metadata": {},
   "source": [
    "Compare with permits data:"
   ]
  },
  {
   "cell_type": "code",
   "execution_count": 104,
   "metadata": {},
   "outputs": [
    {
     "name": "stderr",
     "output_type": "stream",
     "text": [
      "/home/michael/anaconda3/lib/python3.6/site-packages/IPython/core/interactiveshell.py:2785: DtypeWarning: Columns (0) have mixed types. Specify dtype option on import or set low_memory=False.\n",
      "  interactivity=interactivity, compiler=compiler, result=result)\n"
     ]
    }
   ],
   "source": [
    "bp = pd.read_csv('data/Building_Permits_Issued.csv')"
   ]
  },
  {
   "cell_type": "code",
   "execution_count": 106,
   "metadata": {},
   "outputs": [
    {
     "data": {
      "text/plain": [
       "10039"
      ]
     },
     "execution_count": 106,
     "metadata": {},
     "output_type": "execute_result"
    }
   ],
   "source": [
    "new_res = bp.loc[(bp['Permit Type'] == 'CARN') & (bp['Permit Subtype'] == 'CAA01R301')]\n",
    "new_res.shape[0]"
   ]
  },
  {
   "cell_type": "code",
   "execution_count": 107,
   "metadata": {},
   "outputs": [
    {
     "data": {
      "text/plain": [
       "2783"
      ]
     },
     "execution_count": 107,
     "metadata": {},
     "output_type": "execute_result"
    }
   ],
   "source": [
    "demo_res = bp.loc[(bp['Permit Subtype'] == 'CAZ01A001')]\n",
    "demo_res.shape[0]"
   ]
  },
  {
   "cell_type": "code",
   "execution_count": 109,
   "metadata": {},
   "outputs": [],
   "source": [
    "bp['Date Issued'] = pd.to_datetime(bp['Date Issued'])"
   ]
  },
  {
   "cell_type": "code",
   "execution_count": 114,
   "metadata": {},
   "outputs": [
    {
     "data": {
      "text/html": [
       "<div>\n",
       "<style scoped>\n",
       "    .dataframe tbody tr th:only-of-type {\n",
       "        vertical-align: middle;\n",
       "    }\n",
       "\n",
       "    .dataframe tbody tr th {\n",
       "        vertical-align: top;\n",
       "    }\n",
       "\n",
       "    .dataframe thead th {\n",
       "        text-align: right;\n",
       "    }\n",
       "</style>\n",
       "<table border=\"1\" class=\"dataframe\">\n",
       "  <thead>\n",
       "    <tr style=\"text-align: right;\">\n",
       "      <th></th>\n",
       "      <th>Permit #</th>\n",
       "      <th>Permit Type Description</th>\n",
       "      <th>Permit Subtype Description</th>\n",
       "      <th>Parcel</th>\n",
       "      <th>Date Entered</th>\n",
       "      <th>Date Issued</th>\n",
       "      <th>Const. Cost</th>\n",
       "      <th>Address</th>\n",
       "      <th>City</th>\n",
       "      <th>State</th>\n",
       "      <th>Zip</th>\n",
       "      <th>Subdivision/Lot</th>\n",
       "      <th>Contact</th>\n",
       "      <th>Permit Type</th>\n",
       "      <th>Permit Subtype</th>\n",
       "      <th>IVR Trk#</th>\n",
       "      <th>Purpose</th>\n",
       "      <th>Council Dist</th>\n",
       "      <th>Census Tract</th>\n",
       "      <th>Mapped Location</th>\n",
       "    </tr>\n",
       "  </thead>\n",
       "  <tbody>\n",
       "    <tr>\n",
       "      <th>98</th>\n",
       "      <td>201528809</td>\n",
       "      <td>Building Commercial - Rehab</td>\n",
       "      <td>Medical Office, Professional Services</td>\n",
       "      <td>103140B20000CO</td>\n",
       "      <td>07/09/2015</td>\n",
       "      <td>2015-09-03</td>\n",
       "      <td>489000.0</td>\n",
       "      <td>85  WHITE BRIDGE PIKE  200</td>\n",
       "      <td>NASHVILLE</td>\n",
       "      <td>TN</td>\n",
       "      <td>37205</td>\n",
       "      <td>UNIT 200 85 WHITE BRIDGE ROAD CONDOMINIUM 1ST ...</td>\n",
       "      <td>Dyer Construction Llc</td>\n",
       "      <td>CACR</td>\n",
       "      <td>CAE04B016</td>\n",
       "      <td>2055816</td>\n",
       "      <td>renovation on existing building FOR TSC VASCUL...</td>\n",
       "      <td>24.0</td>\n",
       "      <td>37018102.0</td>\n",
       "      <td>85 WHITE BRIDGE PIKE 200\\nNASHVILLE, TN 37205\\n</td>\n",
       "    </tr>\n",
       "  </tbody>\n",
       "</table>\n",
       "</div>"
      ],
      "text/plain": [
       "     Permit #      Permit Type Description  \\\n",
       "98  201528809  Building Commercial - Rehab   \n",
       "\n",
       "               Permit Subtype Description          Parcel Date Entered  \\\n",
       "98  Medical Office, Professional Services  103140B20000CO   07/09/2015   \n",
       "\n",
       "   Date Issued  Const. Cost                     Address       City State  \\\n",
       "98  2015-09-03     489000.0  85  WHITE BRIDGE PIKE  200  NASHVILLE    TN   \n",
       "\n",
       "      Zip                                    Subdivision/Lot  \\\n",
       "98  37205  UNIT 200 85 WHITE BRIDGE ROAD CONDOMINIUM 1ST ...   \n",
       "\n",
       "                  Contact Permit Type Permit Subtype  IVR Trk#  \\\n",
       "98  Dyer Construction Llc        CACR      CAE04B016   2055816   \n",
       "\n",
       "                                              Purpose  Council Dist  \\\n",
       "98  renovation on existing building FOR TSC VASCUL...          24.0   \n",
       "\n",
       "    Census Tract                                  Mapped Location  \n",
       "98    37018102.0  85 WHITE BRIDGE PIKE 200\\nNASHVILLE, TN 37205\\n  "
      ]
     },
     "execution_count": 114,
     "metadata": {},
     "output_type": "execute_result"
    }
   ],
   "source": [
    "bp.nsmallest(1, 'Date Issued')"
   ]
  },
  {
   "cell_type": "code",
   "execution_count": 113,
   "metadata": {},
   "outputs": [
    {
     "data": {
      "text/html": [
       "<div>\n",
       "<style scoped>\n",
       "    .dataframe tbody tr th:only-of-type {\n",
       "        vertical-align: middle;\n",
       "    }\n",
       "\n",
       "    .dataframe tbody tr th {\n",
       "        vertical-align: top;\n",
       "    }\n",
       "\n",
       "    .dataframe thead th {\n",
       "        text-align: right;\n",
       "    }\n",
       "</style>\n",
       "<table border=\"1\" class=\"dataframe\">\n",
       "  <thead>\n",
       "    <tr style=\"text-align: right;\">\n",
       "      <th></th>\n",
       "      <th>Permit #</th>\n",
       "      <th>Permit Type Description</th>\n",
       "      <th>Permit Subtype Description</th>\n",
       "      <th>Parcel</th>\n",
       "      <th>Date Entered</th>\n",
       "      <th>Date Issued</th>\n",
       "      <th>Const. Cost</th>\n",
       "      <th>Address</th>\n",
       "      <th>City</th>\n",
       "      <th>State</th>\n",
       "      <th>Zip</th>\n",
       "      <th>Subdivision/Lot</th>\n",
       "      <th>Contact</th>\n",
       "      <th>Permit Type</th>\n",
       "      <th>Permit Subtype</th>\n",
       "      <th>IVR Trk#</th>\n",
       "      <th>Purpose</th>\n",
       "      <th>Council Dist</th>\n",
       "      <th>Census Tract</th>\n",
       "      <th>Mapped Location</th>\n",
       "    </tr>\n",
       "  </thead>\n",
       "  <tbody>\n",
       "    <tr>\n",
       "      <th>36007</th>\n",
       "      <td>2018056729</td>\n",
       "      <td>Building Residential - New</td>\n",
       "      <td>Single Family Residence</td>\n",
       "      <td>128120B00600CO</td>\n",
       "      <td>09/05/2018</td>\n",
       "      <td>2018-09-06</td>\n",
       "      <td>360480.0</td>\n",
       "      <td>601  SUMMIT OAKS CT</td>\n",
       "      <td>NASHVILLE</td>\n",
       "      <td>TN</td>\n",
       "      <td>37221</td>\n",
       "      <td>LOT 6 WOODBURY PHASE 2</td>\n",
       "      <td>BONHAM BUILDERS LLC</td>\n",
       "      <td>CARN</td>\n",
       "      <td>CAA01R301</td>\n",
       "      <td>3556387</td>\n",
       "      <td>PERMIT TO CONSTRUCT SINGLE FAMILY RESIDENCE� �...</td>\n",
       "      <td>22.0</td>\n",
       "      <td>37018401.0</td>\n",
       "      <td>601 SUMMIT OAKS CT\\nNASHVILLE, TN 37221\\n(36.0...</td>\n",
       "    </tr>\n",
       "  </tbody>\n",
       "</table>\n",
       "</div>"
      ],
      "text/plain": [
       "         Permit #     Permit Type Description Permit Subtype Description  \\\n",
       "36007  2018056729  Building Residential - New    Single Family Residence   \n",
       "\n",
       "               Parcel Date Entered Date Issued  Const. Cost  \\\n",
       "36007  128120B00600CO   09/05/2018  2018-09-06     360480.0   \n",
       "\n",
       "                   Address       City State    Zip         Subdivision/Lot  \\\n",
       "36007  601  SUMMIT OAKS CT  NASHVILLE    TN  37221  LOT 6 WOODBURY PHASE 2   \n",
       "\n",
       "                   Contact Permit Type Permit Subtype  IVR Trk#  \\\n",
       "36007  BONHAM BUILDERS LLC        CARN      CAA01R301   3556387   \n",
       "\n",
       "                                                 Purpose  Council Dist  \\\n",
       "36007  PERMIT TO CONSTRUCT SINGLE FAMILY RESIDENCE� �...          22.0   \n",
       "\n",
       "       Census Tract                                    Mapped Location  \n",
       "36007    37018401.0  601 SUMMIT OAKS CT\\nNASHVILLE, TN 37221\\n(36.0...  "
      ]
     },
     "execution_count": 113,
     "metadata": {},
     "output_type": "execute_result"
    }
   ],
   "source": [
    "bp.nlargest(1, 'Date Issued')"
   ]
  },
  {
   "cell_type": "markdown",
   "metadata": {},
   "source": [
    "Permits data covers roughly a 3 year period from September 2015 until September 2018."
   ]
  },
  {
   "cell_type": "code",
   "execution_count": 115,
   "metadata": {},
   "outputs": [
    {
     "data": {
      "text/plain": [
       "7256"
      ]
     },
     "execution_count": 115,
     "metadata": {},
     "output_type": "execute_result"
    }
   ],
   "source": [
    "new_res.shape[0] - demo_res.shape[0]"
   ]
  },
  {
   "cell_type": "markdown",
   "metadata": {},
   "source": [
    "DC added roughly 7256 single family homes in that 3 year period. This is about 2418 per year, or 1.29% growth in housing stock."
   ]
  },
  {
   "cell_type": "code",
   "execution_count": 118,
   "metadata": {},
   "outputs": [
    {
     "data": {
      "text/plain": [
       "1.2947999164645214"
      ]
     },
     "execution_count": 118,
     "metadata": {},
     "output_type": "execute_result"
    }
   ],
   "source": [
    "100 * 2418 / 186747"
   ]
  },
  {
   "cell_type": "markdown",
   "metadata": {},
   "source": [
    "The growth in the number of sf homes is lower than the growth in the number of households by close to 0.5% - this will exacerbate the housing problems. (Lead to more demand than supply)"
   ]
  },
  {
   "cell_type": "code",
   "execution_count": null,
   "metadata": {},
   "outputs": [],
   "source": []
  },
  {
   "cell_type": "markdown",
   "metadata": {},
   "source": [
    "## Projecting Mortgage Costs in 2025:"
   ]
  },
  {
   "cell_type": "code",
   "execution_count": 119,
   "metadata": {},
   "outputs": [],
   "source": [
    "# Using the growth rate in prices since 2014 (9.7475%)\n",
    "final_sf['Mortgage_Per_Year_2025_High'] = final_sf['Mortgage_Per_Year_2017']*(1.097475)**8"
   ]
  },
  {
   "cell_type": "code",
   "execution_count": 120,
   "metadata": {},
   "outputs": [],
   "source": [
    "# Using the average growth rate in prices since 1975 (5.051428571428572%)\n",
    "final_sf['Mortgage_Per_Year_2025_Avg'] = final_sf['Mortgage_Per_Year_2017']*(1.05051428571428572)**8"
   ]
  },
  {
   "cell_type": "code",
   "execution_count": null,
   "metadata": {},
   "outputs": [],
   "source": []
  },
  {
   "cell_type": "markdown",
   "metadata": {},
   "source": [
    "Growth in median income"
   ]
  },
  {
   "cell_type": "code",
   "execution_count": 128,
   "metadata": {},
   "outputs": [
    {
     "data": {
      "text/plain": [
       "4.510321178526133"
      ]
     },
     "execution_count": 128,
     "metadata": {},
     "output_type": "execute_result"
    }
   ],
   "source": [
    "meds.loc[meds.Year >= 2012].Growth.mean()"
   ]
  },
  {
   "cell_type": "code",
   "execution_count": 127,
   "metadata": {},
   "outputs": [
    {
     "data": {
      "text/plain": [
       "96779.2766880292"
      ]
     },
     "execution_count": 127,
     "metadata": {},
     "output_type": "execute_result"
    }
   ],
   "source": [
    "# Using average annual growth since 2012 (4.510321178526133%)\n",
    "med_high = 68000*(1 + 0.04510321178526133)**8\n",
    "med_high"
   ]
  },
  {
   "cell_type": "code",
   "execution_count": 137,
   "metadata": {},
   "outputs": [
    {
     "data": {
      "text/plain": [
       "86140.36553435792"
      ]
     },
     "execution_count": 137,
     "metadata": {},
     "output_type": "execute_result"
    }
   ],
   "source": [
    "# Using avg. annual growth 3% (above average, but less than hte last few years)\n",
    "med_medium = 68000*(1 + 0.03)**8\n",
    "med_medium"
   ]
  },
  {
   "cell_type": "code",
   "execution_count": 133,
   "metadata": {},
   "outputs": [
    {
     "data": {
      "text/plain": [
       "1.9982533112347018"
      ]
     },
     "execution_count": 133,
     "metadata": {},
     "output_type": "execute_result"
    }
   ],
   "source": [
    "meds.loc[meds.Year >= 2000].Growth.mean()"
   ]
  },
  {
   "cell_type": "code",
   "execution_count": 138,
   "metadata": {},
   "outputs": [
    {
     "data": {
      "text/plain": [
       "79672.83790815408"
      ]
     },
     "execution_count": 138,
     "metadata": {},
     "output_type": "execute_result"
    }
   ],
   "source": [
    "# Using avg. annual growth since 2000 (2%)\n",
    "med_low = 68000*(1 + 0.02)**8\n",
    "med_low"
   ]
  },
  {
   "cell_type": "code",
   "execution_count": null,
   "metadata": {},
   "outputs": [],
   "source": []
  },
  {
   "cell_type": "markdown",
   "metadata": {},
   "source": [
    "## Scenario 1: High Income Growth"
   ]
  },
  {
   "cell_type": "code",
   "execution_count": 139,
   "metadata": {},
   "outputs": [
    {
     "data": {
      "text/plain": [
       "0.2612847881207962"
      ]
     },
     "execution_count": 139,
     "metadata": {},
     "output_type": "execute_result"
    }
   ],
   "source": [
    "final_sf.loc[final_sf.Mortgage_Per_Year_2025_High < med_high * .6 * .3].shape[0] / final_sf.loc[final_sf.Mortgage_Per_Year_2025_High > 0].shape[0]"
   ]
  },
  {
   "cell_type": "code",
   "execution_count": 140,
   "metadata": {},
   "outputs": [
    {
     "data": {
      "text/plain": [
       "0.5270789365804777"
      ]
     },
     "execution_count": 140,
     "metadata": {},
     "output_type": "execute_result"
    }
   ],
   "source": [
    "final_sf.loc[final_sf.Mortgage_Per_Year_2025_Avg < med_high * .6 * .3].shape[0] / final_sf.loc[final_sf.Mortgage_Per_Year_2025_Avg > 0].shape[0]"
   ]
  },
  {
   "cell_type": "code",
   "execution_count": null,
   "metadata": {},
   "outputs": [],
   "source": []
  },
  {
   "cell_type": "markdown",
   "metadata": {},
   "source": [
    "## Analysis by Council District"
   ]
  },
  {
   "cell_type": "code",
   "execution_count": 141,
   "metadata": {},
   "outputs": [],
   "source": [
    "final_sf['Change_Per_Year'] = (final_sf.Mortgage_Per_Year_2017/final_sf.Mortgage_Per_Year_2013)**(1/4) -1"
   ]
  },
  {
   "cell_type": "code",
   "execution_count": 143,
   "metadata": {},
   "outputs": [],
   "source": [
    "rates = dict(final_sf.groupby('Council District').Change_Per_Year.mean())"
   ]
  },
  {
   "cell_type": "code",
   "execution_count": 144,
   "metadata": {},
   "outputs": [],
   "source": [
    "final_sf['Proj_High_Dist'] = final_sf.apply(lambda row: row['Mortgage_Per_Year_2017'] * (1 + rates[row['Council District']])**8, axis = 1)"
   ]
  },
  {
   "cell_type": "code",
   "execution_count": 145,
   "metadata": {},
   "outputs": [
    {
     "data": {
      "text/html": [
       "<div>\n",
       "<style scoped>\n",
       "    .dataframe tbody tr th:only-of-type {\n",
       "        vertical-align: middle;\n",
       "    }\n",
       "\n",
       "    .dataframe tbody tr th {\n",
       "        vertical-align: top;\n",
       "    }\n",
       "\n",
       "    .dataframe thead th {\n",
       "        text-align: right;\n",
       "    }\n",
       "</style>\n",
       "<table border=\"1\" class=\"dataframe\">\n",
       "  <thead>\n",
       "    <tr style=\"text-align: right;\">\n",
       "      <th></th>\n",
       "      <th>AddressFullAddress</th>\n",
       "      <th>2009 LAND</th>\n",
       "      <th>2009 IMPR</th>\n",
       "      <th>2009 TOTAL APPR</th>\n",
       "      <th>2009 TOTAL ASSD</th>\n",
       "      <th>2009_FinishedArea</th>\n",
       "      <th>2013 LAND</th>\n",
       "      <th>2013 IMPR</th>\n",
       "      <th>2013 TOTAL APPR</th>\n",
       "      <th>2013 TOTAL ASSD</th>\n",
       "      <th>...</th>\n",
       "      <th>AddressCity</th>\n",
       "      <th>AddressPostalCode</th>\n",
       "      <th>Mortgage_Per_Year_2009</th>\n",
       "      <th>Mortgage_Per_Year_2013</th>\n",
       "      <th>Mortgage_Per_Year_2017</th>\n",
       "      <th>Mortgage_Per_Year_2025_High</th>\n",
       "      <th>Mortgage_Per_Year_2025_Avg</th>\n",
       "      <th>Pct_Change</th>\n",
       "      <th>Proj_High_Dist</th>\n",
       "      <th>Change_Per_Year</th>\n",
       "    </tr>\n",
       "  </thead>\n",
       "  <tbody>\n",
       "    <tr>\n",
       "      <th>0</th>\n",
       "      <td>1012 OLD BUCK HILL RD</td>\n",
       "      <td>49800.0</td>\n",
       "      <td>65700.0</td>\n",
       "      <td>115500.0</td>\n",
       "      <td>28875.0</td>\n",
       "      <td>1920.0</td>\n",
       "      <td>43500.0</td>\n",
       "      <td>70500.0</td>\n",
       "      <td>114000.0</td>\n",
       "      <td>28500.0</td>\n",
       "      <td>...</td>\n",
       "      <td>GOODLETTSVILLE</td>\n",
       "      <td>37072.0</td>\n",
       "      <td>6286.127195</td>\n",
       "      <td>6204.489180</td>\n",
       "      <td>7369.191535</td>\n",
       "      <td>15508.754900</td>\n",
       "      <td>10930.387176</td>\n",
       "      <td>0.187719</td>\n",
       "      <td>11661.873060</td>\n",
       "      <td>0.043947</td>\n",
       "    </tr>\n",
       "    <tr>\n",
       "      <th>1</th>\n",
       "      <td>1109 HIGHLAND AVE</td>\n",
       "      <td>44100.0</td>\n",
       "      <td>88700.0</td>\n",
       "      <td>132800.0</td>\n",
       "      <td>33200.0</td>\n",
       "      <td>1464.0</td>\n",
       "      <td>40100.0</td>\n",
       "      <td>96500.0</td>\n",
       "      <td>136600.0</td>\n",
       "      <td>34150.0</td>\n",
       "      <td>...</td>\n",
       "      <td>GOODLETTSVILLE</td>\n",
       "      <td>37072.0</td>\n",
       "      <td>7227.685641</td>\n",
       "      <td>7434.501947</td>\n",
       "      <td>8152.916484</td>\n",
       "      <td>17158.135037</td>\n",
       "      <td>12092.850805</td>\n",
       "      <td>0.096633</td>\n",
       "      <td>12902.131348</td>\n",
       "      <td>0.023329</td>\n",
       "    </tr>\n",
       "    <tr>\n",
       "      <th>2</th>\n",
       "      <td>0 SPRINGFIELD HWY</td>\n",
       "      <td>15000.0</td>\n",
       "      <td>137900.0</td>\n",
       "      <td>152900.0</td>\n",
       "      <td>38225.0</td>\n",
       "      <td>3539.0</td>\n",
       "      <td>15000.0</td>\n",
       "      <td>158400.0</td>\n",
       "      <td>173400.0</td>\n",
       "      <td>43350.0</td>\n",
       "      <td>...</td>\n",
       "      <td>GOODLETTSVILLE</td>\n",
       "      <td>37072.0</td>\n",
       "      <td>8321.635049</td>\n",
       "      <td>9437.354595</td>\n",
       "      <td>11053.787302</td>\n",
       "      <td>23263.132350</td>\n",
       "      <td>16395.580764</td>\n",
       "      <td>0.171280</td>\n",
       "      <td>17492.809591</td>\n",
       "      <td>0.040316</td>\n",
       "    </tr>\n",
       "    <tr>\n",
       "      <th>3</th>\n",
       "      <td>133 B EAST END RD</td>\n",
       "      <td>41100.0</td>\n",
       "      <td>27000.0</td>\n",
       "      <td>68100.0</td>\n",
       "      <td>17025.0</td>\n",
       "      <td>736.0</td>\n",
       "      <td>32300.0</td>\n",
       "      <td>26900.0</td>\n",
       "      <td>59200.0</td>\n",
       "      <td>14800.0</td>\n",
       "      <td>...</td>\n",
       "      <td>GOODLETTSVILLE</td>\n",
       "      <td>37072.0</td>\n",
       "      <td>3706.365905</td>\n",
       "      <td>3221.980346</td>\n",
       "      <td>3488.664530</td>\n",
       "      <td>7342.032416</td>\n",
       "      <td>5174.577681</td>\n",
       "      <td>0.082770</td>\n",
       "      <td>5520.871958</td>\n",
       "      <td>0.020080</td>\n",
       "    </tr>\n",
       "    <tr>\n",
       "      <th>4</th>\n",
       "      <td>141 B EAST END RD</td>\n",
       "      <td>25100.0</td>\n",
       "      <td>60900.0</td>\n",
       "      <td>86000.0</td>\n",
       "      <td>21500.0</td>\n",
       "      <td>1301.0</td>\n",
       "      <td>19700.0</td>\n",
       "      <td>63300.0</td>\n",
       "      <td>83000.0</td>\n",
       "      <td>20750.0</td>\n",
       "      <td>...</td>\n",
       "      <td>GOODLETTSVILLE</td>\n",
       "      <td>37072.0</td>\n",
       "      <td>4680.579557</td>\n",
       "      <td>4517.303526</td>\n",
       "      <td>5322.798612</td>\n",
       "      <td>11202.040098</td>\n",
       "      <td>7895.065479</td>\n",
       "      <td>0.178313</td>\n",
       "      <td>8423.420866</td>\n",
       "      <td>0.041874</td>\n",
       "    </tr>\n",
       "  </tbody>\n",
       "</table>\n",
       "<p>5 rows × 30 columns</p>\n",
       "</div>"
      ],
      "text/plain": [
       "      AddressFullAddress  2009 LAND  2009 IMPR  2009 TOTAL APPR  \\\n",
       "0  1012 OLD BUCK HILL RD    49800.0    65700.0         115500.0   \n",
       "1      1109 HIGHLAND AVE    44100.0    88700.0         132800.0   \n",
       "2      0 SPRINGFIELD HWY    15000.0   137900.0         152900.0   \n",
       "3      133 B EAST END RD    41100.0    27000.0          68100.0   \n",
       "4      141 B EAST END RD    25100.0    60900.0          86000.0   \n",
       "\n",
       "   2009 TOTAL ASSD  2009_FinishedArea  2013 LAND  2013 IMPR  2013 TOTAL APPR  \\\n",
       "0          28875.0             1920.0    43500.0    70500.0         114000.0   \n",
       "1          33200.0             1464.0    40100.0    96500.0         136600.0   \n",
       "2          38225.0             3539.0    15000.0   158400.0         173400.0   \n",
       "3          17025.0              736.0    32300.0    26900.0          59200.0   \n",
       "4          21500.0             1301.0    19700.0    63300.0          83000.0   \n",
       "\n",
       "   2013 TOTAL ASSD       ...            AddressCity  AddressPostalCode  \\\n",
       "0          28500.0       ...         GOODLETTSVILLE            37072.0   \n",
       "1          34150.0       ...         GOODLETTSVILLE            37072.0   \n",
       "2          43350.0       ...         GOODLETTSVILLE            37072.0   \n",
       "3          14800.0       ...         GOODLETTSVILLE            37072.0   \n",
       "4          20750.0       ...         GOODLETTSVILLE            37072.0   \n",
       "\n",
       "   Mortgage_Per_Year_2009  Mortgage_Per_Year_2013  Mortgage_Per_Year_2017  \\\n",
       "0             6286.127195             6204.489180             7369.191535   \n",
       "1             7227.685641             7434.501947             8152.916484   \n",
       "2             8321.635049             9437.354595            11053.787302   \n",
       "3             3706.365905             3221.980346             3488.664530   \n",
       "4             4680.579557             4517.303526             5322.798612   \n",
       "\n",
       "   Mortgage_Per_Year_2025_High Mortgage_Per_Year_2025_Avg Pct_Change  \\\n",
       "0                 15508.754900               10930.387176   0.187719   \n",
       "1                 17158.135037               12092.850805   0.096633   \n",
       "2                 23263.132350               16395.580764   0.171280   \n",
       "3                  7342.032416                5174.577681   0.082770   \n",
       "4                 11202.040098                7895.065479   0.178313   \n",
       "\n",
       "  Proj_High_Dist  Change_Per_Year  \n",
       "0   11661.873060         0.043947  \n",
       "1   12902.131348         0.023329  \n",
       "2   17492.809591         0.040316  \n",
       "3    5520.871958         0.020080  \n",
       "4    8423.420866         0.041874  \n",
       "\n",
       "[5 rows x 30 columns]"
      ]
     },
     "execution_count": 145,
     "metadata": {},
     "output_type": "execute_result"
    }
   ],
   "source": [
    "final_sf.head()"
   ]
  },
  {
   "cell_type": "code",
   "execution_count": 147,
   "metadata": {},
   "outputs": [
    {
     "data": {
      "text/plain": [
       "0.6069340858697844"
      ]
     },
     "execution_count": 147,
     "metadata": {},
     "output_type": "execute_result"
    }
   ],
   "source": [
    "final_sf.loc[(final_sf['Council District'] == 5) & (final_sf.Mortgage_Per_Year_2017 < 68000 * 0.6 * 0.3)].shape[0] / final_sf.loc[(final_sf['Council District'] == 5) &(final_sf.Mortgage_Per_Year_2017 > 0)].shape[0]"
   ]
  },
  {
   "cell_type": "code",
   "execution_count": 148,
   "metadata": {},
   "outputs": [],
   "source": [
    "districts = final_sf.groupby('Council District').Change_Per_Year.mean().to_frame().reset_index()"
   ]
  },
  {
   "cell_type": "code",
   "execution_count": 167,
   "metadata": {},
   "outputs": [],
   "source": [
    "districts['Pct_Affordable_2017'] = districts['Council District'].apply(lambda x: final_sf.loc[(final_sf['Council District'] == x) & (final_sf.Mortgage_Per_Year_2017 < 68000 * 0.6 * 0.3)].shape[0] / final_sf.loc[(final_sf['Council District'] == x) &(final_sf.Mortgage_Per_Year_2017 > 0)].shape[0])\n",
    "districts['Pct_Affordable_2025'] = districts['Council District'].apply(lambda x: final_sf.loc[(final_sf['Council District'] == x) & (final_sf.Proj_High_Dist < med_high * 0.6 * 0.3)].shape[0] / final_sf.loc[(final_sf['Council District'] == x) &(final_sf.Mortgage_Per_Year_2017 > 0)].shape[0])\n",
    "districts['Pct_Affordable_2025_Avg'] = districts['Council District'].apply(lambda x: final_sf.loc[(final_sf['Council District'] == x) & (final_sf.Mortgage_Per_Year_2025_Avg < med_high * 0.6 * 0.3)].shape[0] / final_sf.loc[(final_sf['Council District'] == x) &(final_sf.Mortgage_Per_Year_2017 > 0)].shape[0])\n"
   ]
  },
  {
   "cell_type": "code",
   "execution_count": 168,
   "metadata": {},
   "outputs": [
    {
     "data": {
      "text/html": [
       "<div>\n",
       "<style scoped>\n",
       "    .dataframe tbody tr th:only-of-type {\n",
       "        vertical-align: middle;\n",
       "    }\n",
       "\n",
       "    .dataframe tbody tr th {\n",
       "        vertical-align: top;\n",
       "    }\n",
       "\n",
       "    .dataframe thead th {\n",
       "        text-align: right;\n",
       "    }\n",
       "</style>\n",
       "<table border=\"1\" class=\"dataframe\">\n",
       "  <thead>\n",
       "    <tr style=\"text-align: right;\">\n",
       "      <th></th>\n",
       "      <th>Council District</th>\n",
       "      <th>Change_Per_Year</th>\n",
       "      <th>Pct_Affordable_2017</th>\n",
       "      <th>Pct_Affordable_2025</th>\n",
       "      <th>Pct_Affordable_2025_Avg</th>\n",
       "      <th>Count_2009</th>\n",
       "      <th>Count_2013</th>\n",
       "      <th>Count_2017</th>\n",
       "      <th>Growth_Rate</th>\n",
       "      <th>Projected_Count_2025</th>\n",
       "    </tr>\n",
       "  </thead>\n",
       "  <tbody>\n",
       "    <tr>\n",
       "      <th>0</th>\n",
       "      <td>1.0</td>\n",
       "      <td>0.074172</td>\n",
       "      <td>0.736729</td>\n",
       "      <td>0.565776</td>\n",
       "      <td>0.703924</td>\n",
       "      <td>5920</td>\n",
       "      <td>5968</td>\n",
       "      <td>6066</td>\n",
       "      <td>0.004080</td>\n",
       "      <td>6266.854173</td>\n",
       "    </tr>\n",
       "    <tr>\n",
       "      <th>1</th>\n",
       "      <td>2.0</td>\n",
       "      <td>0.104110</td>\n",
       "      <td>0.915794</td>\n",
       "      <td>0.662304</td>\n",
       "      <td>0.898560</td>\n",
       "      <td>4365</td>\n",
       "      <td>4382</td>\n",
       "      <td>4584</td>\n",
       "      <td>0.011330</td>\n",
       "      <td>5016.364438</td>\n",
       "    </tr>\n",
       "    <tr>\n",
       "      <th>2</th>\n",
       "      <td>3.0</td>\n",
       "      <td>0.071794</td>\n",
       "      <td>0.790866</td>\n",
       "      <td>0.641862</td>\n",
       "      <td>0.766002</td>\n",
       "      <td>5345</td>\n",
       "      <td>5440</td>\n",
       "      <td>5671</td>\n",
       "      <td>0.010451</td>\n",
       "      <td>6162.843544</td>\n",
       "    </tr>\n",
       "    <tr>\n",
       "      <th>3</th>\n",
       "      <td>4.0</td>\n",
       "      <td>0.065313</td>\n",
       "      <td>0.163507</td>\n",
       "      <td>0.101896</td>\n",
       "      <td>0.143016</td>\n",
       "      <td>6856</td>\n",
       "      <td>6964</td>\n",
       "      <td>7174</td>\n",
       "      <td>0.007455</td>\n",
       "      <td>7613.188662</td>\n",
       "    </tr>\n",
       "    <tr>\n",
       "      <th>4</th>\n",
       "      <td>5.0</td>\n",
       "      <td>0.214676</td>\n",
       "      <td>0.606934</td>\n",
       "      <td>0.017134</td>\n",
       "      <td>0.564201</td>\n",
       "      <td>4513</td>\n",
       "      <td>4532</td>\n",
       "      <td>4961</td>\n",
       "      <td>0.022869</td>\n",
       "      <td>5944.671747</td>\n",
       "    </tr>\n",
       "  </tbody>\n",
       "</table>\n",
       "</div>"
      ],
      "text/plain": [
       "   Council District  Change_Per_Year  Pct_Affordable_2017  \\\n",
       "0               1.0         0.074172             0.736729   \n",
       "1               2.0         0.104110             0.915794   \n",
       "2               3.0         0.071794             0.790866   \n",
       "3               4.0         0.065313             0.163507   \n",
       "4               5.0         0.214676             0.606934   \n",
       "\n",
       "   Pct_Affordable_2025  Pct_Affordable_2025_Avg  Count_2009  Count_2013  \\\n",
       "0             0.565776                 0.703924        5920        5968   \n",
       "1             0.662304                 0.898560        4365        4382   \n",
       "2             0.641862                 0.766002        5345        5440   \n",
       "3             0.101896                 0.143016        6856        6964   \n",
       "4             0.017134                 0.564201        4513        4532   \n",
       "\n",
       "   Count_2017  Growth_Rate  Projected_Count_2025  \n",
       "0        6066     0.004080           6266.854173  \n",
       "1        4584     0.011330           5016.364438  \n",
       "2        5671     0.010451           6162.843544  \n",
       "3        7174     0.007455           7613.188662  \n",
       "4        4961     0.022869           5944.671747  "
      ]
     },
     "execution_count": 168,
     "metadata": {},
     "output_type": "execute_result"
    }
   ],
   "source": [
    "districts.head()"
   ]
  },
  {
   "cell_type": "code",
   "execution_count": 169,
   "metadata": {},
   "outputs": [
    {
     "data": {
      "text/html": [
       "<div>\n",
       "<style scoped>\n",
       "    .dataframe tbody tr th:only-of-type {\n",
       "        vertical-align: middle;\n",
       "    }\n",
       "\n",
       "    .dataframe tbody tr th {\n",
       "        vertical-align: top;\n",
       "    }\n",
       "\n",
       "    .dataframe thead th {\n",
       "        text-align: right;\n",
       "    }\n",
       "</style>\n",
       "<table border=\"1\" class=\"dataframe\">\n",
       "  <thead>\n",
       "    <tr style=\"text-align: right;\">\n",
       "      <th></th>\n",
       "      <th>Council District</th>\n",
       "      <th>Change_Per_Year</th>\n",
       "      <th>Pct_Affordable_2017</th>\n",
       "      <th>Pct_Affordable_2025</th>\n",
       "      <th>Pct_Affordable_2025_Avg</th>\n",
       "      <th>Count_2009</th>\n",
       "      <th>Count_2013</th>\n",
       "      <th>Count_2017</th>\n",
       "      <th>Growth_Rate</th>\n",
       "      <th>Projected_Count_2025</th>\n",
       "    </tr>\n",
       "  </thead>\n",
       "  <tbody>\n",
       "    <tr>\n",
       "      <th>29</th>\n",
       "      <td>30.0</td>\n",
       "      <td>0.097622</td>\n",
       "      <td>0.964088</td>\n",
       "      <td>0.526538</td>\n",
       "      <td>0.950356</td>\n",
       "      <td>3744</td>\n",
       "      <td>3779</td>\n",
       "      <td>3787</td>\n",
       "      <td>0.000529</td>\n",
       "      <td>3803.050843</td>\n",
       "    </tr>\n",
       "    <tr>\n",
       "      <th>27</th>\n",
       "      <td>28.0</td>\n",
       "      <td>0.085975</td>\n",
       "      <td>0.958425</td>\n",
       "      <td>0.618753</td>\n",
       "      <td>0.937196</td>\n",
       "      <td>4305</td>\n",
       "      <td>4346</td>\n",
       "      <td>4522</td>\n",
       "      <td>0.009974</td>\n",
       "      <td>4895.671062</td>\n",
       "    </tr>\n",
       "    <tr>\n",
       "      <th>28</th>\n",
       "      <td>29.0</td>\n",
       "      <td>0.075531</td>\n",
       "      <td>0.950708</td>\n",
       "      <td>0.728978</td>\n",
       "      <td>0.930411</td>\n",
       "      <td>5691</td>\n",
       "      <td>5778</td>\n",
       "      <td>5863</td>\n",
       "      <td>0.003658</td>\n",
       "      <td>6036.769693</td>\n",
       "    </tr>\n",
       "    <tr>\n",
       "      <th>8</th>\n",
       "      <td>9.0</td>\n",
       "      <td>0.079576</td>\n",
       "      <td>0.930665</td>\n",
       "      <td>0.763089</td>\n",
       "      <td>0.912270</td>\n",
       "      <td>4858</td>\n",
       "      <td>4873</td>\n",
       "      <td>4947</td>\n",
       "      <td>0.003775</td>\n",
       "      <td>5098.388294</td>\n",
       "    </tr>\n",
       "    <tr>\n",
       "      <th>1</th>\n",
       "      <td>2.0</td>\n",
       "      <td>0.104110</td>\n",
       "      <td>0.915794</td>\n",
       "      <td>0.662304</td>\n",
       "      <td>0.898560</td>\n",
       "      <td>4365</td>\n",
       "      <td>4382</td>\n",
       "      <td>4584</td>\n",
       "      <td>0.011330</td>\n",
       "      <td>5016.364438</td>\n",
       "    </tr>\n",
       "  </tbody>\n",
       "</table>\n",
       "</div>"
      ],
      "text/plain": [
       "    Council District  Change_Per_Year  Pct_Affordable_2017  \\\n",
       "29              30.0         0.097622             0.964088   \n",
       "27              28.0         0.085975             0.958425   \n",
       "28              29.0         0.075531             0.950708   \n",
       "8                9.0         0.079576             0.930665   \n",
       "1                2.0         0.104110             0.915794   \n",
       "\n",
       "    Pct_Affordable_2025  Pct_Affordable_2025_Avg  Count_2009  Count_2013  \\\n",
       "29             0.526538                 0.950356        3744        3779   \n",
       "27             0.618753                 0.937196        4305        4346   \n",
       "28             0.728978                 0.930411        5691        5778   \n",
       "8              0.763089                 0.912270        4858        4873   \n",
       "1              0.662304                 0.898560        4365        4382   \n",
       "\n",
       "    Count_2017  Growth_Rate  Projected_Count_2025  \n",
       "29        3787     0.000529           3803.050843  \n",
       "27        4522     0.009974           4895.671062  \n",
       "28        5863     0.003658           6036.769693  \n",
       "8         4947     0.003775           5098.388294  \n",
       "1         4584     0.011330           5016.364438  "
      ]
     },
     "execution_count": 169,
     "metadata": {},
     "output_type": "execute_result"
    }
   ],
   "source": [
    "districts.nlargest(5, 'Pct_Affordable_2017')"
   ]
  },
  {
   "cell_type": "code",
   "execution_count": 170,
   "metadata": {},
   "outputs": [
    {
     "data": {
      "text/html": [
       "<div>\n",
       "<style scoped>\n",
       "    .dataframe tbody tr th:only-of-type {\n",
       "        vertical-align: middle;\n",
       "    }\n",
       "\n",
       "    .dataframe tbody tr th {\n",
       "        vertical-align: top;\n",
       "    }\n",
       "\n",
       "    .dataframe thead th {\n",
       "        text-align: right;\n",
       "    }\n",
       "</style>\n",
       "<table border=\"1\" class=\"dataframe\">\n",
       "  <thead>\n",
       "    <tr style=\"text-align: right;\">\n",
       "      <th></th>\n",
       "      <th>Council District</th>\n",
       "      <th>Change_Per_Year</th>\n",
       "      <th>Pct_Affordable_2017</th>\n",
       "      <th>Pct_Affordable_2025</th>\n",
       "      <th>Pct_Affordable_2025_Avg</th>\n",
       "      <th>Count_2009</th>\n",
       "      <th>Count_2013</th>\n",
       "      <th>Count_2017</th>\n",
       "      <th>Growth_Rate</th>\n",
       "      <th>Projected_Count_2025</th>\n",
       "    </tr>\n",
       "  </thead>\n",
       "  <tbody>\n",
       "    <tr>\n",
       "      <th>8</th>\n",
       "      <td>9.0</td>\n",
       "      <td>0.079576</td>\n",
       "      <td>0.930665</td>\n",
       "      <td>0.763089</td>\n",
       "      <td>0.912270</td>\n",
       "      <td>4858</td>\n",
       "      <td>4873</td>\n",
       "      <td>4947</td>\n",
       "      <td>0.003775</td>\n",
       "      <td>5098.388294</td>\n",
       "    </tr>\n",
       "    <tr>\n",
       "      <th>28</th>\n",
       "      <td>29.0</td>\n",
       "      <td>0.075531</td>\n",
       "      <td>0.950708</td>\n",
       "      <td>0.728978</td>\n",
       "      <td>0.930411</td>\n",
       "      <td>5691</td>\n",
       "      <td>5778</td>\n",
       "      <td>5863</td>\n",
       "      <td>0.003658</td>\n",
       "      <td>6036.769693</td>\n",
       "    </tr>\n",
       "    <tr>\n",
       "      <th>9</th>\n",
       "      <td>10.0</td>\n",
       "      <td>0.059055</td>\n",
       "      <td>0.790623</td>\n",
       "      <td>0.695140</td>\n",
       "      <td>0.757225</td>\n",
       "      <td>4482</td>\n",
       "      <td>4506</td>\n",
       "      <td>4671</td>\n",
       "      <td>0.009031</td>\n",
       "      <td>5019.347075</td>\n",
       "    </tr>\n",
       "    <tr>\n",
       "      <th>1</th>\n",
       "      <td>2.0</td>\n",
       "      <td>0.104110</td>\n",
       "      <td>0.915794</td>\n",
       "      <td>0.662304</td>\n",
       "      <td>0.898560</td>\n",
       "      <td>4365</td>\n",
       "      <td>4382</td>\n",
       "      <td>4584</td>\n",
       "      <td>0.011330</td>\n",
       "      <td>5016.364438</td>\n",
       "    </tr>\n",
       "    <tr>\n",
       "      <th>2</th>\n",
       "      <td>3.0</td>\n",
       "      <td>0.071794</td>\n",
       "      <td>0.790866</td>\n",
       "      <td>0.641862</td>\n",
       "      <td>0.766002</td>\n",
       "      <td>5345</td>\n",
       "      <td>5440</td>\n",
       "      <td>5671</td>\n",
       "      <td>0.010451</td>\n",
       "      <td>6162.843544</td>\n",
       "    </tr>\n",
       "  </tbody>\n",
       "</table>\n",
       "</div>"
      ],
      "text/plain": [
       "    Council District  Change_Per_Year  Pct_Affordable_2017  \\\n",
       "8                9.0         0.079576             0.930665   \n",
       "28              29.0         0.075531             0.950708   \n",
       "9               10.0         0.059055             0.790623   \n",
       "1                2.0         0.104110             0.915794   \n",
       "2                3.0         0.071794             0.790866   \n",
       "\n",
       "    Pct_Affordable_2025  Pct_Affordable_2025_Avg  Count_2009  Count_2013  \\\n",
       "8              0.763089                 0.912270        4858        4873   \n",
       "28             0.728978                 0.930411        5691        5778   \n",
       "9              0.695140                 0.757225        4482        4506   \n",
       "1              0.662304                 0.898560        4365        4382   \n",
       "2              0.641862                 0.766002        5345        5440   \n",
       "\n",
       "    Count_2017  Growth_Rate  Projected_Count_2025  \n",
       "8         4947     0.003775           5098.388294  \n",
       "28        5863     0.003658           6036.769693  \n",
       "9         4671     0.009031           5019.347075  \n",
       "1         4584     0.011330           5016.364438  \n",
       "2         5671     0.010451           6162.843544  "
      ]
     },
     "execution_count": 170,
     "metadata": {},
     "output_type": "execute_result"
    }
   ],
   "source": [
    "districts.nlargest(5, 'Pct_Affordable_2025')"
   ]
  },
  {
   "cell_type": "code",
   "execution_count": 171,
   "metadata": {},
   "outputs": [
    {
     "data": {
      "text/html": [
       "<div>\n",
       "<style scoped>\n",
       "    .dataframe tbody tr th:only-of-type {\n",
       "        vertical-align: middle;\n",
       "    }\n",
       "\n",
       "    .dataframe tbody tr th {\n",
       "        vertical-align: top;\n",
       "    }\n",
       "\n",
       "    .dataframe thead th {\n",
       "        text-align: right;\n",
       "    }\n",
       "</style>\n",
       "<table border=\"1\" class=\"dataframe\">\n",
       "  <thead>\n",
       "    <tr style=\"text-align: right;\">\n",
       "      <th></th>\n",
       "      <th>Council District</th>\n",
       "      <th>Change_Per_Year</th>\n",
       "      <th>Pct_Affordable_2017</th>\n",
       "      <th>Pct_Affordable_2025</th>\n",
       "      <th>Pct_Affordable_2025_Avg</th>\n",
       "      <th>Count_2009</th>\n",
       "      <th>Count_2013</th>\n",
       "      <th>Count_2017</th>\n",
       "      <th>Growth_Rate</th>\n",
       "      <th>Projected_Count_2025</th>\n",
       "    </tr>\n",
       "  </thead>\n",
       "  <tbody>\n",
       "    <tr>\n",
       "      <th>29</th>\n",
       "      <td>30.0</td>\n",
       "      <td>0.097622</td>\n",
       "      <td>0.964088</td>\n",
       "      <td>0.526538</td>\n",
       "      <td>0.950356</td>\n",
       "      <td>3744</td>\n",
       "      <td>3779</td>\n",
       "      <td>3787</td>\n",
       "      <td>0.000529</td>\n",
       "      <td>3803.050843</td>\n",
       "    </tr>\n",
       "    <tr>\n",
       "      <th>27</th>\n",
       "      <td>28.0</td>\n",
       "      <td>0.085975</td>\n",
       "      <td>0.958425</td>\n",
       "      <td>0.618753</td>\n",
       "      <td>0.937196</td>\n",
       "      <td>4305</td>\n",
       "      <td>4346</td>\n",
       "      <td>4522</td>\n",
       "      <td>0.009974</td>\n",
       "      <td>4895.671062</td>\n",
       "    </tr>\n",
       "    <tr>\n",
       "      <th>28</th>\n",
       "      <td>29.0</td>\n",
       "      <td>0.075531</td>\n",
       "      <td>0.950708</td>\n",
       "      <td>0.728978</td>\n",
       "      <td>0.930411</td>\n",
       "      <td>5691</td>\n",
       "      <td>5778</td>\n",
       "      <td>5863</td>\n",
       "      <td>0.003658</td>\n",
       "      <td>6036.769693</td>\n",
       "    </tr>\n",
       "    <tr>\n",
       "      <th>8</th>\n",
       "      <td>9.0</td>\n",
       "      <td>0.079576</td>\n",
       "      <td>0.930665</td>\n",
       "      <td>0.763089</td>\n",
       "      <td>0.912270</td>\n",
       "      <td>4858</td>\n",
       "      <td>4873</td>\n",
       "      <td>4947</td>\n",
       "      <td>0.003775</td>\n",
       "      <td>5098.388294</td>\n",
       "    </tr>\n",
       "    <tr>\n",
       "      <th>1</th>\n",
       "      <td>2.0</td>\n",
       "      <td>0.104110</td>\n",
       "      <td>0.915794</td>\n",
       "      <td>0.662304</td>\n",
       "      <td>0.898560</td>\n",
       "      <td>4365</td>\n",
       "      <td>4382</td>\n",
       "      <td>4584</td>\n",
       "      <td>0.011330</td>\n",
       "      <td>5016.364438</td>\n",
       "    </tr>\n",
       "  </tbody>\n",
       "</table>\n",
       "</div>"
      ],
      "text/plain": [
       "    Council District  Change_Per_Year  Pct_Affordable_2017  \\\n",
       "29              30.0         0.097622             0.964088   \n",
       "27              28.0         0.085975             0.958425   \n",
       "28              29.0         0.075531             0.950708   \n",
       "8                9.0         0.079576             0.930665   \n",
       "1                2.0         0.104110             0.915794   \n",
       "\n",
       "    Pct_Affordable_2025  Pct_Affordable_2025_Avg  Count_2009  Count_2013  \\\n",
       "29             0.526538                 0.950356        3744        3779   \n",
       "27             0.618753                 0.937196        4305        4346   \n",
       "28             0.728978                 0.930411        5691        5778   \n",
       "8              0.763089                 0.912270        4858        4873   \n",
       "1              0.662304                 0.898560        4365        4382   \n",
       "\n",
       "    Count_2017  Growth_Rate  Projected_Count_2025  \n",
       "29        3787     0.000529           3803.050843  \n",
       "27        4522     0.009974           4895.671062  \n",
       "28        5863     0.003658           6036.769693  \n",
       "8         4947     0.003775           5098.388294  \n",
       "1         4584     0.011330           5016.364438  "
      ]
     },
     "execution_count": 171,
     "metadata": {},
     "output_type": "execute_result"
    }
   ],
   "source": [
    "districts.nlargest(5, 'Pct_Affordable_2025_Avg')"
   ]
  },
  {
   "cell_type": "code",
   "execution_count": 172,
   "metadata": {},
   "outputs": [
    {
     "data": {
      "text/html": [
       "<div>\n",
       "<style scoped>\n",
       "    .dataframe tbody tr th:only-of-type {\n",
       "        vertical-align: middle;\n",
       "    }\n",
       "\n",
       "    .dataframe tbody tr th {\n",
       "        vertical-align: top;\n",
       "    }\n",
       "\n",
       "    .dataframe thead th {\n",
       "        text-align: right;\n",
       "    }\n",
       "</style>\n",
       "<table border=\"1\" class=\"dataframe\">\n",
       "  <thead>\n",
       "    <tr style=\"text-align: right;\">\n",
       "      <th></th>\n",
       "      <th>Council District</th>\n",
       "      <th>Change_Per_Year</th>\n",
       "      <th>Pct_Affordable_2017</th>\n",
       "      <th>Pct_Affordable_2025</th>\n",
       "      <th>Pct_Affordable_2025_Avg</th>\n",
       "      <th>Count_2009</th>\n",
       "      <th>Count_2013</th>\n",
       "      <th>Count_2017</th>\n",
       "      <th>Growth_Rate</th>\n",
       "      <th>Projected_Count_2025</th>\n",
       "    </tr>\n",
       "  </thead>\n",
       "  <tbody>\n",
       "    <tr>\n",
       "      <th>19</th>\n",
       "      <td>20.0</td>\n",
       "      <td>0.146721</td>\n",
       "      <td>0.601393</td>\n",
       "      <td>0.083383</td>\n",
       "      <td>0.547463</td>\n",
       "      <td>4420</td>\n",
       "      <td>4392</td>\n",
       "      <td>5025</td>\n",
       "      <td>0.034233</td>\n",
       "      <td>6577.843483</td>\n",
       "    </tr>\n",
       "  </tbody>\n",
       "</table>\n",
       "</div>"
      ],
      "text/plain": [
       "    Council District  Change_Per_Year  Pct_Affordable_2017  \\\n",
       "19              20.0         0.146721             0.601393   \n",
       "\n",
       "    Pct_Affordable_2025  Pct_Affordable_2025_Avg  Count_2009  Count_2013  \\\n",
       "19             0.083383                 0.547463        4420        4392   \n",
       "\n",
       "    Count_2017  Growth_Rate  Projected_Count_2025  \n",
       "19        5025     0.034233           6577.843483  "
      ]
     },
     "execution_count": 172,
     "metadata": {},
     "output_type": "execute_result"
    }
   ],
   "source": [
    "districts.loc[districts['Council District'] == 20]"
   ]
  },
  {
   "cell_type": "code",
   "execution_count": 173,
   "metadata": {},
   "outputs": [],
   "source": [
    "districts['Count_2009'] = districts['Council District'].apply(lambda x: final_sf.loc[(final_sf['Council District'] == x) & (final_sf.Mortgage_Per_Year_2009 > 0)].shape[0])\n",
    "districts['Count_2013'] = districts['Council District'].apply(lambda x: final_sf.loc[(final_sf['Council District'] == x) & (final_sf.Mortgage_Per_Year_2013 > 0)].shape[0])\n",
    "districts['Count_2017'] = districts['Council District'].apply(lambda x: final_sf.loc[(final_sf['Council District'] == x) & (final_sf.Mortgage_Per_Year_2017 > 0)].shape[0])"
   ]
  },
  {
   "cell_type": "code",
   "execution_count": 174,
   "metadata": {},
   "outputs": [
    {
     "data": {
      "text/html": [
       "<div>\n",
       "<style scoped>\n",
       "    .dataframe tbody tr th:only-of-type {\n",
       "        vertical-align: middle;\n",
       "    }\n",
       "\n",
       "    .dataframe tbody tr th {\n",
       "        vertical-align: top;\n",
       "    }\n",
       "\n",
       "    .dataframe thead th {\n",
       "        text-align: right;\n",
       "    }\n",
       "</style>\n",
       "<table border=\"1\" class=\"dataframe\">\n",
       "  <thead>\n",
       "    <tr style=\"text-align: right;\">\n",
       "      <th></th>\n",
       "      <th>Council District</th>\n",
       "      <th>Change_Per_Year</th>\n",
       "      <th>Pct_Affordable_2017</th>\n",
       "      <th>Pct_Affordable_2025</th>\n",
       "      <th>Pct_Affordable_2025_Avg</th>\n",
       "      <th>Count_2009</th>\n",
       "      <th>Count_2013</th>\n",
       "      <th>Count_2017</th>\n",
       "      <th>Growth_Rate</th>\n",
       "      <th>Projected_Count_2025</th>\n",
       "    </tr>\n",
       "  </thead>\n",
       "  <tbody>\n",
       "    <tr>\n",
       "      <th>0</th>\n",
       "      <td>1.0</td>\n",
       "      <td>0.074172</td>\n",
       "      <td>0.736729</td>\n",
       "      <td>0.565776</td>\n",
       "      <td>0.703924</td>\n",
       "      <td>5920</td>\n",
       "      <td>5968</td>\n",
       "      <td>6066</td>\n",
       "      <td>0.004080</td>\n",
       "      <td>6266.854173</td>\n",
       "    </tr>\n",
       "    <tr>\n",
       "      <th>1</th>\n",
       "      <td>2.0</td>\n",
       "      <td>0.104110</td>\n",
       "      <td>0.915794</td>\n",
       "      <td>0.662304</td>\n",
       "      <td>0.898560</td>\n",
       "      <td>4365</td>\n",
       "      <td>4382</td>\n",
       "      <td>4584</td>\n",
       "      <td>0.011330</td>\n",
       "      <td>5016.364438</td>\n",
       "    </tr>\n",
       "    <tr>\n",
       "      <th>2</th>\n",
       "      <td>3.0</td>\n",
       "      <td>0.071794</td>\n",
       "      <td>0.790866</td>\n",
       "      <td>0.641862</td>\n",
       "      <td>0.766002</td>\n",
       "      <td>5345</td>\n",
       "      <td>5440</td>\n",
       "      <td>5671</td>\n",
       "      <td>0.010451</td>\n",
       "      <td>6162.843544</td>\n",
       "    </tr>\n",
       "    <tr>\n",
       "      <th>3</th>\n",
       "      <td>4.0</td>\n",
       "      <td>0.065313</td>\n",
       "      <td>0.163507</td>\n",
       "      <td>0.101896</td>\n",
       "      <td>0.143016</td>\n",
       "      <td>6856</td>\n",
       "      <td>6964</td>\n",
       "      <td>7174</td>\n",
       "      <td>0.007455</td>\n",
       "      <td>7613.188662</td>\n",
       "    </tr>\n",
       "    <tr>\n",
       "      <th>4</th>\n",
       "      <td>5.0</td>\n",
       "      <td>0.214676</td>\n",
       "      <td>0.606934</td>\n",
       "      <td>0.017134</td>\n",
       "      <td>0.564201</td>\n",
       "      <td>4513</td>\n",
       "      <td>4532</td>\n",
       "      <td>4961</td>\n",
       "      <td>0.022869</td>\n",
       "      <td>5944.671747</td>\n",
       "    </tr>\n",
       "  </tbody>\n",
       "</table>\n",
       "</div>"
      ],
      "text/plain": [
       "   Council District  Change_Per_Year  Pct_Affordable_2017  \\\n",
       "0               1.0         0.074172             0.736729   \n",
       "1               2.0         0.104110             0.915794   \n",
       "2               3.0         0.071794             0.790866   \n",
       "3               4.0         0.065313             0.163507   \n",
       "4               5.0         0.214676             0.606934   \n",
       "\n",
       "   Pct_Affordable_2025  Pct_Affordable_2025_Avg  Count_2009  Count_2013  \\\n",
       "0             0.565776                 0.703924        5920        5968   \n",
       "1             0.662304                 0.898560        4365        4382   \n",
       "2             0.641862                 0.766002        5345        5440   \n",
       "3             0.101896                 0.143016        6856        6964   \n",
       "4             0.017134                 0.564201        4513        4532   \n",
       "\n",
       "   Count_2017  Growth_Rate  Projected_Count_2025  \n",
       "0        6066     0.004080           6266.854173  \n",
       "1        4584     0.011330           5016.364438  \n",
       "2        5671     0.010451           6162.843544  \n",
       "3        7174     0.007455           7613.188662  \n",
       "4        4961     0.022869           5944.671747  "
      ]
     },
     "execution_count": 174,
     "metadata": {},
     "output_type": "execute_result"
    }
   ],
   "source": [
    "districts.head()"
   ]
  },
  {
   "cell_type": "code",
   "execution_count": 175,
   "metadata": {},
   "outputs": [],
   "source": [
    "districts['Growth_Rate'] = (districts['Count_2017'] / districts['Count_2013'])**(1/4) - 1"
   ]
  },
  {
   "cell_type": "code",
   "execution_count": 176,
   "metadata": {},
   "outputs": [
    {
     "data": {
      "text/html": [
       "<div>\n",
       "<style scoped>\n",
       "    .dataframe tbody tr th:only-of-type {\n",
       "        vertical-align: middle;\n",
       "    }\n",
       "\n",
       "    .dataframe tbody tr th {\n",
       "        vertical-align: top;\n",
       "    }\n",
       "\n",
       "    .dataframe thead th {\n",
       "        text-align: right;\n",
       "    }\n",
       "</style>\n",
       "<table border=\"1\" class=\"dataframe\">\n",
       "  <thead>\n",
       "    <tr style=\"text-align: right;\">\n",
       "      <th></th>\n",
       "      <th>Council District</th>\n",
       "      <th>Change_Per_Year</th>\n",
       "      <th>Pct_Affordable_2017</th>\n",
       "      <th>Pct_Affordable_2025</th>\n",
       "      <th>Pct_Affordable_2025_Avg</th>\n",
       "      <th>Count_2009</th>\n",
       "      <th>Count_2013</th>\n",
       "      <th>Count_2017</th>\n",
       "      <th>Growth_Rate</th>\n",
       "      <th>Projected_Count_2025</th>\n",
       "    </tr>\n",
       "  </thead>\n",
       "  <tbody>\n",
       "    <tr>\n",
       "      <th>0</th>\n",
       "      <td>1.0</td>\n",
       "      <td>0.074172</td>\n",
       "      <td>0.736729</td>\n",
       "      <td>0.565776</td>\n",
       "      <td>0.703924</td>\n",
       "      <td>5920</td>\n",
       "      <td>5968</td>\n",
       "      <td>6066</td>\n",
       "      <td>0.004080</td>\n",
       "      <td>6266.854173</td>\n",
       "    </tr>\n",
       "    <tr>\n",
       "      <th>1</th>\n",
       "      <td>2.0</td>\n",
       "      <td>0.104110</td>\n",
       "      <td>0.915794</td>\n",
       "      <td>0.662304</td>\n",
       "      <td>0.898560</td>\n",
       "      <td>4365</td>\n",
       "      <td>4382</td>\n",
       "      <td>4584</td>\n",
       "      <td>0.011330</td>\n",
       "      <td>5016.364438</td>\n",
       "    </tr>\n",
       "    <tr>\n",
       "      <th>2</th>\n",
       "      <td>3.0</td>\n",
       "      <td>0.071794</td>\n",
       "      <td>0.790866</td>\n",
       "      <td>0.641862</td>\n",
       "      <td>0.766002</td>\n",
       "      <td>5345</td>\n",
       "      <td>5440</td>\n",
       "      <td>5671</td>\n",
       "      <td>0.010451</td>\n",
       "      <td>6162.843544</td>\n",
       "    </tr>\n",
       "    <tr>\n",
       "      <th>3</th>\n",
       "      <td>4.0</td>\n",
       "      <td>0.065313</td>\n",
       "      <td>0.163507</td>\n",
       "      <td>0.101896</td>\n",
       "      <td>0.143016</td>\n",
       "      <td>6856</td>\n",
       "      <td>6964</td>\n",
       "      <td>7174</td>\n",
       "      <td>0.007455</td>\n",
       "      <td>7613.188662</td>\n",
       "    </tr>\n",
       "    <tr>\n",
       "      <th>4</th>\n",
       "      <td>5.0</td>\n",
       "      <td>0.214676</td>\n",
       "      <td>0.606934</td>\n",
       "      <td>0.017134</td>\n",
       "      <td>0.564201</td>\n",
       "      <td>4513</td>\n",
       "      <td>4532</td>\n",
       "      <td>4961</td>\n",
       "      <td>0.022869</td>\n",
       "      <td>5944.671747</td>\n",
       "    </tr>\n",
       "  </tbody>\n",
       "</table>\n",
       "</div>"
      ],
      "text/plain": [
       "   Council District  Change_Per_Year  Pct_Affordable_2017  \\\n",
       "0               1.0         0.074172             0.736729   \n",
       "1               2.0         0.104110             0.915794   \n",
       "2               3.0         0.071794             0.790866   \n",
       "3               4.0         0.065313             0.163507   \n",
       "4               5.0         0.214676             0.606934   \n",
       "\n",
       "   Pct_Affordable_2025  Pct_Affordable_2025_Avg  Count_2009  Count_2013  \\\n",
       "0             0.565776                 0.703924        5920        5968   \n",
       "1             0.662304                 0.898560        4365        4382   \n",
       "2             0.641862                 0.766002        5345        5440   \n",
       "3             0.101896                 0.143016        6856        6964   \n",
       "4             0.017134                 0.564201        4513        4532   \n",
       "\n",
       "   Count_2017  Growth_Rate  Projected_Count_2025  \n",
       "0        6066     0.004080           6266.854173  \n",
       "1        4584     0.011330           5016.364438  \n",
       "2        5671     0.010451           6162.843544  \n",
       "3        7174     0.007455           7613.188662  \n",
       "4        4961     0.022869           5944.671747  "
      ]
     },
     "execution_count": 176,
     "metadata": {},
     "output_type": "execute_result"
    }
   ],
   "source": [
    "districts.head()"
   ]
  },
  {
   "cell_type": "code",
   "execution_count": 177,
   "metadata": {},
   "outputs": [],
   "source": [
    "districts['Projected_Count_2025'] = districts['Count_2017'] * (1 + districts['Growth_Rate'])**8"
   ]
  },
  {
   "cell_type": "code",
   "execution_count": 178,
   "metadata": {},
   "outputs": [
    {
     "data": {
      "text/html": [
       "<div>\n",
       "<style scoped>\n",
       "    .dataframe tbody tr th:only-of-type {\n",
       "        vertical-align: middle;\n",
       "    }\n",
       "\n",
       "    .dataframe tbody tr th {\n",
       "        vertical-align: top;\n",
       "    }\n",
       "\n",
       "    .dataframe thead th {\n",
       "        text-align: right;\n",
       "    }\n",
       "</style>\n",
       "<table border=\"1\" class=\"dataframe\">\n",
       "  <thead>\n",
       "    <tr style=\"text-align: right;\">\n",
       "      <th></th>\n",
       "      <th>Council District</th>\n",
       "      <th>Change_Per_Year</th>\n",
       "      <th>Pct_Affordable_2017</th>\n",
       "      <th>Pct_Affordable_2025</th>\n",
       "      <th>Pct_Affordable_2025_Avg</th>\n",
       "      <th>Count_2009</th>\n",
       "      <th>Count_2013</th>\n",
       "      <th>Count_2017</th>\n",
       "      <th>Growth_Rate</th>\n",
       "      <th>Projected_Count_2025</th>\n",
       "    </tr>\n",
       "  </thead>\n",
       "  <tbody>\n",
       "    <tr>\n",
       "      <th>16</th>\n",
       "      <td>17.0</td>\n",
       "      <td>0.137317</td>\n",
       "      <td>0.349868</td>\n",
       "      <td>0.067220</td>\n",
       "      <td>0.322737</td>\n",
       "      <td>3826</td>\n",
       "      <td>3961</td>\n",
       "      <td>4939</td>\n",
       "      <td>0.056717</td>\n",
       "      <td>7679.048202</td>\n",
       "    </tr>\n",
       "    <tr>\n",
       "      <th>31</th>\n",
       "      <td>32.0</td>\n",
       "      <td>0.077724</td>\n",
       "      <td>0.863469</td>\n",
       "      <td>0.576964</td>\n",
       "      <td>0.820506</td>\n",
       "      <td>2971</td>\n",
       "      <td>3201</td>\n",
       "      <td>3794</td>\n",
       "      <td>0.043405</td>\n",
       "      <td>5329.919274</td>\n",
       "    </tr>\n",
       "    <tr>\n",
       "      <th>30</th>\n",
       "      <td>31.0</td>\n",
       "      <td>0.072716</td>\n",
       "      <td>0.511429</td>\n",
       "      <td>0.287453</td>\n",
       "      <td>0.474534</td>\n",
       "      <td>6383</td>\n",
       "      <td>6916</td>\n",
       "      <td>8050</td>\n",
       "      <td>0.038688</td>\n",
       "      <td>10906.305832</td>\n",
       "    </tr>\n",
       "    <tr>\n",
       "      <th>32</th>\n",
       "      <td>33.0</td>\n",
       "      <td>0.076955</td>\n",
       "      <td>0.845262</td>\n",
       "      <td>0.527270</td>\n",
       "      <td>0.804911</td>\n",
       "      <td>6898</td>\n",
       "      <td>7017</td>\n",
       "      <td>8104</td>\n",
       "      <td>0.036662</td>\n",
       "      <td>10809.244587</td>\n",
       "    </tr>\n",
       "    <tr>\n",
       "      <th>18</th>\n",
       "      <td>19.0</td>\n",
       "      <td>0.128525</td>\n",
       "      <td>0.219139</td>\n",
       "      <td>0.076050</td>\n",
       "      <td>0.198054</td>\n",
       "      <td>5004</td>\n",
       "      <td>4822</td>\n",
       "      <td>5549</td>\n",
       "      <td>0.035731</td>\n",
       "      <td>7348.348797</td>\n",
       "    </tr>\n",
       "  </tbody>\n",
       "</table>\n",
       "</div>"
      ],
      "text/plain": [
       "    Council District  Change_Per_Year  Pct_Affordable_2017  \\\n",
       "16              17.0         0.137317             0.349868   \n",
       "31              32.0         0.077724             0.863469   \n",
       "30              31.0         0.072716             0.511429   \n",
       "32              33.0         0.076955             0.845262   \n",
       "18              19.0         0.128525             0.219139   \n",
       "\n",
       "    Pct_Affordable_2025  Pct_Affordable_2025_Avg  Count_2009  Count_2013  \\\n",
       "16             0.067220                 0.322737        3826        3961   \n",
       "31             0.576964                 0.820506        2971        3201   \n",
       "30             0.287453                 0.474534        6383        6916   \n",
       "32             0.527270                 0.804911        6898        7017   \n",
       "18             0.076050                 0.198054        5004        4822   \n",
       "\n",
       "    Count_2017  Growth_Rate  Projected_Count_2025  \n",
       "16        4939     0.056717           7679.048202  \n",
       "31        3794     0.043405           5329.919274  \n",
       "30        8050     0.038688          10906.305832  \n",
       "32        8104     0.036662          10809.244587  \n",
       "18        5549     0.035731           7348.348797  "
      ]
     },
     "execution_count": 178,
     "metadata": {},
     "output_type": "execute_result"
    }
   ],
   "source": [
    "districts.nlargest(5, 'Growth_Rate')"
   ]
  },
  {
   "cell_type": "code",
   "execution_count": 179,
   "metadata": {},
   "outputs": [
    {
     "data": {
      "text/html": [
       "<div>\n",
       "<style scoped>\n",
       "    .dataframe tbody tr th:only-of-type {\n",
       "        vertical-align: middle;\n",
       "    }\n",
       "\n",
       "    .dataframe tbody tr th {\n",
       "        vertical-align: top;\n",
       "    }\n",
       "\n",
       "    .dataframe thead th {\n",
       "        text-align: right;\n",
       "    }\n",
       "</style>\n",
       "<table border=\"1\" class=\"dataframe\">\n",
       "  <thead>\n",
       "    <tr style=\"text-align: right;\">\n",
       "      <th></th>\n",
       "      <th>Council District</th>\n",
       "      <th>Change_Per_Year</th>\n",
       "      <th>Pct_Affordable_2017</th>\n",
       "      <th>Pct_Affordable_2025</th>\n",
       "      <th>Pct_Affordable_2025_Avg</th>\n",
       "      <th>Count_2009</th>\n",
       "      <th>Count_2013</th>\n",
       "      <th>Count_2017</th>\n",
       "      <th>Growth_Rate</th>\n",
       "      <th>Projected_Count_2025</th>\n",
       "    </tr>\n",
       "  </thead>\n",
       "  <tbody>\n",
       "    <tr>\n",
       "      <th>4</th>\n",
       "      <td>5.0</td>\n",
       "      <td>0.214676</td>\n",
       "      <td>0.606934</td>\n",
       "      <td>0.017134</td>\n",
       "      <td>0.564201</td>\n",
       "      <td>4513</td>\n",
       "      <td>4532</td>\n",
       "      <td>4961</td>\n",
       "      <td>0.022869</td>\n",
       "      <td>5944.671747</td>\n",
       "    </tr>\n",
       "  </tbody>\n",
       "</table>\n",
       "</div>"
      ],
      "text/plain": [
       "   Council District  Change_Per_Year  Pct_Affordable_2017  \\\n",
       "4               5.0         0.214676             0.606934   \n",
       "\n",
       "   Pct_Affordable_2025  Pct_Affordable_2025_Avg  Count_2009  Count_2013  \\\n",
       "4             0.017134                 0.564201        4513        4532   \n",
       "\n",
       "   Count_2017  Growth_Rate  Projected_Count_2025  \n",
       "4        4961     0.022869           5944.671747  "
      ]
     },
     "execution_count": 179,
     "metadata": {},
     "output_type": "execute_result"
    }
   ],
   "source": [
    "districts.loc[districts['Council District'] == 5]"
   ]
  },
  {
   "cell_type": "code",
   "execution_count": 180,
   "metadata": {},
   "outputs": [
    {
     "data": {
      "text/plain": [
       "197589"
      ]
     },
     "execution_count": 180,
     "metadata": {},
     "output_type": "execute_result"
    }
   ],
   "source": [
    "districts.Count_2017.sum()"
   ]
  },
  {
   "cell_type": "code",
   "execution_count": 181,
   "metadata": {},
   "outputs": [
    {
     "data": {
      "text/plain": [
       "109993.0"
      ]
     },
     "execution_count": 181,
     "metadata": {},
     "output_type": "execute_result"
    }
   ],
   "source": [
    "(districts.Pct_Affordable_2017 * districts.Count_2017).sum()"
   ]
  },
  {
   "cell_type": "code",
   "execution_count": 182,
   "metadata": {},
   "outputs": [
    {
     "data": {
      "text/plain": [
       "69724.10032830294"
      ]
     },
     "execution_count": 182,
     "metadata": {},
     "output_type": "execute_result"
    }
   ],
   "source": [
    "(districts.Pct_Affordable_2025 * districts.Projected_Count_2025).sum()"
   ]
  },
  {
   "cell_type": "code",
   "execution_count": 183,
   "metadata": {},
   "outputs": [
    {
     "data": {
      "text/plain": [
       "116871.99568960743"
      ]
     },
     "execution_count": 183,
     "metadata": {},
     "output_type": "execute_result"
    }
   ],
   "source": [
    "(districts.Pct_Affordable_2025_Avg * districts.Projected_Count_2025).sum()"
   ]
  },
  {
   "cell_type": "code",
   "execution_count": null,
   "metadata": {},
   "outputs": [],
   "source": []
  },
  {
   "cell_type": "code",
   "execution_count": 191,
   "metadata": {},
   "outputs": [],
   "source": [
    "import ipywidgets as widgets"
   ]
  },
  {
   "cell_type": "code",
   "execution_count": 205,
   "metadata": {},
   "outputs": [
    {
     "data": {
      "application/vnd.jupyter.widget-view+json": {
       "model_id": "410edcd0a3ca40eb9fdd6978a667ca45",
       "version_major": 2,
       "version_minor": 0
      },
      "text/plain": [
       "Dropdown(description='Home Prices Increase:', index=1, options=('low: 1%', '2', '3'), value='2')"
      ]
     },
     "metadata": {},
     "output_type": "display_data"
    }
   ],
   "source": [
    "HPI_widget = widgets.Dropdown(\n",
    "    options=['low: 1%', '2', '3'],\n",
    "    value='2',\n",
    "    description='Home Prices Increase:',\n",
    "    disabled=False,\n",
    ")\n",
    "display(HPI_widget)"
   ]
  },
  {
   "cell_type": "code",
   "execution_count": 198,
   "metadata": {},
   "outputs": [
    {
     "data": {
      "text/plain": [
       "'3'"
      ]
     },
     "execution_count": 198,
     "metadata": {},
     "output_type": "execute_result"
    }
   ],
   "source": [
    "w.value"
   ]
  },
  {
   "cell_type": "code",
   "execution_count": 206,
   "metadata": {},
   "outputs": [],
   "source": []
  },
  {
   "cell_type": "code",
   "execution_count": null,
   "metadata": {},
   "outputs": [],
   "source": [
    "from matplotlib import rc\n",
    "\n",
    "fig, ax = plt.subplots(1, 1, figsize=(12, 8))\n",
    "\n",
    "# y-axis in bold\n",
    "rc('font', weight='bold')\n",
    "\n",
    "# The position of the bars on the x-axis\n",
    "r = [0,2]\n",
    "\n",
    "# Names of group and bar width\n",
    "names = ['2017','2025']\n",
    "barWidth = 1\n",
    "\n",
    "labels = list(reversed(['0% - 30%', '30% - 60%', '60% - 80%', '80% - 120%']))\n",
    "\n",
    "for i in range(len(nash_cdf_2016) -1):\n",
    "    plt.bar(r, [nash_cdf_2010[len(nash_cdf_2016) -1 - i], nash_cdf_2013[len(nash_cdf_2016) -1 - i], nash_cdf_2015[len(nash_cdf_2016) -1 - i], nash_cdf_2016[len(nash_cdf_2016) -1 - i]], edgecolor='white', width=barWidth, label = labels[i])\n",
    "\n",
    "# Custom X axis\n",
    "plt.xticks(r, names, fontweight='bold')\n",
    "plt.xlabel(\"Year\")\n",
    "plt.title(\"Distribution of Affordable and Workforce Homes\")\n",
    "\n",
    "plt.legend()\n",
    "\n",
    "# Show graphic\n",
    "plt.show()"
   ]
  },
  {
   "cell_type": "code",
   "execution_count": 433,
   "metadata": {},
   "outputs": [],
   "source": [
    "med_2017 = 68000\n",
    "homes_2017 = 197589\n",
    "hh_2017 = 283929\n",
    "pct_aff_low_2017 = 100 * final_sf.loc[final_sf.Mortgage_Per_Year_2017 < med_2017 * .3 * .3].shape[0] / final_sf.loc[final_sf.Mortgage_Per_Year_2017 > 0].shape[0]\n",
    "pct_aff_high_2017 = (100 * final_sf.loc[final_sf.Mortgage_Per_Year_2017 < med_2017 * .6 * .3].shape[0] / final_sf.loc[final_sf.Mortgage_Per_Year_2017 > 0].shape[0]) - pct_aff_low_2017\n",
    "pct_wf_low_2017 = (100 * final_sf.loc[final_sf.Mortgage_Per_Year_2017 < med_2017 * .8 * .3].shape[0] / final_sf.loc[final_sf.Mortgage_Per_Year_2017 > 0].shape[0]) - (pct_aff_low_2017 + pct_aff_high_2017)\n",
    "pct_wf_high_2017 = (100 * final_sf.loc[final_sf.Mortgage_Per_Year_2017 < med_2017 * 1.2 * .3].shape[0] / final_sf.loc[final_sf.Mortgage_Per_Year_2017 > 0].shape[0]) - (pct_aff_low_2017 + pct_aff_high_2017 + pct_wf_low_2017)\n",
    "num_aff_low_2017 = homes_2017 * pct_aff_low_2017 / 100\n",
    "num_aff_high_2017 = homes_2017 * pct_aff_high_2017 / 100\n",
    "num_wf_low_2017 = homes_2017 * pct_wf_low_2017 / 100\n",
    "num_wf_high_2017 = homes_2017 * pct_wf_high_2017 /100\n",
    "\n",
    "\n",
    "def home_proj(hp_growth, income_growth, pop_growth, home_growth):\n",
    "    med_2025 = med_2017* (1+income_growth)**8\n",
    "    final_sf['Mortgage_Per_Year_2025'] = final_sf['Mortgage_Per_Year_2017']*(1 + hp_growth)**8\n",
    "    \n",
    "    pct_aff_low = 100 * final_sf.loc[final_sf.Mortgage_Per_Year_2025 < med_2025 * .3 * .3].shape[0] / final_sf.loc[final_sf.Mortgage_Per_Year_2025 > 0].shape[0]\n",
    "    pct_aff_high = (100 * final_sf.loc[final_sf.Mortgage_Per_Year_2025 < med_2025 * .6 * .3].shape[0] / final_sf.loc[final_sf.Mortgage_Per_Year_2025 > 0].shape[0]) - pct_aff_low\n",
    "    pct_wf_low = (100 * final_sf.loc[final_sf.Mortgage_Per_Year_2025 < med_2025 * .8 * .3].shape[0] / final_sf.loc[final_sf.Mortgage_Per_Year_2025 > 0].shape[0]) - (pct_aff_low + pct_aff_high)\n",
    "    pct_wf_high = (100 * final_sf.loc[final_sf.Mortgage_Per_Year_2025 < med_2025 * 1.2 * .3].shape[0] / final_sf.loc[final_sf.Mortgage_Per_Year_2025 > 0].shape[0]) - (pct_aff_low + pct_aff_high + pct_wf_low)\n",
    "        \n",
    "    pct_aff = 100 * final_sf.loc[final_sf.Mortgage_Per_Year_2025 < med_2025 * .6 * .3].shape[0] / final_sf.loc[final_sf.Mortgage_Per_Year_2025 > 0].shape[0]\n",
    "    pct_workforce = (100 * final_sf.loc[final_sf.Mortgage_Per_Year_2025 < med_2025 * 1.2 * .3].shape[0] / final_sf.loc[final_sf.Mortgage_Per_Year_2025 > 0].shape[0]) - pct_aff\n",
    "    \n",
    "    homes_2025 = homes_2017*(1 + home_growth)**8\n",
    "\n",
    "    num_aff = homes_2025 * pct_aff / 100\n",
    "    num_workforce = homes_2025 * pct_workforce / 100\n",
    "    \n",
    "    num_aff_low = homes_2025 * pct_aff_low / 100\n",
    "    num_aff_high = homes_2025 * pct_aff_high / 100\n",
    "    num_wf_low = homes_2025 * pct_wf_low / 100\n",
    "    num_wf_high = homes_2025 * pct_wf_high /100\n",
    "    \n",
    "    hh_2025 = hh_2017*(1+pop_growth)**8\n",
    "    \n",
    "    groups = ['Affordable 0% - 30%', 'Affordable 30% - 60%', 'Workforce 60% - 80%', 'Workforce 80% - 120%']\n",
    "    pct_2017 = [pct_aff_low_2017, pct_aff_high_2017, pct_wf_low_2017, pct_wf_high_2017]\n",
    "    num_2017 = [num_aff_low_2017, num_aff_high_2017, num_wf_low_2017, num_wf_high_2017]\n",
    "    pct_2025 = [pct_aff_low, pct_aff_high, pct_wf_low, pct_wf_high]\n",
    "    num_2025 = [num_aff_low, num_aff_high, num_wf_low, num_wf_high]\n",
    "    \n",
    "    cum_pct_2017 = np.array(pct_2017).cumsum()\n",
    "    cum_pct_2025 = np.array(pct_2025).cumsum()\n",
    "    \n",
    "    df = pd.DataFrame({'Group' : groups, 'Percent 2017': pct_2017, 'Number 2017' : num_2017,\n",
    "                     'Percent 2025': pct_2025, 'Number 2025': num_2025})\n",
    "    \n",
    "    df['Number 2017'] = df['Number 2017'].apply(lambda x: '{0:,.0f}'.format(x))\n",
    "    df['Number 2025'] = df['Number 2025'].apply(lambda x: '{0:,.0f}'.format(x))\n",
    "    df['Percent 2017'] = df['Percent 2017'].apply(lambda x: '{0:.2f}%'.format(x))\n",
    "    df['Percent 2025'] = df['Percent 2025'].apply(lambda x: '{0:.2f}%'.format(x))\n",
    "\n",
    "    \n",
    "    printmd('***Number of Households in 2025: ***' + '{0:,.0f}'.format(hh_2025))\n",
    "    printmd('***Median Income in 2025 (Family of 4): ***' + '${:,.2f}'.format(med_2025))\n",
    "\n",
    "\n",
    "    display(HTML(df.to_html(index = False)))\n",
    "    \n",
    "    fig, ax = plt.subplots(1, 1, figsize=(12, 8))\n",
    "\n",
    "    # y-axis in bold\n",
    "    rc('font', weight='bold')\n",
    "\n",
    "    # The position of the bars on the x-axis\n",
    "    r = [0,2]\n",
    "\n",
    "    # Names of group and bar width\n",
    "    names = ['2017','2025']\n",
    "    barWidth = 1\n",
    "\n",
    "    labels = list(reversed(['0% - 30%', '30% - 60%', '60% - 80%', '80% - 120%']))\n",
    "    \n",
    "    plt.grid(axis = 'y', linestyle = '--', color = 'black')\n",
    "\n",
    "    for i in range(len(cum_pct_2017)):\n",
    "        plt.bar(r, [cum_pct_2017[len(cum_pct_2017) -1 - i], cum_pct_2025[len(cum_pct_2017) -1 - i]], edgecolor='white', width=barWidth, label = labels[i])\n",
    "\n",
    "    # Custom X axis\n",
    "    plt.xticks(r, names, fontweight='bold', fontsize = 16)\n",
    "    plt.xlabel(\"Year\", fontsize = 16)\n",
    "    plt.yticks([0, 10, 20, 30, 40, 50, 60, 70, 80, 90, 100], fontsize = 14)\n",
    "    plt.title(\"Percentage of Affordable and Workforce Homes\", fontsize = 16)\n",
    "\n",
    "    plt.legend(title = \"Income Bracket\", loc = 'upper right')\n",
    "    \n",
    "\n",
    "    # Show graphic\n",
    "    plt.show()    \n"
   ]
  },
  {
   "cell_type": "code",
   "execution_count": 432,
   "metadata": {},
   "outputs": [
    {
     "data": {
      "application/vnd.jupyter.widget-view+json": {
       "model_id": "e202f6cbd26d4d1ea2b75cb7f5218a2b",
       "version_major": 2,
       "version_minor": 0
      },
      "text/plain": [
       "interactive(children=(Dropdown(description='Growth in Home Prices', options={'Recent: 9.75%': 0.0975, 'Medium:…"
      ]
     },
     "metadata": {},
     "output_type": "display_data"
    }
   ],
   "source": [
    "style = {'description_width': 'initial'}\n",
    "# Continuous_update = False for IntSlider control to stop continuous model evaluation while the slider is being dragged\n",
    "m = interactive(home_proj,\n",
    "                hp_growth=widgets.Dropdown(options={\"Recent: 9.75%\":0.0975,\n",
    "                                                    \"Medium: 7.5%\":0.075,\n",
    "                                                    \"Average: 5.05%\":0.0505},\n",
    "                                          description=\"Growth in Home Prices\",style=style),\n",
    "                income_growth =widgets.Dropdown(options={\"Recent: 4.5%\":0.045,\n",
    "                                                    \"Medium: 3%\":0.03,\n",
    "                                                    \"Average: 1.85%\":0.0185},\n",
    "                                          description=\"Income Growth\",style=style),\n",
    "                pop_growth = widgets.Dropdown(options={\"High: 2%\":0.02,\n",
    "                                                    \"Medium: 1.5%\":0.015,\n",
    "                                                    \"Low: 1%\":0.01},\n",
    "                                              value = 0.015,\n",
    "                                          description=\"Population Growth\",style=style),\n",
    "                home_growth = widgets.Dropdown(options={\"High: 1.8%\":0.018,\n",
    "                                                    \"Recent: 1.4%\":0.014,\n",
    "                                                    \"Low: 1%\":0.01},\n",
    "                                               value = 0.014,\n",
    "                                          description=\"Growth in Home Supply\",style=style)\n",
    ")\n",
    "\n",
    "# Set the height of the control.children[-1] so that the output does not jump and flicker\n",
    "#output = m.children[-1]\n",
    "#output.layout.height = '450px'\n",
    "\n",
    "# Display the control\n",
    "display(m)"
   ]
  },
  {
   "cell_type": "code",
   "execution_count": 463,
   "metadata": {},
   "outputs": [],
   "source": [
    "med_2017 = 68000\n",
    "homes_2017 = 197589\n",
    "hh_2017 = 283929\n",
    "pct_aff_low_2017 = 100 * final_sf.loc[final_sf.Mortgage_Per_Year_2017 < med_2017 * .3 * .3].shape[0] / final_sf.loc[final_sf.Mortgage_Per_Year_2017 > 0].shape[0]\n",
    "pct_aff_high_2017 = (100 * final_sf.loc[final_sf.Mortgage_Per_Year_2017 < med_2017 * .6 * .3].shape[0] / final_sf.loc[final_sf.Mortgage_Per_Year_2017 > 0].shape[0]) - pct_aff_low_2017\n",
    "pct_wf_low_2017 = (100 * final_sf.loc[final_sf.Mortgage_Per_Year_2017 < med_2017 * .8 * .3].shape[0] / final_sf.loc[final_sf.Mortgage_Per_Year_2017 > 0].shape[0]) - (pct_aff_low_2017 + pct_aff_high_2017)\n",
    "pct_wf_high_2017 = (100 * final_sf.loc[final_sf.Mortgage_Per_Year_2017 < med_2017 * 1.2 * .3].shape[0] / final_sf.loc[final_sf.Mortgage_Per_Year_2017 > 0].shape[0]) - (pct_aff_low_2017 + pct_aff_high_2017 + pct_wf_low_2017)\n",
    "num_aff_low_2017 = homes_2017 * pct_aff_low_2017 / 100\n",
    "num_aff_high_2017 = homes_2017 * pct_aff_high_2017 / 100\n",
    "num_wf_low_2017 = homes_2017 * pct_wf_low_2017 / 100\n",
    "num_wf_high_2017 = homes_2017 * pct_wf_high_2017 /100\n",
    "\n",
    "\n",
    "def dist_proj(district, hp_growth, income_growth, pop_growth, home_growth):\n",
    "    df = final_sf.loc[final_sf['Council District'] == district]\n",
    "    med_2025 = med_2017* (1+income_growth)**8\n",
    "    \n",
    "    homes_2017 = df.loc[df.Mortgage_Per_Year_2017 > 0].shape[0]\n",
    "    \n",
    "    if hp_growth == -9999:\n",
    "        growth = rates[district]\n",
    "    else:\n",
    "        growth = hp_growth\n",
    "    \n",
    "    df['Mortgage_Per_Year_2025'] = final_sf['Mortgage_Per_Year_2017']*(1 + growth)**8\n",
    "    \n",
    "    pct_aff_low = 100 * df.loc[df.Mortgage_Per_Year_2025 < med_2025 * .3 * .3].shape[0] / df.loc[df.Mortgage_Per_Year_2025 > 0].shape[0]\n",
    "    pct_aff_high = (100 * df.loc[df.Mortgage_Per_Year_2025 < med_2025 * .6 * .3].shape[0] / df.loc[df.Mortgage_Per_Year_2025 > 0].shape[0]) - pct_aff_low\n",
    "    pct_wf_low = (100 * df.loc[df.Mortgage_Per_Year_2025 < med_2025 * .8 * .3].shape[0] / df.loc[df.Mortgage_Per_Year_2025 > 0].shape[0]) - (pct_aff_low + pct_aff_high)\n",
    "    pct_wf_high = (100 * df.loc[df.Mortgage_Per_Year_2025 < med_2025 * 1.2 * .3].shape[0] / df.loc[df.Mortgage_Per_Year_2025 > 0].shape[0]) - (pct_aff_low + pct_aff_high + pct_wf_low)\n",
    "        \n",
    "    pct_aff = 100 * df.loc[df.Mortgage_Per_Year_2025 < med_2025 * .6 * .3].shape[0] / df.loc[df.Mortgage_Per_Year_2025 > 0].shape[0]\n",
    "    pct_workforce = (100 * df.loc[df.Mortgage_Per_Year_2025 < med_2025 * 1.2 * .3].shape[0] / df.loc[df.Mortgage_Per_Year_2025 > 0].shape[0]) - pct_aff\n",
    "    \n",
    "    homes_2025 = homes_2017*(1 + home_growth)**8\n",
    "\n",
    "    num_aff = homes_2025 * pct_aff / 100\n",
    "    num_workforce = homes_2025 * pct_workforce / 100\n",
    "    \n",
    "    num_aff_low = homes_2025 * pct_aff_low / 100\n",
    "    num_aff_high = homes_2025 * pct_aff_high / 100\n",
    "    num_wf_low = homes_2025 * pct_wf_low / 100\n",
    "    num_wf_high = homes_2025 * pct_wf_high /100\n",
    "    \n",
    "    hh_2025 = hh_2017*(1+pop_growth)**8\n",
    "    \n",
    "    groups = ['Affordable 0% - 30%', 'Affordable 30% - 60%', 'Workforce 60% - 80%', 'Workforce 80% - 120%']\n",
    "    pct_2017 = [pct_aff_low_2017, pct_aff_high_2017, pct_wf_low_2017, pct_wf_high_2017]\n",
    "    num_2017 = [num_aff_low_2017, num_aff_high_2017, num_wf_low_2017, num_wf_high_2017]\n",
    "    pct_2025 = [pct_aff_low, pct_aff_high, pct_wf_low, pct_wf_high]\n",
    "    num_2025 = [num_aff_low, num_aff_high, num_wf_low, num_wf_high]\n",
    "    \n",
    "    df = pd.DataFrame({'Group' : groups, 'Percent 2017': pct_2017, 'Number 2017' : num_2017,\n",
    "                     'Percent 2025': pct_2025, 'Number 2025': num_2025})\n",
    "    \n",
    "    df['Number 2017'] = df['Number 2017'].apply(lambda x: '{0:,.0f}'.format(x))\n",
    "    df['Number 2025'] = df['Number 2025'].apply(lambda x: '{0:,.0f}'.format(x))\n",
    "    df['Percent 2017'] = df['Percent 2017'].apply(lambda x: '{0:.2f}%'.format(x))\n",
    "    df['Percent 2025'] = df['Percent 2025'].apply(lambda x: '{0:.2f}%'.format(x))\n",
    "\n",
    "    printmd('***Annual Price Growth for the District, 2013-2017: ***' + '{0:.2f}%'.format(100*rates[district]))\n",
    "    printmd('***Number of Households in 2025: ***' + '{0:,.0f}'.format(hh_2025))\n",
    "    printmd('***Median Income in 2025 (Family of 4): ***' + '${:,.2f}'.format(med_2025))\n",
    "\n",
    "\n",
    "    display(HTML(df.to_html(index = False)))\n",
    "    \n",
    "    cum_pct_2017 = np.array(pct_2017).cumsum()\n",
    "    cum_pct_2025 = np.array(pct_2025).cumsum()\n",
    "    \n",
    "    fig, ax = plt.subplots(1, 1, figsize=(12, 8))\n",
    "\n",
    "    # y-axis in bold\n",
    "    rc('font', weight='bold')\n",
    "\n",
    "    # The position of the bars on the x-axis\n",
    "    r = [0,2]\n",
    "\n",
    "    # Names of group and bar width\n",
    "    names = ['2017','2025']\n",
    "    barWidth = 1\n",
    "\n",
    "    labels = list(reversed(['0% - 30%', '30% - 60%', '60% - 80%', '80% - 120%']))\n",
    "    \n",
    "    plt.grid(axis = 'y', linestyle = '--', color = 'black')\n",
    "\n",
    "    for i in range(len(cum_pct_2017)):\n",
    "        plt.bar(r, [cum_pct_2017[len(cum_pct_2017) -1 - i], cum_pct_2025[len(cum_pct_2017) -1 - i]], edgecolor='white', width=barWidth, label = labels[i])\n",
    "\n",
    "    # Custom X axis\n",
    "    plt.xticks(r, names, fontweight='bold', fontsize = 16)\n",
    "    plt.xlabel(\"Year\", fontsize = 16)\n",
    "    plt.yticks([0, 10, 20, 30, 40, 50, 60, 70, 80, 90, 100], fontsize = 14)\n",
    "    plt.title(\"Percentage of Affordable and Workforce Homes\", fontsize = 16)\n",
    "\n",
    "    plt.legend(title = \"Income Bracket\", loc = 'upper right')\n",
    "    \n",
    "\n",
    "    # Show graphic\n",
    "    plt.show()    \n",
    "\n"
   ]
  },
  {
   "cell_type": "code",
   "execution_count": 464,
   "metadata": {
    "scrolled": false
   },
   "outputs": [
    {
     "data": {
      "application/vnd.jupyter.widget-view+json": {
       "model_id": "c5e4ae58a754476bb82acd5bdaf074a0",
       "version_major": 2,
       "version_minor": 0
      },
      "text/plain": [
       "interactive(children=(Dropdown(description='District:', options=(1, 2, 3, 4, 5, 6, 7, 8, 9, 10, 11, 12, 13, 14…"
      ]
     },
     "metadata": {},
     "output_type": "display_data"
    }
   ],
   "source": [
    "style = {'description_width': 'initial'}\n",
    "# Continuous_update = False for IntSlider control to stop continuous model evaluation while the slider is being dragged\n",
    "m = interactive(dist_proj,\n",
    "                district = widgets.Dropdown(options = list(range(1, 36)), description = 'District:', style = style),\n",
    "                \n",
    "                #dist_rate = rates[district.value],\n",
    "                \n",
    "                \n",
    "                hp_growth=widgets.Dropdown(options={\"District Growth Rate\" : -9999,\n",
    "                                                    \"Recent: 9.75%\": 0.0975,\n",
    "                                                    \"Medium: 7.5%\":0.075,\n",
    "                                                    \"Average: 5.05%\":0.0505},\n",
    "                                          description=\"Growth in Home Prices\",style=style),\n",
    "                income_growth =widgets.Dropdown(options={\"Recent: 4.5%\":0.045,\n",
    "                                                    \"Medium: 3%\":0.03,\n",
    "                                                    \"Average: 1.85%\":0.0185},\n",
    "                                          description=\"Income Growth\",style=style),\n",
    "                pop_growth = widgets.Dropdown(options={\"High: 2%\":0.02,\n",
    "                                                    \"Medium: 1.5%\":0.015,\n",
    "                                                    \"Low: 1%\":0.01},\n",
    "                                              value = 0.015,\n",
    "                                          description=\"Population Growth\",style=style),\n",
    "                home_growth = widgets.Dropdown(options={\"High: 1.8%\":0.018,\n",
    "                                                    \"Recent: 1.4%\":0.014,\n",
    "                                                    \"Low: 1%\":0.01},\n",
    "                                               value = 0.014,\n",
    "                                          description=\"Growth in Home Supply\",style=style)\n",
    ")\n",
    "\n",
    "# Set the height of the control.children[-1] so that the output does not jump and flicker\n",
    "#output = m.children[-1]\n",
    "#output.layout.height = '450px'\n",
    "\n",
    "# Display the control\n",
    "display(m)"
   ]
  },
  {
   "cell_type": "code",
   "execution_count": 448,
   "metadata": {},
   "outputs": [
    {
     "data": {
      "text/plain": [
       "0.07179364262527137"
      ]
     },
     "execution_count": 448,
     "metadata": {},
     "output_type": "execute_result"
    }
   ],
   "source": [
    "rates[3]"
   ]
  },
  {
   "cell_type": "code",
   "execution_count": null,
   "metadata": {},
   "outputs": [],
   "source": [
    "# Biggest drop in workforce housing:\n",
    "1. Council District 34: Green Hills\n",
    "2. Council District 18: West End/Vandy area\n",
    "3. Council District 25: Belmont/Hillsboro\n",
    "4. Council District 23: West Nashville (includes the nations)"
   ]
  }
 ],
 "metadata": {
  "kernelspec": {
   "display_name": "Python 3",
   "language": "python",
   "name": "python3"
  },
  "language_info": {
   "codemirror_mode": {
    "name": "ipython",
    "version": 3
   },
   "file_extension": ".py",
   "mimetype": "text/x-python",
   "name": "python",
   "nbconvert_exporter": "python",
   "pygments_lexer": "ipython3",
   "version": "3.6.5"
  }
 },
 "nbformat": 4,
 "nbformat_minor": 2
}
