{
 "cells": [
  {
   "cell_type": "code",
   "execution_count": null,
   "metadata": {},
   "outputs": [],
   "source": [
    "import pandas as pd\n",
    "import os\n",
    "import seaborn as sns\n",
    "from statsmodels.regression.linear_model import OLS, WLS\n",
    "import statsmodels.regression.linear_model as lm\n",
    "import statsmodels.stats.diagnostic as smsdia\n",
    "import statsmodels.stats.outliers_influence as oi\n",
    "import numpy as np\n",
    "%matplotlib inline"
   ]
  },
  {
   "cell_type": "code",
   "execution_count": null,
   "metadata": {},
   "outputs": [],
   "source": [
    "bp = pd.read_csv('/Users/hari/Data/Building_Permits_Issued.csv')"
   ]
  },
  {
   "cell_type": "code",
   "execution_count": null,
   "metadata": {
    "scrolled": false
   },
   "outputs": [],
   "source": [
    "bp.head()"
   ]
  },
  {
   "cell_type": "code",
   "execution_count": null,
   "metadata": {},
   "outputs": [],
   "source": [
    "building = bp.loc[bp['Permit Type Description'].str.contains('Building')]"
   ]
  },
  {
   "cell_type": "code",
   "execution_count": null,
   "metadata": {},
   "outputs": [],
   "source": [
    "new_building = building.loc[building['Permit Type Description'].str.contains('New')]"
   ]
  },
  {
   "cell_type": "code",
   "execution_count": null,
   "metadata": {},
   "outputs": [],
   "source": [
    "demolition = bp.loc[bp['Permit Type Description'].str.contains('Demolition')]"
   ]
  },
  {
   "cell_type": "code",
   "execution_count": null,
   "metadata": {},
   "outputs": [],
   "source": [
    "res_demolition = demolition.loc[demolition['Permit Subtype Description'].str.contains('Residential')]"
   ]
  },
  {
   "cell_type": "code",
   "execution_count": null,
   "metadata": {},
   "outputs": [],
   "source": [
    "merged = pd.merge(new_building, res_demolition, how='outer')"
   ]
  },
  {
   "cell_type": "code",
   "execution_count": null,
   "metadata": {
    "scrolled": false
   },
   "outputs": [],
   "source": [
    "#bp.loc[bp['Permit Subtype'].isin(['CAZ01A001', 'CAZ01A002'])]"
   ]
  },
  {
   "cell_type": "code",
   "execution_count": null,
   "metadata": {},
   "outputs": [],
   "source": [
    "merged_sf = merged.loc[merged['Permit Subtype Description'].str.contains('Single Family Residence')]"
   ]
  },
  {
   "cell_type": "code",
   "execution_count": null,
   "metadata": {
    "scrolled": false
   },
   "outputs": [],
   "source": [
    "merged_sf.head()"
   ]
  },
  {
   "cell_type": "code",
   "execution_count": null,
   "metadata": {},
   "outputs": [],
   "source": [
    "new_commercial = ['CAA03R299', 'CAA03R301', 'CAA03R398', 'CAA03R399', 'CAA05R202']"
   ]
  },
  {
   "cell_type": "code",
   "execution_count": null,
   "metadata": {},
   "outputs": [],
   "source": [
    "new_residential = ['CAA01R301', 'CAA02R302', 'CAA03R298', 'CAA03R299', 'CAA03R301', 'CAA03R398', 'CAA03R399', 'CAA04R301', 'CAA05R202', 'CAA08R301', 'CAA10R301', 'CAZ08A001', 'DPLX2CNDO']"
   ]
  },
  {
   "cell_type": "code",
   "execution_count": null,
   "metadata": {},
   "outputs": [],
   "source": [
    "matched = pd.merge(bp.loc[bp['Permit Subtype'].isin(['CAZ01A001', 'CAZ01A002'])], new_building.loc[new_building['Permit Subtype'].isin(new_commercial + new_residential)], on = 'Address')\n"
   ]
  },
  {
   "cell_type": "code",
   "execution_count": null,
   "metadata": {},
   "outputs": [],
   "source": [
    "#bp['Permit Type Description'].value_counts()"
   ]
  },
  {
   "cell_type": "code",
   "execution_count": null,
   "metadata": {},
   "outputs": [],
   "source": [
    "#bp['Permit Subtype Description'].value_counts()"
   ]
  },
  {
   "cell_type": "code",
   "execution_count": null,
   "metadata": {},
   "outputs": [],
   "source": [
    "commercialdemo = bp.loc[bp['Permit Subtype']== 'CAZ01A001']"
   ]
  },
  {
   "cell_type": "code",
   "execution_count": null,
   "metadata": {},
   "outputs": [],
   "source": [
    "sf_2009 = pd.read_csv('/Users/hari/Data/2009 single family_final_with_sqft.txt', dtype={'AddressPostalCode': 'str'})\n",
    "sf_2013 = pd.read_csv('/Users/hari/Data/2013 single family_final_with_sqft.txt',dtype={'AddressPostalCode': 'str'})\n",
    "sf_2017 = pd.read_csv('/Users/hari/Data/2017 single family_final_with_sqft.txt',dtype={'AddressPostalCode': 'str'})"
   ]
  },
  {
   "cell_type": "code",
   "execution_count": null,
   "metadata": {},
   "outputs": [],
   "source": [
    "sf_2017.loc[sf_2017.AddressFullAddress== '605 SUMMIT OAKS CT']\n",
    "\n",
    "#building = bp.loc[bp['Permit Type Description'].str.contains('Building')]"
   ]
  },
  {
   "cell_type": "code",
   "execution_count": null,
   "metadata": {
    "scrolled": false
   },
   "outputs": [],
   "source": [
    "print(sf_2009.shape)\n",
    "print(sf_2009.columns)\n",
    "print(sf_2009.duplicated().sum())\n",
    "#sf_2009.loc[sf_2009.duplicated(),:]"
   ]
  },
  {
   "cell_type": "code",
   "execution_count": null,
   "metadata": {
    "scrolled": true
   },
   "outputs": [],
   "source": [
    "print(sf_2013.shape)\n",
    "print(sf_2013.columns)\n",
    "print(sf_2013.duplicated().sum())\n"
   ]
  },
  {
   "cell_type": "code",
   "execution_count": null,
   "metadata": {
    "scrolled": false
   },
   "outputs": [],
   "source": [
    "print(sf_2017.shape)\n",
    "print(sf_2017.duplicated().sum())\n",
    "sf_2017.sort_values(ascending =False, by ='2017 TOTAL APPR').describe()"
   ]
  },
  {
   "cell_type": "code",
   "execution_count": null,
   "metadata": {},
   "outputs": [],
   "source": [
    "sf_2017.isnull().sum()"
   ]
  },
  {
   "cell_type": "code",
   "execution_count": null,
   "metadata": {},
   "outputs": [],
   "source": [
    "sf1 = pd.merge(sf_2009, sf_2013, on= 'AddressFullAddress', how = 'outer',suffixes = ('_f','_s'))\n",
    "sf1.columns\n",
    "\n",
    "sf1.rename(columns = {'FinishedArea_f' : '2009_FinishedArea', 'FinishedArea_s' : '2013_FinishedArea'}, inplace = True)\n",
    "\n",
    "sf1['APN']= sf1['APN_f'].where(sf1['APN_s'].isnull(), sf1['APN_s'])\n",
    "sf1['DistrictCode']= sf1['DistrictCode_f'].where(sf1['DistrictCode_s'].isnull(), sf1['DistrictCode_s'])\n",
    "sf1['Council District']= sf1['Council District_f'].where(sf1['Council District_s'].isnull(), sf1['Council District_s'])\n",
    "sf1['AddressCity']= sf1['AddressCity_f'].where(sf1['AddressCity_s'].isnull(), sf1['AddressCity_s'])\n",
    "sf1['AddressPostalCode']= sf1['AddressPostalCode_f'].where(sf1['AddressPostalCode_s'].isnull(), sf1['AddressPostalCode_s'])\n",
    "#sf1['FinishedArea']= sf1['FinishedArea_f'].where(sf1['FinishedArea_s'].isnull(), sf1['FinishedArea_s'])\n",
    "sf1.columns\n",
    "\n",
    "sf1.drop(['APN_f','DistrictCode_f','Council District_f','AddressCity_f',\n",
    "          'AddressPostalCode_f','DistrictCode_s','Council District_s','AddressCity_s','APN_s','AddressPostalCode_s'], axis = 1,inplace = True)\n",
    "\n",
    "final_sf = pd.merge(sf1, sf_2017,on= 'AddressFullAddress', how = 'outer', suffixes = ('_m','_n'),indicator = True)\n",
    "final_sf.columns\n",
    "\n",
    "final_sf.rename(columns = {'FinishedArea': '2017_FinishedArea'}, inplace = True)\n",
    "\n",
    "final_sf['APN']= final_sf['APN_m'].where(final_sf['APN_n'].isnull(), final_sf['APN_n'])\n",
    "final_sf['DistrictCode']= final_sf['DistrictCode_m'].where(final_sf['DistrictCode_n'].isnull(), final_sf['DistrictCode_n'])\n",
    "final_sf['Council District']= final_sf['Council District_m'].where(final_sf['Council District_n'].isnull(), final_sf['Council District_n'])\n",
    "final_sf['AddressCity']= final_sf['AddressCity_m'].where(final_sf['AddressCity_n'].isnull(), final_sf['AddressCity_n'])\n",
    "final_sf['AddressPostalCode']= final_sf['AddressPostalCode_m'].where(final_sf['AddressPostalCode_n'].isnull(), final_sf['AddressPostalCode_n'])\n",
    "#final_sf['FinishedArea']= final_sf['FinishedArea_m'].where(final_sf['FinishedArea_n'].isnull(), final_sf['FinishedArea_n'])\n",
    "\n",
    "\n",
    "final_sf.drop(['APN_m','DistrictCode_m','Council District_m','AddressCity_m',\n",
    "          'AddressPostalCode_m','DistrictCode_n','Council District_n','AddressCity_n','APN_n','AddressPostalCode_n'], axis = 1, inplace = True)\n",
    "final_sf.columns\n",
    "\n",
    "final_sf.drop_duplicates(keep ='first', inplace = True)\n",
    "\n"
   ]
  },
  {
   "cell_type": "code",
   "execution_count": null,
   "metadata": {},
   "outputs": [],
   "source": [
    "final_sf.head()"
   ]
  },
  {
   "cell_type": "code",
   "execution_count": null,
   "metadata": {},
   "outputs": [],
   "source": [
    "final_sf.isnull().sum(axis = 0)\n",
    "# count_nan = len(final_sf) - final_sf.count()\n",
    "#final_sf.columns"
   ]
  },
  {
   "cell_type": "code",
   "execution_count": null,
   "metadata": {},
   "outputs": [],
   "source": [
    "final_sf['Pct_Change_2009_2013'] = (final_sf['2013 TOTAL APPR'] - final_sf['2009 TOTAL APPR']) / final_sf['2009 TOTAL APPR']*100\n",
    "final_sf['Pct_Change_2013_2017'] = (final_sf['2017 TOTAL APPR'] - final_sf['2013 TOTAL APPR']) / final_sf['2013 TOTAL APPR']*100\n",
    "final_sf['Pct_Change_2009_2017'] = (final_sf['2017 TOTAL APPR'] - final_sf['2009 TOTAL APPR']) / final_sf['2009 TOTAL APPR']*100"
   ]
  },
  {
   "cell_type": "code",
   "execution_count": null,
   "metadata": {},
   "outputs": [],
   "source": [
    "final_sf.shape"
   ]
  },
  {
   "cell_type": "code",
   "execution_count": null,
   "metadata": {},
   "outputs": [],
   "source": [
    "r = 0.05 #Annual interest rate\n",
    "y = 30 #Length of mortgage (years)\n",
    "n = 12*y # Number of monthly payments\n",
    "d = 0.05 # Down payment percentage\n",
    "final_sf['Mortgage_Per_Year_2009'] = 12* (1-d)*final_sf['2009 TOTAL APPR'] * r/12 *(1+r/12)**n / ((1+r/12)**n -1)\n",
    "final_sf['Mortgage_Per_Year_2013'] = 12*(1-d)*final_sf['2013 TOTAL APPR'] * r/12 *(1+r/12)**n / ((1+r/12)**n -1)\n",
    "final_sf['Mortgage_Per_Year_2017'] = 12*(1-d)*final_sf['2017 TOTAL APPR'] * r/12 *(1+r/12)**n / ((1+r/12)**n -1)"
   ]
  },
  {
   "cell_type": "code",
   "execution_count": null,
   "metadata": {},
   "outputs": [],
   "source": [
    "final_sf.head()"
   ]
  },
  {
   "cell_type": "code",
   "execution_count": null,
   "metadata": {},
   "outputs": [],
   "source": [
    "#final_sf.groupby('Council District').Pct_Change_2013_2017.mean().nlargest(5)"
   ]
  },
  {
   "cell_type": "code",
   "execution_count": null,
   "metadata": {},
   "outputs": [],
   "source": [
    "final_sf.groupby('AddressPostalCode').Pct_Change_2013_2017.mean().nlargest(5)"
   ]
  },
  {
   "cell_type": "code",
   "execution_count": null,
   "metadata": {},
   "outputs": [],
   "source": [
    "final_sf.groupby('Council District').Pct_Change_2009_2017.mean().nlargest(5)"
   ]
  },
  {
   "cell_type": "code",
   "execution_count": null,
   "metadata": {},
   "outputs": [],
   "source": [
    "# number of homes fell in 30% Affordable housing in 2009 based on 6% increase in AMI from 2009 t0 2017\n",
    "final_sf.loc[final_sf['Mortgage_Per_Year_2009'] < 64900*.6*.3].AddressFullAddress.count()\n",
    "#aff30.sort_values(ascending = False, by='2009 TOTAL APPR' ).columns"
   ]
  },
  {
   "cell_type": "code",
   "execution_count": null,
   "metadata": {},
   "outputs": [],
   "source": [
    "# number of homes fell in 30% Affordable housing in 2013\n",
    "final_sf.loc[final_sf['Mortgage_Per_Year_2013'] < 62300*.6*.3].AddressFullAddress.count()"
   ]
  },
  {
   "cell_type": "code",
   "execution_count": null,
   "metadata": {
    "scrolled": false
   },
   "outputs": [],
   "source": [
    "# number of homes fell in 30% Affordable housing in 2013\n",
    "final_sf.loc[final_sf['Mortgage_Per_Year_2017'] < 68000*.6*.3].AddressFullAddress.count()"
   ]
  },
  {
   "cell_type": "code",
   "execution_count": null,
   "metadata": {},
   "outputs": [],
   "source": [
    "aff30= final_sf[(final_sf['Mortgage_Per_Year_2009'] < 64900*.6*.3) \n",
    "                 & (final_sf['Mortgage_Per_Year_2013'] < 62300*.6*.3) \n",
    "                 &(final_sf['Mortgage_Per_Year_2017'] < 68000*.6*.3)]"
   ]
  },
  {
   "cell_type": "code",
   "execution_count": null,
   "metadata": {},
   "outputs": [],
   "source": [
    "aff30.head()"
   ]
  },
  {
   "cell_type": "code",
   "execution_count": null,
   "metadata": {},
   "outputs": [],
   "source": [
    "print(aff30.groupby('Council District').Pct_Change_2009_2013.mean().nlargest(10))\n",
    "print(aff30.groupby('AddressCity').Pct_Change_2009_2013.mean().nlargest(10))"
   ]
  },
  {
   "cell_type": "code",
   "execution_count": null,
   "metadata": {},
   "outputs": [],
   "source": [
    "from plotly import __version__\n",
    "print(__version__) # it should be above 1.9\n",
    "import cufflinks as cf\n",
    "from plotly.offline import download_plotlyjs, init_notebook_mode,plot,iplot\n",
    "# connected = True, plotly connects pandas to interactive java library\n",
    "import colorlover as cl\n",
    "init_notebook_mode(connected=True)\n",
    "print(cf.__version__)\n",
    "cf.go_offline()"
   ]
  },
  {
   "cell_type": "code",
   "execution_count": null,
   "metadata": {},
   "outputs": [],
   "source": [
    "#aff30.sort_values(ascending = False, by = '2017 TOTAL APPR')"
   ]
  },
  {
   "cell_type": "code",
   "execution_count": null,
   "metadata": {},
   "outputs": [],
   "source": [
    "aff30.loc[aff30['AddressPostalCode']=='37228']"
   ]
  },
  {
   "cell_type": "code",
   "execution_count": null,
   "metadata": {},
   "outputs": [],
   "source": [
    "aff_cds = aff30.groupby('Council District',as_index=False)['2009 TOTAL APPR', '2013 TOTAL APPR','2017 TOTAL APPR','Pct_Change_2009_2013','Pct_Change_2013_2017','Pct_Change_2009_2017'].mean()\n",
    "aff_cds['Council District'] = pd.to_numeric(aff_cds['Council District'])\n",
    "aff_cds.sort_values(ascending = False, by = 'Pct_Change_2009_2017')"
   ]
  },
  {
   "cell_type": "code",
   "execution_count": null,
   "metadata": {},
   "outputs": [],
   "source": [
    "aff_cds.describe()"
   ]
  },
  {
   "cell_type": "code",
   "execution_count": null,
   "metadata": {},
   "outputs": [],
   "source": [
    "aff_cds.iplot(kind = 'scatter',x = 'Council District', y = ['Pct_Change_2009_2013','Pct_Change_2013_2017','Pct_Change_2009_2017'],\n",
    "              xTitle='Council District',yTitle='Pct_Change_2009_2013',title='Percentage Change in affordable Housing in Each council district', ticks='outside')\n"
   ]
  },
  {
   "cell_type": "code",
   "execution_count": null,
   "metadata": {},
   "outputs": [],
   "source": [
    "aff_cds.iplot(kind='box')"
   ]
  },
  {
   "cell_type": "code",
   "execution_count": null,
   "metadata": {},
   "outputs": [],
   "source": []
  },
  {
   "cell_type": "code",
   "execution_count": null,
   "metadata": {},
   "outputs": [],
   "source": [
    "aff_cds.sort_values(ascending = False, by = 'Pct_Change_2009_2013')"
   ]
  },
  {
   "cell_type": "code",
   "execution_count": null,
   "metadata": {},
   "outputs": [],
   "source": [
    "ryb = cl.scales['11']['div']['RdYlGn']; ryb\n",
    "color = ['blue','yellow','green','purple', 'red','violet','pink', 'black',\n",
    "         'lightgrey','orange', 'blue','yellow','Cyan','green','purple', \n",
    "         'violet','pink', 'black','lightgrey','orange','red','violet','pink', \n",
    "         'black','lightgrey','orange', 'blue','orange','red','violet','pink', \n",
    "         'black','lightgrey','orange', 'blue']"
   ]
  },
  {
   "cell_type": "code",
   "execution_count": null,
   "metadata": {
    "scrolled": false
   },
   "outputs": [],
   "source": [
    "aff_cds.iplot(kind = 'bubble', x='Council District',y='Pct_Change_2009_2013'\n",
    "              ,size = 'Pct_Change_2009_2017', xTitle='Council District',yTitle='Pct_Change_2009_2013',\n",
    "              title='Percentage Change in affordable Housing in Each council district', ticks='outside', color = color)\n",
    "aff_cds.iplot(kind = 'bubble', x='Council District',y='Pct_Change_2013_2017'\n",
    "              ,size = 'Pct_Change_2009_2017', xTitle='Council District',yTitle='Pct_Change_2013_2017',\n",
    "              title='Percentage Change in affordable Housing in Each council district', ticks='outside',color = color)\n",
    "aff_cds.iplot(kind = 'bubble', x='Council District',y='Pct_Change_2009_2017'\n",
    "              ,size = 'Pct_Change_2009_2017', xTitle='Council District',yTitle='Pct_Change_2009_2017',\n",
    "              title='Percentage Change in affordable Housing in Each council district', ticks='outside',color = color)"
   ]
  },
  {
   "cell_type": "code",
   "execution_count": null,
   "metadata": {},
   "outputs": [],
   "source": [
    "affcity = aff30.groupby('AddressCity',as_index=False)['2009 TOTAL APPR', '2013 TOTAL APPR','2017 TOTAL APPR','Pct_Change_2009_2013','Pct_Change_2013_2017','Pct_Change_2009_2017'].mean()\n",
    "#aff2009['AddressPostalCode'] = pd.to_numeric(aff2009['AddressPostalCode'])\n",
    "affcity.set_index('AddressCity')"
   ]
  },
  {
   "cell_type": "code",
   "execution_count": null,
   "metadata": {},
   "outputs": [],
   "source": [
    "affcity.iplot(kind = 'bubble', x='AddressCity',y='Pct_Change_2009_2013',size = 'Pct_Change_2009_2013',\n",
    "             xTitle='Council District',yTitle='Pct_Change_2009_2013',\n",
    "                  title='Percentage Change in affordable Housing 2009-2013 by City', ticks='outside')\n",
    "affcity.iplot(kind = 'bubble', x='AddressCity',y='Pct_Change_2013_2017',size = 'Pct_Change_2013_2017',\n",
    "             xTitle='Council District',yTitle='Pct_Change_2013_2017',\n",
    "                  title='Percentage Change in affordable Housing 2013-2017 by City', ticks='outside')\n",
    "affcity.iplot(kind = 'bubble', x='AddressCity',y='Pct_Change_2009_2017',size = 'Pct_Change_2009_2017',\n",
    "             xTitle='Council District',yTitle='Pct_Change_2009_2017',\n",
    "                  title='Percentage Change in affordable Housing 2009-2017  by City', ticks='outside')\n"
   ]
  },
  {
   "cell_type": "code",
   "execution_count": null,
   "metadata": {},
   "outputs": [],
   "source": [
    "workforce_aff= final_sf[(final_sf['Mortgage_Per_Year_2009'] < 64900*.6*.3) \n",
    "                 & (final_sf['Mortgage_Per_Year_2013'] < 62300*.6*.3) \n",
    "                 &(final_sf['Mortgage_Per_Year_2017'] < 68000*.6*.3)]\n"
   ]
  },
  {
   "cell_type": "code",
   "execution_count": null,
   "metadata": {},
   "outputs": [],
   "source": [
    "tax_2016 = pd.read_csv('/Users/hari/Data/2016tax.csv')\n",
    "tax_2016.head()"
   ]
  },
  {
   "cell_type": "code",
   "execution_count": null,
   "metadata": {},
   "outputs": [],
   "source": [
    "tax_2016.loc[tax_2016.STATE=='TN']"
   ]
  }
 ],
 "metadata": {
  "kernelspec": {
   "display_name": "Python 3",
   "language": "python",
   "name": "python3"
  },
  "language_info": {
   "codemirror_mode": {
    "name": "ipython",
    "version": 3
   },
   "file_extension": ".py",
   "mimetype": "text/x-python",
   "name": "python",
   "nbconvert_exporter": "python",
   "pygments_lexer": "ipython3",
   "version": "3.6.6"
  }
 },
 "nbformat": 4,
 "nbformat_minor": 2
}
