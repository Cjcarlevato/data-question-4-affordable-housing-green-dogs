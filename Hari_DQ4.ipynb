{
 "cells": [
  {
   "cell_type": "code",
   "execution_count": 1,
   "metadata": {},
   "outputs": [],
   "source": [
    "import pandas as pd\n",
    "import os\n",
    "import seaborn as sns"
   ]
  },
  {
   "cell_type": "code",
   "execution_count": 2,
   "metadata": {},
   "outputs": [
    {
     "name": "stderr",
     "output_type": "stream",
     "text": [
      "/Users/hari/anaconda3/envs/NSSdatascience/lib/python3.6/site-packages/IPython/core/interactiveshell.py:2785: DtypeWarning: Columns (0) have mixed types. Specify dtype option on import or set low_memory=False.\n",
      "  interactivity=interactivity, compiler=compiler, result=result)\n"
     ]
    }
   ],
   "source": [
    "bp = pd.read_csv('/Users/hari/Data/Building_Permits_Issued.csv')"
   ]
  },
  {
   "cell_type": "code",
   "execution_count": 3,
   "metadata": {
    "scrolled": false
   },
   "outputs": [
    {
     "data": {
      "text/html": [
       "<div>\n",
       "<style scoped>\n",
       "    .dataframe tbody tr th:only-of-type {\n",
       "        vertical-align: middle;\n",
       "    }\n",
       "\n",
       "    .dataframe tbody tr th {\n",
       "        vertical-align: top;\n",
       "    }\n",
       "\n",
       "    .dataframe thead th {\n",
       "        text-align: right;\n",
       "    }\n",
       "</style>\n",
       "<table border=\"1\" class=\"dataframe\">\n",
       "  <thead>\n",
       "    <tr style=\"text-align: right;\">\n",
       "      <th></th>\n",
       "      <th>Permit #</th>\n",
       "      <th>Permit Type Description</th>\n",
       "      <th>Permit Subtype Description</th>\n",
       "      <th>Parcel</th>\n",
       "      <th>Date Entered</th>\n",
       "      <th>Date Issued</th>\n",
       "      <th>Const. Cost</th>\n",
       "      <th>Address</th>\n",
       "      <th>City</th>\n",
       "      <th>State</th>\n",
       "      <th>Zip</th>\n",
       "      <th>Subdivision/Lot</th>\n",
       "      <th>Contact</th>\n",
       "      <th>Permit Type</th>\n",
       "      <th>Permit Subtype</th>\n",
       "      <th>IVR Trk#</th>\n",
       "      <th>Purpose</th>\n",
       "      <th>Council Dist</th>\n",
       "      <th>Census Tract</th>\n",
       "      <th>Mapped Location</th>\n",
       "    </tr>\n",
       "  </thead>\n",
       "  <tbody>\n",
       "    <tr>\n",
       "      <th>0</th>\n",
       "      <td>2018002927</td>\n",
       "      <td>Building Residential - New</td>\n",
       "      <td>Single Family Residence</td>\n",
       "      <td>081160R00100CO</td>\n",
       "      <td>01/18/2018</td>\n",
       "      <td>02/12/2018</td>\n",
       "      <td>206150.0</td>\n",
       "      <td>1017A  MONROE ST</td>\n",
       "      <td>NASHVILLE</td>\n",
       "      <td>TN</td>\n",
       "      <td>37208</td>\n",
       "      <td>UNIT A 1017 MONROE</td>\n",
       "      <td>TRISTAR CONSTRUCTION, INC</td>\n",
       "      <td>CARN</td>\n",
       "      <td>CAA01R301</td>\n",
       "      <td>3439281</td>\n",
       "      <td>to construct 1830SF single family residence wi...</td>\n",
       "      <td>19.0</td>\n",
       "      <td>37019400.0</td>\n",
       "      <td>1017A MONROE ST\\nNASHVILLE, TN 37208\\n(36.1740...</td>\n",
       "    </tr>\n",
       "    <tr>\n",
       "      <th>1</th>\n",
       "      <td>201617929</td>\n",
       "      <td>Building Use &amp; Occupancy</td>\n",
       "      <td>Tents, Stages</td>\n",
       "      <td>09215014800</td>\n",
       "      <td>04/19/2016</td>\n",
       "      <td>04/21/2016</td>\n",
       "      <td>2000.0</td>\n",
       "      <td>2300  WEST END AVE</td>\n",
       "      <td>NASHVILLE</td>\n",
       "      <td>TN</td>\n",
       "      <td>37203</td>\n",
       "      <td>N W CORNER WEST END AVE &amp; 23RD AVE N</td>\n",
       "      <td>Music City Tents &amp; Events Llc</td>\n",
       "      <td>CAUO</td>\n",
       "      <td>CAZ06A001</td>\n",
       "      <td>2116751</td>\n",
       "      <td>PERMIT TO ERECT 1:40X85 TENT. THIS TENT IS BEI...</td>\n",
       "      <td>21.0</td>\n",
       "      <td>37016500.0</td>\n",
       "      <td>2300 WEST END AVE\\nNASHVILLE, TN 37203\\n(36.14...</td>\n",
       "    </tr>\n",
       "    <tr>\n",
       "      <th>2</th>\n",
       "      <td>2016049270</td>\n",
       "      <td>Building Sign Permit</td>\n",
       "      <td>Sign - Ground /  Wall Signs</td>\n",
       "      <td>11909014000</td>\n",
       "      <td>09/14/2016</td>\n",
       "      <td>09/14/2016</td>\n",
       "      <td>15000.0</td>\n",
       "      <td>2802  NOLENSVILLE PIKE</td>\n",
       "      <td>NASHVILLE</td>\n",
       "      <td>TN</td>\n",
       "      <td>37211</td>\n",
       "      <td>PT LOT 2 PATTERSON SUB</td>\n",
       "      <td>BOZMAN SIGN CO INC</td>\n",
       "      <td>CASN</td>\n",
       "      <td>CAZ02A001</td>\n",
       "      <td>3277064</td>\n",
       "      <td>to install replacement signage for existing fr...</td>\n",
       "      <td>16.0</td>\n",
       "      <td>37017300.0</td>\n",
       "      <td>2802 NOLENSVILLE PIKE\\nNASHVILLE, TN 37211\\n(3...</td>\n",
       "    </tr>\n",
       "    <tr>\n",
       "      <th>3</th>\n",
       "      <td>2016029907</td>\n",
       "      <td>Building Residential - Roofing / Siding</td>\n",
       "      <td>Duplex</td>\n",
       "      <td>075150A13900CO</td>\n",
       "      <td>06/20/2016</td>\n",
       "      <td>06/20/2016</td>\n",
       "      <td>17648.0</td>\n",
       "      <td>139  STONERS GLEN DR</td>\n",
       "      <td>HERMITAGE</td>\n",
       "      <td>TN</td>\n",
       "      <td>37076</td>\n",
       "      <td>UNIT 139 STONERS GLEN PHASE 1</td>\n",
       "      <td>MR ROOF NASHVILLE, LLC</td>\n",
       "      <td>CARK</td>\n",
       "      <td>CAA02R302</td>\n",
       "      <td>3251947</td>\n",
       "      <td>Remove existing shingles and replace with new ...</td>\n",
       "      <td>12.0</td>\n",
       "      <td>37015623.0</td>\n",
       "      <td>139 STONERS GLEN DR\\nHERMITAGE, TN 37076\\n(36....</td>\n",
       "    </tr>\n",
       "    <tr>\n",
       "      <th>4</th>\n",
       "      <td>201533533</td>\n",
       "      <td>Building Residential - Tenant Finish Out</td>\n",
       "      <td>Multifamily, Tri-Plex, Quad, Apartments</td>\n",
       "      <td>10404024100</td>\n",
       "      <td>08/07/2015</td>\n",
       "      <td>11/17/2015</td>\n",
       "      <td>542696.0</td>\n",
       "      <td>70  MUSIC SQ W</td>\n",
       "      <td>NASHVILLE</td>\n",
       "      <td>TN</td>\n",
       "      <td>37203</td>\n",
       "      <td>LOT 1 O.B. HAYES FIRST PLAN CONSOLIDATION OF L...</td>\n",
       "      <td>Construction Enterprises Inc</td>\n",
       "      <td>CART</td>\n",
       "      <td>CAA03R398</td>\n",
       "      <td>2061885</td>\n",
       "      <td>SEE MASTER PERMIT T2015-26520...T.....GRAND AV...</td>\n",
       "      <td>19.0</td>\n",
       "      <td>37016400.0</td>\n",
       "      <td>70 MUSIC SQ W\\nNASHVILLE, TN 37203\\n(36.147074...</td>\n",
       "    </tr>\n",
       "  </tbody>\n",
       "</table>\n",
       "</div>"
      ],
      "text/plain": [
       "     Permit #                   Permit Type Description  \\\n",
       "0  2018002927                Building Residential - New   \n",
       "1   201617929                  Building Use & Occupancy   \n",
       "2  2016049270                      Building Sign Permit   \n",
       "3  2016029907   Building Residential - Roofing / Siding   \n",
       "4   201533533  Building Residential - Tenant Finish Out   \n",
       "\n",
       "                Permit Subtype Description          Parcel Date Entered  \\\n",
       "0                  Single Family Residence  081160R00100CO   01/18/2018   \n",
       "1                            Tents, Stages     09215014800   04/19/2016   \n",
       "2              Sign - Ground /  Wall Signs     11909014000   09/14/2016   \n",
       "3                                   Duplex  075150A13900CO   06/20/2016   \n",
       "4  Multifamily, Tri-Plex, Quad, Apartments     10404024100   08/07/2015   \n",
       "\n",
       "  Date Issued  Const. Cost                 Address       City State    Zip  \\\n",
       "0  02/12/2018     206150.0        1017A  MONROE ST  NASHVILLE    TN  37208   \n",
       "1  04/21/2016       2000.0      2300  WEST END AVE  NASHVILLE    TN  37203   \n",
       "2  09/14/2016      15000.0  2802  NOLENSVILLE PIKE  NASHVILLE    TN  37211   \n",
       "3  06/20/2016      17648.0    139  STONERS GLEN DR  HERMITAGE    TN  37076   \n",
       "4  11/17/2015     542696.0          70  MUSIC SQ W  NASHVILLE    TN  37203   \n",
       "\n",
       "                                     Subdivision/Lot  \\\n",
       "0                                 UNIT A 1017 MONROE   \n",
       "1               N W CORNER WEST END AVE & 23RD AVE N   \n",
       "2                             PT LOT 2 PATTERSON SUB   \n",
       "3                      UNIT 139 STONERS GLEN PHASE 1   \n",
       "4  LOT 1 O.B. HAYES FIRST PLAN CONSOLIDATION OF L...   \n",
       "\n",
       "                         Contact Permit Type Permit Subtype  IVR Trk#  \\\n",
       "0      TRISTAR CONSTRUCTION, INC        CARN      CAA01R301   3439281   \n",
       "1  Music City Tents & Events Llc        CAUO      CAZ06A001   2116751   \n",
       "2             BOZMAN SIGN CO INC        CASN      CAZ02A001   3277064   \n",
       "3         MR ROOF NASHVILLE, LLC        CARK      CAA02R302   3251947   \n",
       "4   Construction Enterprises Inc        CART      CAA03R398   2061885   \n",
       "\n",
       "                                             Purpose  Council Dist  \\\n",
       "0  to construct 1830SF single family residence wi...          19.0   \n",
       "1  PERMIT TO ERECT 1:40X85 TENT. THIS TENT IS BEI...          21.0   \n",
       "2  to install replacement signage for existing fr...          16.0   \n",
       "3  Remove existing shingles and replace with new ...          12.0   \n",
       "4  SEE MASTER PERMIT T2015-26520...T.....GRAND AV...          19.0   \n",
       "\n",
       "   Census Tract                                    Mapped Location  \n",
       "0    37019400.0  1017A MONROE ST\\nNASHVILLE, TN 37208\\n(36.1740...  \n",
       "1    37016500.0  2300 WEST END AVE\\nNASHVILLE, TN 37203\\n(36.14...  \n",
       "2    37017300.0  2802 NOLENSVILLE PIKE\\nNASHVILLE, TN 37211\\n(3...  \n",
       "3    37015623.0  139 STONERS GLEN DR\\nHERMITAGE, TN 37076\\n(36....  \n",
       "4    37016400.0  70 MUSIC SQ W\\nNASHVILLE, TN 37203\\n(36.147074...  "
      ]
     },
     "execution_count": 3,
     "metadata": {},
     "output_type": "execute_result"
    }
   ],
   "source": [
    "bp.head()"
   ]
  },
  {
   "cell_type": "code",
   "execution_count": 4,
   "metadata": {},
   "outputs": [],
   "source": [
    "building = bp.loc[bp['Permit Type Description'].str.contains('Building')]"
   ]
  },
  {
   "cell_type": "code",
   "execution_count": 5,
   "metadata": {},
   "outputs": [],
   "source": [
    "new_building = building.loc[building['Permit Type Description'].str.contains('New')]"
   ]
  },
  {
   "cell_type": "code",
   "execution_count": 6,
   "metadata": {},
   "outputs": [],
   "source": [
    "demolition = bp.loc[bp['Permit Type Description'].str.contains('Demolition')]"
   ]
  },
  {
   "cell_type": "code",
   "execution_count": 7,
   "metadata": {},
   "outputs": [],
   "source": [
    "res_demolition = demolition.loc[demolition['Permit Subtype Description'].str.contains('Residential')]"
   ]
  },
  {
   "cell_type": "code",
   "execution_count": 8,
   "metadata": {},
   "outputs": [],
   "source": [
    "merged = pd.merge(new_building, res_demolition, how='outer')"
   ]
  },
  {
   "cell_type": "code",
   "execution_count": 9,
   "metadata": {
    "scrolled": false
   },
   "outputs": [],
   "source": [
    "#bp.loc[bp['Permit Subtype'].isin(['CAZ01A001', 'CAZ01A002'])]"
   ]
  },
  {
   "cell_type": "code",
   "execution_count": 10,
   "metadata": {},
   "outputs": [],
   "source": [
    "merged_sf = merged.loc[merged['Permit Subtype Description'].str.contains('Single Family Residence')]"
   ]
  },
  {
   "cell_type": "code",
   "execution_count": 11,
   "metadata": {
    "scrolled": false
   },
   "outputs": [
    {
     "data": {
      "text/html": [
       "<div>\n",
       "<style scoped>\n",
       "    .dataframe tbody tr th:only-of-type {\n",
       "        vertical-align: middle;\n",
       "    }\n",
       "\n",
       "    .dataframe tbody tr th {\n",
       "        vertical-align: top;\n",
       "    }\n",
       "\n",
       "    .dataframe thead th {\n",
       "        text-align: right;\n",
       "    }\n",
       "</style>\n",
       "<table border=\"1\" class=\"dataframe\">\n",
       "  <thead>\n",
       "    <tr style=\"text-align: right;\">\n",
       "      <th></th>\n",
       "      <th>Permit #</th>\n",
       "      <th>Permit Type Description</th>\n",
       "      <th>Permit Subtype Description</th>\n",
       "      <th>Parcel</th>\n",
       "      <th>Date Entered</th>\n",
       "      <th>Date Issued</th>\n",
       "      <th>Const. Cost</th>\n",
       "      <th>Address</th>\n",
       "      <th>City</th>\n",
       "      <th>State</th>\n",
       "      <th>Zip</th>\n",
       "      <th>Subdivision/Lot</th>\n",
       "      <th>Contact</th>\n",
       "      <th>Permit Type</th>\n",
       "      <th>Permit Subtype</th>\n",
       "      <th>IVR Trk#</th>\n",
       "      <th>Purpose</th>\n",
       "      <th>Council Dist</th>\n",
       "      <th>Census Tract</th>\n",
       "      <th>Mapped Location</th>\n",
       "    </tr>\n",
       "  </thead>\n",
       "  <tbody>\n",
       "    <tr>\n",
       "      <th>0</th>\n",
       "      <td>2018002927</td>\n",
       "      <td>Building Residential - New</td>\n",
       "      <td>Single Family Residence</td>\n",
       "      <td>081160R00100CO</td>\n",
       "      <td>01/18/2018</td>\n",
       "      <td>02/12/2018</td>\n",
       "      <td>206150.0</td>\n",
       "      <td>1017A  MONROE ST</td>\n",
       "      <td>NASHVILLE</td>\n",
       "      <td>TN</td>\n",
       "      <td>37208</td>\n",
       "      <td>UNIT A 1017 MONROE</td>\n",
       "      <td>TRISTAR CONSTRUCTION, INC</td>\n",
       "      <td>CARN</td>\n",
       "      <td>CAA01R301</td>\n",
       "      <td>3439281</td>\n",
       "      <td>to construct 1830SF single family residence wi...</td>\n",
       "      <td>19.0</td>\n",
       "      <td>37019400.0</td>\n",
       "      <td>1017A MONROE ST\\nNASHVILLE, TN 37208\\n(36.1740...</td>\n",
       "    </tr>\n",
       "    <tr>\n",
       "      <th>1</th>\n",
       "      <td>2017032777</td>\n",
       "      <td>Building Residential - New</td>\n",
       "      <td>Single Family Residence</td>\n",
       "      <td>072103B00300CO</td>\n",
       "      <td>05/17/2017</td>\n",
       "      <td>05/24/2017</td>\n",
       "      <td>226201.0</td>\n",
       "      <td>1037  FAIRWIN AVE</td>\n",
       "      <td>NASHVILLE</td>\n",
       "      <td>TN</td>\n",
       "      <td>37216</td>\n",
       "      <td>UNIT 3 2619 GALLATIN PIKE TOWNHOMES</td>\n",
       "      <td>PARAGON GROUP LLC</td>\n",
       "      <td>CARN</td>\n",
       "      <td>CAA01R301</td>\n",
       "      <td>3367050</td>\n",
       "      <td>to construct 2008Sf single family residence wi...</td>\n",
       "      <td>5.0</td>\n",
       "      <td>37011400.0</td>\n",
       "      <td>1037 FAIRWIN AVE\\nNASHVILLE, TN 37216\\n(36.198...</td>\n",
       "    </tr>\n",
       "    <tr>\n",
       "      <th>5</th>\n",
       "      <td>2016069036</td>\n",
       "      <td>Building Residential - New</td>\n",
       "      <td>Single Family Residence</td>\n",
       "      <td>070070C00100CO</td>\n",
       "      <td>12/09/2016</td>\n",
       "      <td>12/28/2016</td>\n",
       "      <td>235213.0</td>\n",
       "      <td>1012A  ALICE ST</td>\n",
       "      <td>NASHVILLE</td>\n",
       "      <td>TN</td>\n",
       "      <td>37218</td>\n",
       "      <td>UNIT 1012A 1012 ALICE AVENUE</td>\n",
       "      <td>CROWN INDUSTRIES LLC</td>\n",
       "      <td>CARN</td>\n",
       "      <td>CAA01R301</td>\n",
       "      <td>3301562</td>\n",
       "      <td>To construct Unit A of  1012 Alice Ave of new ...</td>\n",
       "      <td>2.0</td>\n",
       "      <td>37012801.0</td>\n",
       "      <td>1012A ALICE ST\\nNASHVILLE, TN 37218\\n(36.20332...</td>\n",
       "    </tr>\n",
       "    <tr>\n",
       "      <th>7</th>\n",
       "      <td>201614829</td>\n",
       "      <td>Building Residential - New</td>\n",
       "      <td>Single Family Residence</td>\n",
       "      <td>01200025600</td>\n",
       "      <td>04/04/2016</td>\n",
       "      <td>06/27/2016</td>\n",
       "      <td>456678.0</td>\n",
       "      <td>2121  BAKER RD</td>\n",
       "      <td>GOODLETTSVILLE</td>\n",
       "      <td>TN</td>\n",
       "      <td>37072</td>\n",
       "      <td>N/S BAKER RD W OF OLD DICKERSON PK</td>\n",
       "      <td>Pettis Builders, Llc</td>\n",
       "      <td>CARN</td>\n",
       "      <td>CAA01R301</td>\n",
       "      <td>2112744</td>\n",
       "      <td>CONSTRUCT A SINGLE FAMILY HOME ON THE PROPERTY...</td>\n",
       "      <td>10.0</td>\n",
       "      <td>37010202.0</td>\n",
       "      <td>2121 BAKER RD\\nGOODLETTSVILLE, TN 37072\\n(36.3...</td>\n",
       "    </tr>\n",
       "    <tr>\n",
       "      <th>8</th>\n",
       "      <td>2017000049</td>\n",
       "      <td>Building Residential - New</td>\n",
       "      <td>Single Family Residence</td>\n",
       "      <td>164100A43100CO</td>\n",
       "      <td>01/03/2017</td>\n",
       "      <td>01/09/2017</td>\n",
       "      <td>268107.0</td>\n",
       "      <td>704  ABERCORN CT</td>\n",
       "      <td>ANTIOCH</td>\n",
       "      <td>TN</td>\n",
       "      <td>37013</td>\n",
       "      <td>LOT 79 SUMMERFIELD SUBDIVISION VILLAGE TEN</td>\n",
       "      <td>NVR, INC. T/A RYAN HOMES</td>\n",
       "      <td>CARN</td>\n",
       "      <td>CAA01R301</td>\n",
       "      <td>3306701</td>\n",
       "      <td>TO CONSTRUCT A NEW SINGLE FAMILY RES AT 2380 S...</td>\n",
       "      <td>32.0</td>\n",
       "      <td>37015630.0</td>\n",
       "      <td>704 ABERCORN CT\\nANTIOCH, TN 37013\\n(36.045042...</td>\n",
       "    </tr>\n",
       "  </tbody>\n",
       "</table>\n",
       "</div>"
      ],
      "text/plain": [
       "     Permit #     Permit Type Description Permit Subtype Description  \\\n",
       "0  2018002927  Building Residential - New    Single Family Residence   \n",
       "1  2017032777  Building Residential - New    Single Family Residence   \n",
       "5  2016069036  Building Residential - New    Single Family Residence   \n",
       "7   201614829  Building Residential - New    Single Family Residence   \n",
       "8  2017000049  Building Residential - New    Single Family Residence   \n",
       "\n",
       "           Parcel Date Entered Date Issued  Const. Cost            Address  \\\n",
       "0  081160R00100CO   01/18/2018  02/12/2018     206150.0   1017A  MONROE ST   \n",
       "1  072103B00300CO   05/17/2017  05/24/2017     226201.0  1037  FAIRWIN AVE   \n",
       "5  070070C00100CO   12/09/2016  12/28/2016     235213.0    1012A  ALICE ST   \n",
       "7     01200025600   04/04/2016  06/27/2016     456678.0     2121  BAKER RD   \n",
       "8  164100A43100CO   01/03/2017  01/09/2017     268107.0   704  ABERCORN CT   \n",
       "\n",
       "             City State    Zip                             Subdivision/Lot  \\\n",
       "0       NASHVILLE    TN  37208                          UNIT A 1017 MONROE   \n",
       "1       NASHVILLE    TN  37216         UNIT 3 2619 GALLATIN PIKE TOWNHOMES   \n",
       "5       NASHVILLE    TN  37218                UNIT 1012A 1012 ALICE AVENUE   \n",
       "7  GOODLETTSVILLE    TN  37072          N/S BAKER RD W OF OLD DICKERSON PK   \n",
       "8         ANTIOCH    TN  37013  LOT 79 SUMMERFIELD SUBDIVISION VILLAGE TEN   \n",
       "\n",
       "                     Contact Permit Type Permit Subtype  IVR Trk#  \\\n",
       "0  TRISTAR CONSTRUCTION, INC        CARN      CAA01R301   3439281   \n",
       "1          PARAGON GROUP LLC        CARN      CAA01R301   3367050   \n",
       "5       CROWN INDUSTRIES LLC        CARN      CAA01R301   3301562   \n",
       "7       Pettis Builders, Llc        CARN      CAA01R301   2112744   \n",
       "8   NVR, INC. T/A RYAN HOMES        CARN      CAA01R301   3306701   \n",
       "\n",
       "                                             Purpose  Council Dist  \\\n",
       "0  to construct 1830SF single family residence wi...          19.0   \n",
       "1  to construct 2008Sf single family residence wi...           5.0   \n",
       "5  To construct Unit A of  1012 Alice Ave of new ...           2.0   \n",
       "7  CONSTRUCT A SINGLE FAMILY HOME ON THE PROPERTY...          10.0   \n",
       "8  TO CONSTRUCT A NEW SINGLE FAMILY RES AT 2380 S...          32.0   \n",
       "\n",
       "   Census Tract                                    Mapped Location  \n",
       "0    37019400.0  1017A MONROE ST\\nNASHVILLE, TN 37208\\n(36.1740...  \n",
       "1    37011400.0  1037 FAIRWIN AVE\\nNASHVILLE, TN 37216\\n(36.198...  \n",
       "5    37012801.0  1012A ALICE ST\\nNASHVILLE, TN 37218\\n(36.20332...  \n",
       "7    37010202.0  2121 BAKER RD\\nGOODLETTSVILLE, TN 37072\\n(36.3...  \n",
       "8    37015630.0  704 ABERCORN CT\\nANTIOCH, TN 37013\\n(36.045042...  "
      ]
     },
     "execution_count": 11,
     "metadata": {},
     "output_type": "execute_result"
    }
   ],
   "source": [
    "merged_sf.head()"
   ]
  },
  {
   "cell_type": "code",
   "execution_count": 12,
   "metadata": {},
   "outputs": [],
   "source": [
    "new_commercial = ['CAA03R299', 'CAA03R301', 'CAA03R398', 'CAA03R399', 'CAA05R202']"
   ]
  },
  {
   "cell_type": "code",
   "execution_count": 13,
   "metadata": {},
   "outputs": [],
   "source": [
    "new_residential = ['CAA01R301', 'CAA02R302', 'CAA03R298', 'CAA03R299', 'CAA03R301', 'CAA03R398', 'CAA03R399', 'CAA04R301', 'CAA05R202', 'CAA08R301', 'CAA10R301', 'CAZ08A001', 'DPLX2CNDO']"
   ]
  },
  {
   "cell_type": "code",
   "execution_count": 14,
   "metadata": {},
   "outputs": [],
   "source": [
    "matched = pd.merge(bp.loc[bp['Permit Subtype'].isin(['CAZ01A001', 'CAZ01A002'])], new_building.loc[new_building['Permit Subtype'].isin(new_commercial + new_residential)], on = 'Address')\n"
   ]
  },
  {
   "cell_type": "code",
   "execution_count": 15,
   "metadata": {},
   "outputs": [],
   "source": [
    "#bp['Permit Type Description'].value_counts()"
   ]
  },
  {
   "cell_type": "code",
   "execution_count": 16,
   "metadata": {},
   "outputs": [],
   "source": [
    "#bp['Permit Subtype Description'].value_counts()"
   ]
  },
  {
   "cell_type": "code",
   "execution_count": 17,
   "metadata": {},
   "outputs": [],
   "source": [
    "commercialdemo = bp.loc[bp['Permit Subtype']== 'CAZ01A001']"
   ]
  },
  {
   "cell_type": "code",
   "execution_count": 18,
   "metadata": {},
   "outputs": [],
   "source": [
    "sf_2009 = pd.read_csv('/Users/hari/Data/2009 single family_final_with_sqft.txt')\n",
    "sf_2013 = pd.read_csv('/Users/hari/Data/2013 single family_final_with_sqft.txt')\n",
    "sf_2017 = pd.read_csv('/Users/hari/Data/2017 single family_final_with_sqft.txt')"
   ]
  },
  {
   "cell_type": "code",
   "execution_count": 19,
   "metadata": {},
   "outputs": [
    {
     "data": {
      "text/html": [
       "<div>\n",
       "<style scoped>\n",
       "    .dataframe tbody tr th:only-of-type {\n",
       "        vertical-align: middle;\n",
       "    }\n",
       "\n",
       "    .dataframe tbody tr th {\n",
       "        vertical-align: top;\n",
       "    }\n",
       "\n",
       "    .dataframe thead th {\n",
       "        text-align: right;\n",
       "    }\n",
       "</style>\n",
       "<table border=\"1\" class=\"dataframe\">\n",
       "  <thead>\n",
       "    <tr style=\"text-align: right;\">\n",
       "      <th></th>\n",
       "      <th>APN</th>\n",
       "      <th>DistrictCode</th>\n",
       "      <th>Council District</th>\n",
       "      <th>AddressFullAddress</th>\n",
       "      <th>AddressCity</th>\n",
       "      <th>AddressPostalCode</th>\n",
       "      <th>2017 LAND</th>\n",
       "      <th>2017 IMPR</th>\n",
       "      <th>2017 TOTAL APPR</th>\n",
       "      <th>2017 TOTAL ASSD</th>\n",
       "      <th>FinishedArea</th>\n",
       "    </tr>\n",
       "  </thead>\n",
       "  <tbody>\n",
       "    <tr>\n",
       "      <th>123198</th>\n",
       "      <td>128120B00700CO</td>\n",
       "      <td>USD</td>\n",
       "      <td>22</td>\n",
       "      <td>605 SUMMIT OAKS CT</td>\n",
       "      <td>NASHVILLE</td>\n",
       "      <td>37221</td>\n",
       "      <td>89000</td>\n",
       "      <td>0</td>\n",
       "      <td>89000</td>\n",
       "      <td>22250</td>\n",
       "      <td>0.0</td>\n",
       "    </tr>\n",
       "  </tbody>\n",
       "</table>\n",
       "</div>"
      ],
      "text/plain": [
       "                   APN DistrictCode  Council District  AddressFullAddress  \\\n",
       "123198  128120B00700CO         USD                 22  605 SUMMIT OAKS CT   \n",
       "\n",
       "       AddressCity  AddressPostalCode  2017 LAND  2017 IMPR  2017 TOTAL APPR  \\\n",
       "123198   NASHVILLE              37221      89000          0            89000   \n",
       "\n",
       "        2017 TOTAL ASSD  FinishedArea  \n",
       "123198            22250           0.0  "
      ]
     },
     "execution_count": 19,
     "metadata": {},
     "output_type": "execute_result"
    }
   ],
   "source": [
    "sf_2017.loc[sf_2017.AddressFullAddress== '605 SUMMIT OAKS CT']\n",
    "\n",
    "#building = bp.loc[bp['Permit Type Description'].str.contains('Building')]"
   ]
  },
  {
   "cell_type": "code",
   "execution_count": 20,
   "metadata": {
    "scrolled": false
   },
   "outputs": [
    {
     "name": "stdout",
     "output_type": "stream",
     "text": [
      "(183406, 11)\n",
      "Index(['APN', 'DistrictCode', 'Council District', 'AddressFullAddress',\n",
      "       'AddressCity', 'AddressPostalCode', '2009 LAND', '2009 IMPR',\n",
      "       '2009 TOTAL APPR', '2009 TOTAL ASSD', 'FinishedArea'],\n",
      "      dtype='object')\n",
      "0\n"
     ]
    }
   ],
   "source": [
    "print(sf_2009.shape)\n",
    "print(sf_2009.columns)\n",
    "print(sf_2009.duplicated().sum())\n",
    "#sf_2009.loc[sf_2009.duplicated(),:]"
   ]
  },
  {
   "cell_type": "code",
   "execution_count": 21,
   "metadata": {
    "scrolled": true
   },
   "outputs": [
    {
     "name": "stdout",
     "output_type": "stream",
     "text": [
      "(186269, 11)\n",
      "Index(['APN', 'DistrictCode', 'Council District', 'AddressFullAddress',\n",
      "       'AddressCity', 'AddressPostalCode', '2013 LAND', '2013 IMPR',\n",
      "       '2013 TOTAL APPR', '2013 TOTAL ASSD', 'FinishedArea'],\n",
      "      dtype='object')\n",
      "0\n"
     ]
    }
   ],
   "source": [
    "print(sf_2013.shape)\n",
    "print(sf_2013.columns)\n",
    "print(sf_2013.duplicated().sum())\n"
   ]
  },
  {
   "cell_type": "code",
   "execution_count": 22,
   "metadata": {
    "scrolled": false
   },
   "outputs": [
    {
     "name": "stdout",
     "output_type": "stream",
     "text": [
      "(197114, 11)\n",
      "0\n"
     ]
    },
    {
     "data": {
      "text/html": [
       "<div>\n",
       "<style scoped>\n",
       "    .dataframe tbody tr th:only-of-type {\n",
       "        vertical-align: middle;\n",
       "    }\n",
       "\n",
       "    .dataframe tbody tr th {\n",
       "        vertical-align: top;\n",
       "    }\n",
       "\n",
       "    .dataframe thead th {\n",
       "        text-align: right;\n",
       "    }\n",
       "</style>\n",
       "<table border=\"1\" class=\"dataframe\">\n",
       "  <thead>\n",
       "    <tr style=\"text-align: right;\">\n",
       "      <th></th>\n",
       "      <th>Council District</th>\n",
       "      <th>AddressPostalCode</th>\n",
       "      <th>2017 LAND</th>\n",
       "      <th>2017 IMPR</th>\n",
       "      <th>2017 TOTAL APPR</th>\n",
       "      <th>2017 TOTAL ASSD</th>\n",
       "      <th>FinishedArea</th>\n",
       "    </tr>\n",
       "  </thead>\n",
       "  <tbody>\n",
       "    <tr>\n",
       "      <th>count</th>\n",
       "      <td>197114.000000</td>\n",
       "      <td>197114.000000</td>\n",
       "      <td>1.971140e+05</td>\n",
       "      <td>1.971140e+05</td>\n",
       "      <td>1.971140e+05</td>\n",
       "      <td>1.971140e+05</td>\n",
       "      <td>197114.000000</td>\n",
       "    </tr>\n",
       "    <tr>\n",
       "      <th>mean</th>\n",
       "      <td>18.250211</td>\n",
       "      <td>37164.657051</td>\n",
       "      <td>8.482655e+04</td>\n",
       "      <td>1.932881e+05</td>\n",
       "      <td>2.781146e+05</td>\n",
       "      <td>6.993672e+04</td>\n",
       "      <td>1848.995762</td>\n",
       "    </tr>\n",
       "    <tr>\n",
       "      <th>std</th>\n",
       "      <td>10.330018</td>\n",
       "      <td>111.948534</td>\n",
       "      <td>1.086797e+05</td>\n",
       "      <td>1.966430e+05</td>\n",
       "      <td>2.743975e+05</td>\n",
       "      <td>6.880160e+04</td>\n",
       "      <td>1028.392394</td>\n",
       "    </tr>\n",
       "    <tr>\n",
       "      <th>min</th>\n",
       "      <td>1.000000</td>\n",
       "      <td>0.000000</td>\n",
       "      <td>9.000000e+02</td>\n",
       "      <td>0.000000e+00</td>\n",
       "      <td>2.500000e+03</td>\n",
       "      <td>6.250000e+02</td>\n",
       "      <td>0.000000</td>\n",
       "    </tr>\n",
       "    <tr>\n",
       "      <th>25%</th>\n",
       "      <td>9.000000</td>\n",
       "      <td>37115.000000</td>\n",
       "      <td>3.300000e+04</td>\n",
       "      <td>1.061000e+05</td>\n",
       "      <td>1.497000e+05</td>\n",
       "      <td>3.777500e+04</td>\n",
       "      <td>1208.000000</td>\n",
       "    </tr>\n",
       "    <tr>\n",
       "      <th>50%</th>\n",
       "      <td>19.000000</td>\n",
       "      <td>37207.000000</td>\n",
       "      <td>4.900000e+04</td>\n",
       "      <td>1.507000e+05</td>\n",
       "      <td>2.078000e+05</td>\n",
       "      <td>5.232500e+04</td>\n",
       "      <td>1611.000000</td>\n",
       "    </tr>\n",
       "    <tr>\n",
       "      <th>75%</th>\n",
       "      <td>27.000000</td>\n",
       "      <td>37214.000000</td>\n",
       "      <td>8.500000e+04</td>\n",
       "      <td>2.221000e+05</td>\n",
       "      <td>3.134000e+05</td>\n",
       "      <td>7.877500e+04</td>\n",
       "      <td>2204.000000</td>\n",
       "    </tr>\n",
       "    <tr>\n",
       "      <th>max</th>\n",
       "      <td>35.000000</td>\n",
       "      <td>37221.000000</td>\n",
       "      <td>4.832000e+06</td>\n",
       "      <td>9.911800e+06</td>\n",
       "      <td>1.149580e+07</td>\n",
       "      <td>2.888680e+06</td>\n",
       "      <td>40417.000000</td>\n",
       "    </tr>\n",
       "  </tbody>\n",
       "</table>\n",
       "</div>"
      ],
      "text/plain": [
       "       Council District  AddressPostalCode     2017 LAND     2017 IMPR  \\\n",
       "count     197114.000000      197114.000000  1.971140e+05  1.971140e+05   \n",
       "mean          18.250211       37164.657051  8.482655e+04  1.932881e+05   \n",
       "std           10.330018         111.948534  1.086797e+05  1.966430e+05   \n",
       "min            1.000000           0.000000  9.000000e+02  0.000000e+00   \n",
       "25%            9.000000       37115.000000  3.300000e+04  1.061000e+05   \n",
       "50%           19.000000       37207.000000  4.900000e+04  1.507000e+05   \n",
       "75%           27.000000       37214.000000  8.500000e+04  2.221000e+05   \n",
       "max           35.000000       37221.000000  4.832000e+06  9.911800e+06   \n",
       "\n",
       "       2017 TOTAL APPR  2017 TOTAL ASSD   FinishedArea  \n",
       "count     1.971140e+05     1.971140e+05  197114.000000  \n",
       "mean      2.781146e+05     6.993672e+04    1848.995762  \n",
       "std       2.743975e+05     6.880160e+04    1028.392394  \n",
       "min       2.500000e+03     6.250000e+02       0.000000  \n",
       "25%       1.497000e+05     3.777500e+04    1208.000000  \n",
       "50%       2.078000e+05     5.232500e+04    1611.000000  \n",
       "75%       3.134000e+05     7.877500e+04    2204.000000  \n",
       "max       1.149580e+07     2.888680e+06   40417.000000  "
      ]
     },
     "execution_count": 22,
     "metadata": {},
     "output_type": "execute_result"
    }
   ],
   "source": [
    "print(sf_2017.shape)\n",
    "print(sf_2017.duplicated().sum())\n",
    "sf_2017.sort_values(ascending =False, by ='2017 TOTAL APPR').describe()"
   ]
  },
  {
   "cell_type": "code",
   "execution_count": 23,
   "metadata": {},
   "outputs": [
    {
     "data": {
      "text/plain": [
       "APN                   0\n",
       "DistrictCode          0\n",
       "Council District      0\n",
       "AddressFullAddress    0\n",
       "AddressCity           0\n",
       "AddressPostalCode     0\n",
       "2017 LAND             0\n",
       "2017 IMPR             0\n",
       "2017 TOTAL APPR       0\n",
       "2017 TOTAL ASSD       0\n",
       "FinishedArea          0\n",
       "dtype: int64"
      ]
     },
     "execution_count": 23,
     "metadata": {},
     "output_type": "execute_result"
    }
   ],
   "source": [
    "sf_2017.isnull().sum()"
   ]
  },
  {
   "cell_type": "code",
   "execution_count": 43,
   "metadata": {},
   "outputs": [
    {
     "data": {
      "text/plain": [
       "(201851, 22)"
      ]
     },
     "execution_count": 43,
     "metadata": {},
     "output_type": "execute_result"
    }
   ],
   "source": [
    "sf1 = pd.merge(sf_2009, sf_2013, on= 'AddressFullAddress', how = 'outer',suffixes = ('_f','_s'))\n",
    "sf1.columns\n",
    "\n",
    "sf1.rename(columns = {'FinishedArea_f' : '2009_FinishedArea', 'FinishedArea_s' : '2013_FinishedArea'}, inplace = True)\n",
    "\n",
    "sf1['APN']= sf1['APN_f'].where(sf1['APN_s'].isnull(), sf1['APN_s'])\n",
    "sf1['DistrictCode']= sf1['DistrictCode_f'].where(sf1['DistrictCode_s'].isnull(), sf1['DistrictCode_s'])\n",
    "sf1['Council District']= sf1['Council District_f'].where(sf1['Council District_s'].isnull(), sf1['Council District_s'])\n",
    "sf1['AddressCity']= sf1['AddressCity_f'].where(sf1['AddressCity_s'].isnull(), sf1['AddressCity_s'])\n",
    "sf1['AddressPostalCode']= sf1['AddressPostalCode_f'].where(sf1['AddressPostalCode_s'].isnull(), sf1['AddressPostalCode_s'])\n",
    "#sf1['FinishedArea']= sf1['FinishedArea_f'].where(sf1['FinishedArea_s'].isnull(), sf1['FinishedArea_s'])\n",
    "sf1.columns\n",
    "\n",
    "sf1.drop(['APN_f','DistrictCode_f','Council District_f','AddressCity_f',\n",
    "          'AddressPostalCode_f','DistrictCode_s','Council District_s','AddressCity_s','APN_s','AddressPostalCode_s'], axis = 1,inplace = True)\n",
    "\n",
    "final_sf = pd.merge(sf1, sf_2017,on= 'AddressFullAddress', how = 'outer', suffixes = ('_m','_n'),indicator = True)\n",
    "final_sf.columns\n",
    "\n",
    "final_sf.rename(columns = {'FinishedArea': '2017_FinishedArea'}, inplace = True)\n",
    "\n",
    "final_sf['APN']= final_sf['APN_m'].where(final_sf['APN_n'].isnull(), final_sf['APN_n'])\n",
    "final_sf['DistrictCode']= final_sf['DistrictCode_m'].where(final_sf['DistrictCode_n'].isnull(), final_sf['DistrictCode_n'])\n",
    "final_sf['Council District']= final_sf['Council District_m'].where(final_sf['Council District_n'].isnull(), final_sf['Council District_n'])\n",
    "final_sf['AddressCity']= final_sf['AddressCity_m'].where(final_sf['AddressCity_n'].isnull(), final_sf['AddressCity_n'])\n",
    "final_sf['AddressPostalCode']= final_sf['AddressPostalCode_m'].where(final_sf['AddressPostalCode_n'].isnull(), final_sf['AddressPostalCode_n'])\n",
    "#final_sf['FinishedArea']= final_sf['FinishedArea_m'].where(final_sf['FinishedArea_n'].isnull(), final_sf['FinishedArea_n'])\n",
    "\n",
    "\n",
    "final_sf.drop(['APN_m','DistrictCode_m','Council District_m','AddressCity_m',\n",
    "          'AddressPostalCode_m','DistrictCode_n','Council District_n','AddressCity_n','APN_n','AddressPostalCode_n'], axis = 1, inplace = True)\n",
    "final_sf.columns\n",
    "\n",
    "final_sf.drop_duplicates(keep ='first').shape\n",
    "\n"
   ]
  },
  {
   "cell_type": "code",
   "execution_count": 44,
   "metadata": {},
   "outputs": [
    {
     "data": {
      "text/plain": [
       "(219620, 22)"
      ]
     },
     "execution_count": 44,
     "metadata": {},
     "output_type": "execute_result"
    }
   ],
   "source": [
    "final_sf.shape"
   ]
  },
  {
   "cell_type": "code",
   "execution_count": 45,
   "metadata": {},
   "outputs": [
    {
     "data": {
      "text/plain": [
       "AddressFullAddress        0\n",
       "2009 LAND             17971\n",
       "2009 IMPR             17971\n",
       "2009 TOTAL APPR       17971\n",
       "2009 TOTAL ASSD       17971\n",
       "2009_FinishedArea     17971\n",
       "2013 LAND             15104\n",
       "2013 IMPR             15104\n",
       "2013 TOTAL APPR       15104\n",
       "2013 TOTAL ASSD       15104\n",
       "2013_FinishedArea     15104\n",
       "2017 LAND              4262\n",
       "2017 IMPR              4262\n",
       "2017 TOTAL APPR        4262\n",
       "2017 TOTAL ASSD        4262\n",
       "2017_FinishedArea      4262\n",
       "_merge                    0\n",
       "APN                       0\n",
       "DistrictCode              0\n",
       "Council District          0\n",
       "AddressCity               0\n",
       "AddressPostalCode         0\n",
       "dtype: int64"
      ]
     },
     "execution_count": 45,
     "metadata": {},
     "output_type": "execute_result"
    }
   ],
   "source": [
    "final_sf.isnull().sum(axis = 0)\n",
    "# count_nan = len(final_sf) - final_sf.count()\n",
    "#final_sf.columns"
   ]
  },
  {
   "cell_type": "code",
   "execution_count": 97,
   "metadata": {},
   "outputs": [],
   "source": [
    "final_sf['Pct_Change_2009_2017'] = (final_sf['2017 TOTAL APPR'] - final_sf['2009 TOTAL APPR']) / final_sf['2009 TOTAL APPR']\n",
    "final_sf['Pct_Change_2013_2017'] = (final_sf['2017 TOTAL APPR'] - final_sf['2013 TOTAL APPR']) / final_sf['2013 TOTAL APPR']\n"
   ]
  },
  {
   "cell_type": "code",
   "execution_count": 98,
   "metadata": {},
   "outputs": [
    {
     "data": {
      "text/plain": [
       "(219620, 28)"
      ]
     },
     "execution_count": 98,
     "metadata": {},
     "output_type": "execute_result"
    }
   ],
   "source": [
    "final_sf.shape"
   ]
  },
  {
   "cell_type": "code",
   "execution_count": 99,
   "metadata": {},
   "outputs": [],
   "source": [
    "r = 0.04 #Annual interest rate\n",
    "y = 30 #Length of mortgage (years)\n",
    "n = 12*y # Number of monthly payments\n",
    "d = 0.05 # Down payment percentage\n",
    "final_sf['Mortgage_Per_Month_2009'] = 12* (1-d)*final_sf['2009 TOTAL APPR'] * r/12 *(1+r/12)**n / ((1+r/12)**n -1)\n",
    "final_sf['Mortgage_Per_Month_2013'] = 12*(1-d)*final_sf['2013 TOTAL APPR'] * r/12 *(1+r/12)**n / ((1+r/12)**n -1)\n",
    "final_sf['Mortgage_Per_Month_2017'] = 12*(1-d)*final_sf['2017 TOTAL APPR'] * r/12 *(1+r/12)**n / ((1+r/12)**n -1)"
   ]
  },
  {
   "cell_type": "code",
   "execution_count": 100,
   "metadata": {},
   "outputs": [
    {
     "data": {
      "text/html": [
       "<div>\n",
       "<style scoped>\n",
       "    .dataframe tbody tr th:only-of-type {\n",
       "        vertical-align: middle;\n",
       "    }\n",
       "\n",
       "    .dataframe tbody tr th {\n",
       "        vertical-align: top;\n",
       "    }\n",
       "\n",
       "    .dataframe thead th {\n",
       "        text-align: right;\n",
       "    }\n",
       "</style>\n",
       "<table border=\"1\" class=\"dataframe\">\n",
       "  <thead>\n",
       "    <tr style=\"text-align: right;\">\n",
       "      <th></th>\n",
       "      <th>AddressFullAddress</th>\n",
       "      <th>2009 LAND</th>\n",
       "      <th>2009 IMPR</th>\n",
       "      <th>2009 TOTAL APPR</th>\n",
       "      <th>2009 TOTAL ASSD</th>\n",
       "      <th>2009_FinishedArea</th>\n",
       "      <th>2013 LAND</th>\n",
       "      <th>2013 IMPR</th>\n",
       "      <th>2013 TOTAL APPR</th>\n",
       "      <th>2013 TOTAL ASSD</th>\n",
       "      <th>...</th>\n",
       "      <th>DistrictCode</th>\n",
       "      <th>Council District</th>\n",
       "      <th>AddressCity</th>\n",
       "      <th>AddressPostalCode</th>\n",
       "      <th>Mortgage_Per_Month_2009</th>\n",
       "      <th>Mortgage_Per_Month_2013</th>\n",
       "      <th>Mortgage_Per_Month_2017</th>\n",
       "      <th>Address</th>\n",
       "      <th>Pct_Change_2009_2017</th>\n",
       "      <th>Pct_Change_2013_2017</th>\n",
       "    </tr>\n",
       "  </thead>\n",
       "  <tbody>\n",
       "    <tr>\n",
       "      <th>0</th>\n",
       "      <td>1012 OLD BUCK HILL RD</td>\n",
       "      <td>49800.0</td>\n",
       "      <td>65700.0</td>\n",
       "      <td>115500.0</td>\n",
       "      <td>28875.0</td>\n",
       "      <td>1920.0</td>\n",
       "      <td>43500.0</td>\n",
       "      <td>70500.0</td>\n",
       "      <td>114000.0</td>\n",
       "      <td>28500.0</td>\n",
       "      <td>...</td>\n",
       "      <td>RT</td>\n",
       "      <td>10.0</td>\n",
       "      <td>GOODLETTSVILLE</td>\n",
       "      <td>37072.0</td>\n",
       "      <td>6286.127195</td>\n",
       "      <td>6204.489180</td>\n",
       "      <td>7369.191535</td>\n",
       "      <td>1012 OLD BUCK HILL RD Davidson County , TN</td>\n",
       "      <td>0.172294</td>\n",
       "      <td>0.187719</td>\n",
       "    </tr>\n",
       "    <tr>\n",
       "      <th>1</th>\n",
       "      <td>1109 HIGHLAND AVE</td>\n",
       "      <td>44100.0</td>\n",
       "      <td>88700.0</td>\n",
       "      <td>132800.0</td>\n",
       "      <td>33200.0</td>\n",
       "      <td>1464.0</td>\n",
       "      <td>40100.0</td>\n",
       "      <td>96500.0</td>\n",
       "      <td>136600.0</td>\n",
       "      <td>34150.0</td>\n",
       "      <td>...</td>\n",
       "      <td>RT</td>\n",
       "      <td>10.0</td>\n",
       "      <td>GOODLETTSVILLE</td>\n",
       "      <td>37072.0</td>\n",
       "      <td>7227.685641</td>\n",
       "      <td>7434.501947</td>\n",
       "      <td>8152.916484</td>\n",
       "      <td>1109 HIGHLAND AVE Davidson County , TN</td>\n",
       "      <td>0.128012</td>\n",
       "      <td>0.096633</td>\n",
       "    </tr>\n",
       "    <tr>\n",
       "      <th>2</th>\n",
       "      <td>0 SPRINGFIELD HWY</td>\n",
       "      <td>15000.0</td>\n",
       "      <td>137900.0</td>\n",
       "      <td>152900.0</td>\n",
       "      <td>38225.0</td>\n",
       "      <td>3539.0</td>\n",
       "      <td>15000.0</td>\n",
       "      <td>158400.0</td>\n",
       "      <td>173400.0</td>\n",
       "      <td>43350.0</td>\n",
       "      <td>...</td>\n",
       "      <td>GSD</td>\n",
       "      <td>10.0</td>\n",
       "      <td>GOODLETTSVILLE</td>\n",
       "      <td>37072.0</td>\n",
       "      <td>8321.635049</td>\n",
       "      <td>9437.354595</td>\n",
       "      <td>11053.787302</td>\n",
       "      <td>0 SPRINGFIELD HWY Davidson County , TN</td>\n",
       "      <td>0.328319</td>\n",
       "      <td>0.171280</td>\n",
       "    </tr>\n",
       "    <tr>\n",
       "      <th>3</th>\n",
       "      <td>133 B EAST END RD</td>\n",
       "      <td>41100.0</td>\n",
       "      <td>27000.0</td>\n",
       "      <td>68100.0</td>\n",
       "      <td>17025.0</td>\n",
       "      <td>736.0</td>\n",
       "      <td>32300.0</td>\n",
       "      <td>26900.0</td>\n",
       "      <td>59200.0</td>\n",
       "      <td>14800.0</td>\n",
       "      <td>...</td>\n",
       "      <td>RT</td>\n",
       "      <td>10.0</td>\n",
       "      <td>GOODLETTSVILLE</td>\n",
       "      <td>37072.0</td>\n",
       "      <td>3706.365905</td>\n",
       "      <td>3221.980346</td>\n",
       "      <td>3488.664530</td>\n",
       "      <td>133 B EAST END RD Davidson County , TN</td>\n",
       "      <td>-0.058737</td>\n",
       "      <td>0.082770</td>\n",
       "    </tr>\n",
       "    <tr>\n",
       "      <th>4</th>\n",
       "      <td>141 B EAST END RD</td>\n",
       "      <td>25100.0</td>\n",
       "      <td>60900.0</td>\n",
       "      <td>86000.0</td>\n",
       "      <td>21500.0</td>\n",
       "      <td>1301.0</td>\n",
       "      <td>19700.0</td>\n",
       "      <td>63300.0</td>\n",
       "      <td>83000.0</td>\n",
       "      <td>20750.0</td>\n",
       "      <td>...</td>\n",
       "      <td>RT</td>\n",
       "      <td>10.0</td>\n",
       "      <td>GOODLETTSVILLE</td>\n",
       "      <td>37072.0</td>\n",
       "      <td>4680.579557</td>\n",
       "      <td>4517.303526</td>\n",
       "      <td>5322.798612</td>\n",
       "      <td>141 B EAST END RD Davidson County , TN</td>\n",
       "      <td>0.137209</td>\n",
       "      <td>0.178313</td>\n",
       "    </tr>\n",
       "  </tbody>\n",
       "</table>\n",
       "<p>5 rows × 28 columns</p>\n",
       "</div>"
      ],
      "text/plain": [
       "      AddressFullAddress  2009 LAND  2009 IMPR  2009 TOTAL APPR  \\\n",
       "0  1012 OLD BUCK HILL RD    49800.0    65700.0         115500.0   \n",
       "1      1109 HIGHLAND AVE    44100.0    88700.0         132800.0   \n",
       "2      0 SPRINGFIELD HWY    15000.0   137900.0         152900.0   \n",
       "3      133 B EAST END RD    41100.0    27000.0          68100.0   \n",
       "4      141 B EAST END RD    25100.0    60900.0          86000.0   \n",
       "\n",
       "   2009 TOTAL ASSD  2009_FinishedArea  2013 LAND  2013 IMPR  2013 TOTAL APPR  \\\n",
       "0          28875.0             1920.0    43500.0    70500.0         114000.0   \n",
       "1          33200.0             1464.0    40100.0    96500.0         136600.0   \n",
       "2          38225.0             3539.0    15000.0   158400.0         173400.0   \n",
       "3          17025.0              736.0    32300.0    26900.0          59200.0   \n",
       "4          21500.0             1301.0    19700.0    63300.0          83000.0   \n",
       "\n",
       "   2013 TOTAL ASSD          ...           DistrictCode  Council District  \\\n",
       "0          28500.0          ...                   RT                10.0   \n",
       "1          34150.0          ...                   RT                10.0   \n",
       "2          43350.0          ...                   GSD               10.0   \n",
       "3          14800.0          ...                   RT                10.0   \n",
       "4          20750.0          ...                   RT                10.0   \n",
       "\n",
       "      AddressCity  AddressPostalCode  Mortgage_Per_Month_2009  \\\n",
       "0  GOODLETTSVILLE            37072.0              6286.127195   \n",
       "1  GOODLETTSVILLE            37072.0              7227.685641   \n",
       "2  GOODLETTSVILLE            37072.0              8321.635049   \n",
       "3  GOODLETTSVILLE            37072.0              3706.365905   \n",
       "4  GOODLETTSVILLE            37072.0              4680.579557   \n",
       "\n",
       "   Mortgage_Per_Month_2013 Mortgage_Per_Month_2017  \\\n",
       "0              6204.489180             7369.191535   \n",
       "1              7434.501947             8152.916484   \n",
       "2              9437.354595            11053.787302   \n",
       "3              3221.980346             3488.664530   \n",
       "4              4517.303526             5322.798612   \n",
       "\n",
       "                                      Address Pct_Change_2009_2017  \\\n",
       "0  1012 OLD BUCK HILL RD Davidson County , TN             0.172294   \n",
       "1      1109 HIGHLAND AVE Davidson County , TN             0.128012   \n",
       "2      0 SPRINGFIELD HWY Davidson County , TN             0.328319   \n",
       "3      133 B EAST END RD Davidson County , TN            -0.058737   \n",
       "4      141 B EAST END RD Davidson County , TN             0.137209   \n",
       "\n",
       "   Pct_Change_2013_2017  \n",
       "0              0.187719  \n",
       "1              0.096633  \n",
       "2              0.171280  \n",
       "3              0.082770  \n",
       "4              0.178313  \n",
       "\n",
       "[5 rows x 28 columns]"
      ]
     },
     "execution_count": 100,
     "metadata": {},
     "output_type": "execute_result"
    }
   ],
   "source": [
    "final_sf.head()"
   ]
  },
  {
   "cell_type": "code",
   "execution_count": 101,
   "metadata": {},
   "outputs": [
    {
     "data": {
      "text/plain": [
       "Council District\n",
       "5.0     1.279398\n",
       "20.0    0.785982\n",
       "7.0     0.785426\n",
       "21.0    0.759303\n",
       "6.0     0.743928\n",
       "Name: Pct_Change_2013_2017, dtype: float64"
      ]
     },
     "execution_count": 101,
     "metadata": {},
     "output_type": "execute_result"
    }
   ],
   "source": [
    "final_sf.groupby('Council District').Pct_Change_2013_2017.mean().nlargest(5)"
   ]
  },
  {
   "cell_type": "code",
   "execution_count": 104,
   "metadata": {},
   "outputs": [
    {
     "data": {
      "text/plain": [
       "AddressPostalCode\n",
       "37208.0    0.959193\n",
       "37206.0    0.844198\n",
       "37216.0    0.805598\n",
       "37207.0    0.712720\n",
       "37201.0    0.689954\n",
       "Name: Pct_Change_2013_2017, dtype: float64"
      ]
     },
     "execution_count": 104,
     "metadata": {},
     "output_type": "execute_result"
    }
   ],
   "source": [
    "final_sf.groupby('AddressPostalCode').Pct_Change_2013_2017.mean().nlargest(5)"
   ]
  },
  {
   "cell_type": "code",
   "execution_count": 102,
   "metadata": {},
   "outputs": [
    {
     "data": {
      "text/plain": [
       "Council District\n",
       "5.0     1.352403\n",
       "6.0     1.045688\n",
       "7.0     0.904015\n",
       "17.0    0.903942\n",
       "20.0    0.825503\n",
       "Name: Pct_Change_2009_2017, dtype: float64"
      ]
     },
     "execution_count": 102,
     "metadata": {},
     "output_type": "execute_result"
    }
   ],
   "source": [
    "final_sf.groupby('Council District').Pct_Change_2009_2017.mean().nlargest(5)"
   ]
  },
  {
   "cell_type": "code",
   "execution_count": 103,
   "metadata": {},
   "outputs": [
    {
     "data": {
      "text/plain": [
       "152835"
      ]
     },
     "execution_count": 103,
     "metadata": {},
     "output_type": "execute_result"
    }
   ],
   "source": [
    "# number of homes fell in 30% Affordable housing in 2009 based on 6% increase in AMI from 2009 t0 2017\n",
    "final_sf.loc[final_sf['Mortgage_Per_Month_2009'] <= 11550].AddressFullAddress.count()"
   ]
  },
  {
   "cell_type": "code",
   "execution_count": 77,
   "metadata": {},
   "outputs": [
    {
     "data": {
      "text/plain": [
       "159102"
      ]
     },
     "execution_count": 77,
     "metadata": {},
     "output_type": "execute_result"
    }
   ],
   "source": [
    "# number of homes fell in 30% Affordable housing in 2013\n",
    "final_sf.loc[final_sf['Mortgage_Per_Month_2013'] <= 12240].AddressFullAddress.count()"
   ]
  },
  {
   "cell_type": "code",
   "execution_count": 78,
   "metadata": {},
   "outputs": [
    {
     "data": {
      "text/plain": [
       "127735"
      ]
     },
     "execution_count": 78,
     "metadata": {},
     "output_type": "execute_result"
    }
   ],
   "source": [
    "# number of homes fell in 30% Affordable housing in 2013\n",
    "final_sf.loc[final_sf['Mortgage_Per_Month_2017'] <= 12240].AddressFullAddress.count()"
   ]
  },
  {
   "cell_type": "code",
   "execution_count": null,
   "metadata": {},
   "outputs": [],
   "source": [
    "# final_sf.drop(final_sf.loc['APN_y','DistrictCode_y', 'Council District_y',\n",
    "#                'AddressCity_y','AddressPostalCode_y', 'FinishedArea_y'],axis=1, inplace = True)"
   ]
  },
  {
   "cell_type": "code",
   "execution_count": 61,
   "metadata": {},
   "outputs": [],
   "source": [
    "tax_2016 = pd.read_csv('/Users/hari/Data/2016tax.csv')"
   ]
  },
  {
   "cell_type": "code",
   "execution_count": 63,
   "metadata": {},
   "outputs": [
    {
     "data": {
      "text/html": [
       "<div>\n",
       "<style scoped>\n",
       "    .dataframe tbody tr th:only-of-type {\n",
       "        vertical-align: middle;\n",
       "    }\n",
       "\n",
       "    .dataframe tbody tr th {\n",
       "        vertical-align: top;\n",
       "    }\n",
       "\n",
       "    .dataframe thead th {\n",
       "        text-align: right;\n",
       "    }\n",
       "</style>\n",
       "<table border=\"1\" class=\"dataframe\">\n",
       "  <thead>\n",
       "    <tr style=\"text-align: right;\">\n",
       "      <th></th>\n",
       "      <th>STATEFIPS</th>\n",
       "      <th>STATE</th>\n",
       "      <th>zipcode</th>\n",
       "      <th>agi_stub</th>\n",
       "      <th>N1</th>\n",
       "      <th>mars1</th>\n",
       "      <th>MARS2</th>\n",
       "      <th>MARS4</th>\n",
       "      <th>PREP</th>\n",
       "      <th>N2</th>\n",
       "      <th>...</th>\n",
       "      <th>N10300</th>\n",
       "      <th>A10300</th>\n",
       "      <th>N85530</th>\n",
       "      <th>A85530</th>\n",
       "      <th>N85300</th>\n",
       "      <th>A85300</th>\n",
       "      <th>N11901</th>\n",
       "      <th>A11901</th>\n",
       "      <th>N11902</th>\n",
       "      <th>A11902</th>\n",
       "    </tr>\n",
       "  </thead>\n",
       "  <tbody>\n",
       "    <tr>\n",
       "      <th>0</th>\n",
       "      <td>1</td>\n",
       "      <td>AL</td>\n",
       "      <td>0</td>\n",
       "      <td>1</td>\n",
       "      <td>815440</td>\n",
       "      <td>477700</td>\n",
       "      <td>105350</td>\n",
       "      <td>221200</td>\n",
       "      <td>440830</td>\n",
       "      <td>1296920</td>\n",
       "      <td>...</td>\n",
       "      <td>367320</td>\n",
       "      <td>330066</td>\n",
       "      <td>0</td>\n",
       "      <td>0</td>\n",
       "      <td>0</td>\n",
       "      <td>0</td>\n",
       "      <td>63420</td>\n",
       "      <td>51444</td>\n",
       "      <td>711580</td>\n",
       "      <td>1831661</td>\n",
       "    </tr>\n",
       "    <tr>\n",
       "      <th>1</th>\n",
       "      <td>1</td>\n",
       "      <td>AL</td>\n",
       "      <td>0</td>\n",
       "      <td>2</td>\n",
       "      <td>495830</td>\n",
       "      <td>211930</td>\n",
       "      <td>142340</td>\n",
       "      <td>128890</td>\n",
       "      <td>272440</td>\n",
       "      <td>996240</td>\n",
       "      <td>...</td>\n",
       "      <td>398050</td>\n",
       "      <td>984297</td>\n",
       "      <td>0</td>\n",
       "      <td>0</td>\n",
       "      <td>0</td>\n",
       "      <td>0</td>\n",
       "      <td>74090</td>\n",
       "      <td>110889</td>\n",
       "      <td>416090</td>\n",
       "      <td>1173463</td>\n",
       "    </tr>\n",
       "    <tr>\n",
       "      <th>2</th>\n",
       "      <td>1</td>\n",
       "      <td>AL</td>\n",
       "      <td>0</td>\n",
       "      <td>3</td>\n",
       "      <td>263390</td>\n",
       "      <td>83420</td>\n",
       "      <td>137870</td>\n",
       "      <td>36340</td>\n",
       "      <td>154880</td>\n",
       "      <td>584000</td>\n",
       "      <td>...</td>\n",
       "      <td>253180</td>\n",
       "      <td>1349246</td>\n",
       "      <td>0</td>\n",
       "      <td>0</td>\n",
       "      <td>0</td>\n",
       "      <td>0</td>\n",
       "      <td>64000</td>\n",
       "      <td>143060</td>\n",
       "      <td>195130</td>\n",
       "      <td>543284</td>\n",
       "    </tr>\n",
       "    <tr>\n",
       "      <th>3</th>\n",
       "      <td>1</td>\n",
       "      <td>AL</td>\n",
       "      <td>0</td>\n",
       "      <td>4</td>\n",
       "      <td>167190</td>\n",
       "      <td>29420</td>\n",
       "      <td>124060</td>\n",
       "      <td>10610</td>\n",
       "      <td>99700</td>\n",
       "      <td>421720</td>\n",
       "      <td>...</td>\n",
       "      <td>165830</td>\n",
       "      <td>1425430</td>\n",
       "      <td>0</td>\n",
       "      <td>0</td>\n",
       "      <td>0</td>\n",
       "      <td>0</td>\n",
       "      <td>45020</td>\n",
       "      <td>128920</td>\n",
       "      <td>117410</td>\n",
       "      <td>381329</td>\n",
       "    </tr>\n",
       "    <tr>\n",
       "      <th>4</th>\n",
       "      <td>1</td>\n",
       "      <td>AL</td>\n",
       "      <td>0</td>\n",
       "      <td>5</td>\n",
       "      <td>217440</td>\n",
       "      <td>20240</td>\n",
       "      <td>188080</td>\n",
       "      <td>4880</td>\n",
       "      <td>129410</td>\n",
       "      <td>601040</td>\n",
       "      <td>...</td>\n",
       "      <td>216720</td>\n",
       "      <td>3922449</td>\n",
       "      <td>390</td>\n",
       "      <td>155</td>\n",
       "      <td>60</td>\n",
       "      <td>19</td>\n",
       "      <td>82940</td>\n",
       "      <td>423629</td>\n",
       "      <td>126130</td>\n",
       "      <td>506526</td>\n",
       "    </tr>\n",
       "  </tbody>\n",
       "</table>\n",
       "<p>5 rows × 147 columns</p>\n",
       "</div>"
      ],
      "text/plain": [
       "   STATEFIPS STATE  zipcode  agi_stub      N1   mars1   MARS2   MARS4    PREP  \\\n",
       "0          1    AL        0         1  815440  477700  105350  221200  440830   \n",
       "1          1    AL        0         2  495830  211930  142340  128890  272440   \n",
       "2          1    AL        0         3  263390   83420  137870   36340  154880   \n",
       "3          1    AL        0         4  167190   29420  124060   10610   99700   \n",
       "4          1    AL        0         5  217440   20240  188080    4880  129410   \n",
       "\n",
       "        N2   ...     N10300   A10300  N85530  A85530  N85300  A85300  N11901  \\\n",
       "0  1296920   ...     367320   330066       0       0       0       0   63420   \n",
       "1   996240   ...     398050   984297       0       0       0       0   74090   \n",
       "2   584000   ...     253180  1349246       0       0       0       0   64000   \n",
       "3   421720   ...     165830  1425430       0       0       0       0   45020   \n",
       "4   601040   ...     216720  3922449     390     155      60      19   82940   \n",
       "\n",
       "   A11901  N11902   A11902  \n",
       "0   51444  711580  1831661  \n",
       "1  110889  416090  1173463  \n",
       "2  143060  195130   543284  \n",
       "3  128920  117410   381329  \n",
       "4  423629  126130   506526  \n",
       "\n",
       "[5 rows x 147 columns]"
      ]
     },
     "execution_count": 63,
     "metadata": {},
     "output_type": "execute_result"
    }
   ],
   "source": [
    "tax_2016.head()"
   ]
  },
  {
   "cell_type": "code",
   "execution_count": null,
   "metadata": {},
   "outputs": [],
   "source": [
    "tax_2016.loc[tax_2016.STATE=='TN']"
   ]
  },
  {
   "cell_type": "code",
   "execution_count": 82,
   "metadata": {},
   "outputs": [],
   "source": [
    "from geopy.geocoders import Nominatim"
   ]
  },
  {
   "cell_type": "code",
   "execution_count": 83,
   "metadata": {},
   "outputs": [
    {
     "ename": "NameError",
     "evalue": "name 'np' is not defined",
     "output_type": "error",
     "traceback": [
      "\u001b[0;31m---------------------------------------------------------------------------\u001b[0m",
      "\u001b[0;31mNameError\u001b[0m                                 Traceback (most recent call last)",
      "\u001b[0;32m<ipython-input-83-fdf7fa2a8062>\u001b[0m in \u001b[0;36mget_lat\u001b[0;34m(x)\u001b[0m\n\u001b[1;32m      2\u001b[0m    \u001b[0;32mtry\u001b[0m\u001b[0;34m:\u001b[0m\u001b[0;34m\u001b[0m\u001b[0m\n\u001b[0;32m----> 3\u001b[0;31m        \u001b[0mvalue\u001b[0m \u001b[0;34m=\u001b[0m \u001b[0mgeolocator\u001b[0m\u001b[0;34m.\u001b[0m\u001b[0mgeocode\u001b[0m\u001b[0;34m(\u001b[0m\u001b[0mx\u001b[0m\u001b[0;34m)\u001b[0m\u001b[0;34m.\u001b[0m\u001b[0mlatitude\u001b[0m\u001b[0;34m\u001b[0m\u001b[0m\n\u001b[0m\u001b[1;32m      4\u001b[0m    \u001b[0;32mexcept\u001b[0m\u001b[0;34m:\u001b[0m\u001b[0;34m\u001b[0m\u001b[0m\n",
      "\u001b[0;31mNameError\u001b[0m: name 'geolocator' is not defined",
      "\nDuring handling of the above exception, another exception occurred:\n",
      "\u001b[0;31mNameError\u001b[0m                                 Traceback (most recent call last)",
      "\u001b[0;32m<ipython-input-83-fdf7fa2a8062>\u001b[0m in \u001b[0;36m<module>\u001b[0;34m()\u001b[0m\n\u001b[1;32m      6\u001b[0m    \u001b[0;32mreturn\u001b[0m \u001b[0mvalue\u001b[0m\u001b[0;34m\u001b[0m\u001b[0m\n\u001b[1;32m      7\u001b[0m \u001b[0mfinal_sf\u001b[0m\u001b[0;34m[\u001b[0m\u001b[0;34m'Address'\u001b[0m\u001b[0;34m]\u001b[0m \u001b[0;34m=\u001b[0m \u001b[0mfinal_sf\u001b[0m\u001b[0;34m[\u001b[0m\u001b[0;34m'AddressFullAddress'\u001b[0m\u001b[0;34m]\u001b[0m \u001b[0;34m+\u001b[0m \u001b[0;34m' Davidson County , TN'\u001b[0m\u001b[0;34m\u001b[0m\u001b[0m\n\u001b[0;32m----> 8\u001b[0;31m \u001b[0mfinal_sf\u001b[0m\u001b[0;34m.\u001b[0m\u001b[0miloc\u001b[0m\u001b[0;34m[\u001b[0m\u001b[0;36m0\u001b[0m\u001b[0;34m:\u001b[0m\u001b[0;36m10\u001b[0m\u001b[0;34m,\u001b[0m\u001b[0;34m'lat'\u001b[0m\u001b[0;34m]\u001b[0m \u001b[0;34m=\u001b[0m \u001b[0mfinal_sf\u001b[0m\u001b[0;34m.\u001b[0m\u001b[0miloc\u001b[0m\u001b[0;34m[\u001b[0m\u001b[0;36m0\u001b[0m\u001b[0;34m:\u001b[0m\u001b[0;36m10\u001b[0m\u001b[0;34m]\u001b[0m\u001b[0;34m.\u001b[0m\u001b[0mAddress\u001b[0m\u001b[0;34m.\u001b[0m\u001b[0mapply\u001b[0m\u001b[0;34m(\u001b[0m\u001b[0mget_lat\u001b[0m\u001b[0;34m)\u001b[0m\u001b[0;34m\u001b[0m\u001b[0m\n\u001b[0m",
      "\u001b[0;32m~/anaconda3/envs/NSSdatascience/lib/python3.6/site-packages/pandas/core/series.py\u001b[0m in \u001b[0;36mapply\u001b[0;34m(self, func, convert_dtype, args, **kwds)\u001b[0m\n\u001b[1;32m   3192\u001b[0m             \u001b[0;32melse\u001b[0m\u001b[0;34m:\u001b[0m\u001b[0;34m\u001b[0m\u001b[0m\n\u001b[1;32m   3193\u001b[0m                 \u001b[0mvalues\u001b[0m \u001b[0;34m=\u001b[0m \u001b[0mself\u001b[0m\u001b[0;34m.\u001b[0m\u001b[0mastype\u001b[0m\u001b[0;34m(\u001b[0m\u001b[0mobject\u001b[0m\u001b[0;34m)\u001b[0m\u001b[0;34m.\u001b[0m\u001b[0mvalues\u001b[0m\u001b[0;34m\u001b[0m\u001b[0m\n\u001b[0;32m-> 3194\u001b[0;31m                 \u001b[0mmapped\u001b[0m \u001b[0;34m=\u001b[0m \u001b[0mlib\u001b[0m\u001b[0;34m.\u001b[0m\u001b[0mmap_infer\u001b[0m\u001b[0;34m(\u001b[0m\u001b[0mvalues\u001b[0m\u001b[0;34m,\u001b[0m \u001b[0mf\u001b[0m\u001b[0;34m,\u001b[0m \u001b[0mconvert\u001b[0m\u001b[0;34m=\u001b[0m\u001b[0mconvert_dtype\u001b[0m\u001b[0;34m)\u001b[0m\u001b[0;34m\u001b[0m\u001b[0m\n\u001b[0m\u001b[1;32m   3195\u001b[0m \u001b[0;34m\u001b[0m\u001b[0m\n\u001b[1;32m   3196\u001b[0m         \u001b[0;32mif\u001b[0m \u001b[0mlen\u001b[0m\u001b[0;34m(\u001b[0m\u001b[0mmapped\u001b[0m\u001b[0;34m)\u001b[0m \u001b[0;32mand\u001b[0m \u001b[0misinstance\u001b[0m\u001b[0;34m(\u001b[0m\u001b[0mmapped\u001b[0m\u001b[0;34m[\u001b[0m\u001b[0;36m0\u001b[0m\u001b[0;34m]\u001b[0m\u001b[0;34m,\u001b[0m \u001b[0mSeries\u001b[0m\u001b[0;34m)\u001b[0m\u001b[0;34m:\u001b[0m\u001b[0;34m\u001b[0m\u001b[0m\n",
      "\u001b[0;32mpandas/_libs/src/inference.pyx\u001b[0m in \u001b[0;36mpandas._libs.lib.map_infer\u001b[0;34m()\u001b[0m\n",
      "\u001b[0;32m<ipython-input-83-fdf7fa2a8062>\u001b[0m in \u001b[0;36mget_lat\u001b[0;34m(x)\u001b[0m\n\u001b[1;32m      3\u001b[0m        \u001b[0mvalue\u001b[0m \u001b[0;34m=\u001b[0m \u001b[0mgeolocator\u001b[0m\u001b[0;34m.\u001b[0m\u001b[0mgeocode\u001b[0m\u001b[0;34m(\u001b[0m\u001b[0mx\u001b[0m\u001b[0;34m)\u001b[0m\u001b[0;34m.\u001b[0m\u001b[0mlatitude\u001b[0m\u001b[0;34m\u001b[0m\u001b[0m\n\u001b[1;32m      4\u001b[0m    \u001b[0;32mexcept\u001b[0m\u001b[0;34m:\u001b[0m\u001b[0;34m\u001b[0m\u001b[0m\n\u001b[0;32m----> 5\u001b[0;31m        \u001b[0mvalue\u001b[0m \u001b[0;34m=\u001b[0m \u001b[0mnp\u001b[0m\u001b[0;34m.\u001b[0m\u001b[0mnan\u001b[0m\u001b[0;34m\u001b[0m\u001b[0m\n\u001b[0m\u001b[1;32m      6\u001b[0m    \u001b[0;32mreturn\u001b[0m \u001b[0mvalue\u001b[0m\u001b[0;34m\u001b[0m\u001b[0m\n\u001b[1;32m      7\u001b[0m \u001b[0mfinal_sf\u001b[0m\u001b[0;34m[\u001b[0m\u001b[0;34m'Address'\u001b[0m\u001b[0;34m]\u001b[0m \u001b[0;34m=\u001b[0m \u001b[0mfinal_sf\u001b[0m\u001b[0;34m[\u001b[0m\u001b[0;34m'AddressFullAddress'\u001b[0m\u001b[0;34m]\u001b[0m \u001b[0;34m+\u001b[0m \u001b[0;34m' Davidson County , TN'\u001b[0m\u001b[0;34m\u001b[0m\u001b[0m\n",
      "\u001b[0;31mNameError\u001b[0m: name 'np' is not defined"
     ]
    }
   ],
   "source": [
    "def get_lat(x):\n",
    "   try:\n",
    "       value = geolocator.geocode(x).latitude\n",
    "   except:\n",
    "       value = np.nan\n",
    "   return value\n",
    "final_sf['Address'] = final_sf['AddressFullAddress'] + ' Davidson County , TN'\n",
    "final_sf.iloc[0:10,'lat'] = final_sf.iloc[0:10].Address.apply(get_lat)"
   ]
  },
  {
   "cell_type": "code",
   "execution_count": null,
   "metadata": {},
   "outputs": [],
   "source": []
  }
 ],
 "metadata": {
  "kernelspec": {
   "display_name": "Python 3",
   "language": "python",
   "name": "python3"
  },
  "language_info": {
   "codemirror_mode": {
    "name": "ipython",
    "version": 3
   },
   "file_extension": ".py",
   "mimetype": "text/x-python",
   "name": "python",
   "nbconvert_exporter": "python",
   "pygments_lexer": "ipython3",
   "version": "3.6.6"
  }
 },
 "nbformat": 4,
 "nbformat_minor": 2
}
